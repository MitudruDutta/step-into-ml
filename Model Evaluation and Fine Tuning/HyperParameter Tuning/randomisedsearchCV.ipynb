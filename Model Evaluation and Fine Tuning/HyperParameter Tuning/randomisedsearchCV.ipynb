{
 "cells": [
  {
   "metadata": {},
   "cell_type": "markdown",
   "source": [
    "# Finding the Best Model Efficiently: Hyperparameter Tuning with RandomizedSearchCV 🎲\n",
    "\n",
    "**Hyperparameters** are the settings of a machine learning model that you define *before* the training process. They control the model's structure and how it learns. Finding the right combination of these settings, a process called **hyperparameter tuning**, is crucial for building a high-performing model.\n",
    "\n",
    "While an exhaustive search (`GridSearchCV`) tests every single possible combination, it can be incredibly slow and computationally expensive. A more efficient alternative is **Randomized Search Cross-Validation (`RandomizedSearchCV`)**. Instead of a brute-force approach, it randomly samples a fixed number of combinations from a parameter distribution. This method can often find an excellent model in a fraction of the time, making it a powerful tool for any data scientist.\n"
   ],
   "id": "c3892f23da15201d"
  },
  {
   "metadata": {},
   "cell_type": "markdown",
   "source": [
    "## 1. Setup and Data Generation\n",
    "\n",
    "First, let's set up our environment and create a synthetic dataset. It's a critical best practice to split the data into training and testing sets *before* any tuning to prevent data leakage and get an unbiased evaluation of our final model.\n"
   ],
   "id": "6ddf4fca4a0e2188"
  },
  {
   "metadata": {
    "collapsed": true,
    "ExecuteTime": {
     "end_time": "2025-10-08T18:36:44.762427Z",
     "start_time": "2025-10-08T18:36:44.756409Z"
    }
   },
   "cell_type": "code",
   "source": [
    "import numpy as np\n",
    "import pandas as pd\n",
    "from sklearn.datasets import make_classification\n",
    "from sklearn.model_selection import train_test_split\n",
    "from sklearn.tree import DecisionTreeClassifier\n",
    "from sklearn.model_selection import GridSearchCV, RandomizedSearchCV\n",
    "from scipy.stats import randint\n",
    "\n",
    "# Generate a synthetic dataset and split it\n",
    "X, y = make_classification(\n",
    "    n_samples=1000,\n",
    "    n_features=10,\n",
    "    n_informative=8,\n",
    "    n_redundant=2,\n",
    "    n_classes=2,\n",
    "    random_state=42\n",
    ")\n",
    "X_train, X_test, y_train, y_test = train_test_split(X, y, test_size=0.2, random_state=42)\n",
    "\n",
    "print(f\"Training data shape: {X_train.shape}\")\n",
    "print(f\"Testing data shape: {X_test.shape}\")"
   ],
   "id": "a1f5435238b00292",
   "outputs": [
    {
     "name": "stdout",
     "output_type": "stream",
     "text": [
      "Training data shape: (800, 10)\n",
      "Testing data shape: (200, 10)\n"
     ]
    }
   ],
   "execution_count": 18
  },
  {
   "metadata": {},
   "cell_type": "markdown",
   "source": [
    "## 2. The Baseline: Exhaustive Search with GridSearchCV\n",
    "To appreciate the efficiency of Randomized Search, we'll first establish a baseline using GridSearchCV. This method performs an exhaustive, brute-force search. We'll define a grid of parameters, and it will build and evaluate a model for every single combination using 5-fold cross-validation."
   ],
   "id": "5b02aa8a0bbc8ce3"
  },
  {
   "metadata": {
    "ExecuteTime": {
     "end_time": "2025-10-08T18:37:22.156860Z",
     "start_time": "2025-10-08T18:37:13.523651Z"
    }
   },
   "cell_type": "code",
   "source": [
    "# Define the parameter grid to search exhaustively\n",
    "param_grid = {\n",
    "    'criterion': ['gini', 'entropy'],\n",
    "    'max_depth': [5, 10, 15, 20]\n",
    "}\n",
    "\n",
    "# It will test all 2 * 4 = 8 combinations.\n",
    "grid_search = GridSearchCV(\n",
    "    estimator=DecisionTreeClassifier(random_state=42),\n",
    "    param_grid=param_grid,\n",
    "    cv=5,      # Use 5-fold cross-validation\n",
    "    n_jobs=-1  # Use all available CPU cores\n",
    ")\n",
    "\n",
    "grid_search.fit(X_train, y_train)\n",
    "results_df = pd.DataFrame(grid_search.cv_results_)\n",
    "results_df[['param_criterion', 'param_max_depth', 'mean_test_score', 'rank_test_score']]"
   ],
   "id": "30c297cd21ece848",
   "outputs": [
    {
     "data": {
      "text/plain": [
       "  param_criterion  param_max_depth  mean_test_score  rank_test_score\n",
       "0            gini                5          0.79875                4\n",
       "1            gini               10          0.80125                2\n",
       "2            gini               15          0.79375                6\n",
       "3            gini               20          0.79375                6\n",
       "4         entropy                5          0.79125                8\n",
       "5         entropy               10          0.81375                1\n",
       "6         entropy               15          0.80000                3\n",
       "7         entropy               20          0.79875                5"
      ],
      "text/html": [
       "<div>\n",
       "<style scoped>\n",
       "    .dataframe tbody tr th:only-of-type {\n",
       "        vertical-align: middle;\n",
       "    }\n",
       "\n",
       "    .dataframe tbody tr th {\n",
       "        vertical-align: top;\n",
       "    }\n",
       "\n",
       "    .dataframe thead th {\n",
       "        text-align: right;\n",
       "    }\n",
       "</style>\n",
       "<table border=\"1\" class=\"dataframe\">\n",
       "  <thead>\n",
       "    <tr style=\"text-align: right;\">\n",
       "      <th></th>\n",
       "      <th>param_criterion</th>\n",
       "      <th>param_max_depth</th>\n",
       "      <th>mean_test_score</th>\n",
       "      <th>rank_test_score</th>\n",
       "    </tr>\n",
       "  </thead>\n",
       "  <tbody>\n",
       "    <tr>\n",
       "      <th>0</th>\n",
       "      <td>gini</td>\n",
       "      <td>5</td>\n",
       "      <td>0.79875</td>\n",
       "      <td>4</td>\n",
       "    </tr>\n",
       "    <tr>\n",
       "      <th>1</th>\n",
       "      <td>gini</td>\n",
       "      <td>10</td>\n",
       "      <td>0.80125</td>\n",
       "      <td>2</td>\n",
       "    </tr>\n",
       "    <tr>\n",
       "      <th>2</th>\n",
       "      <td>gini</td>\n",
       "      <td>15</td>\n",
       "      <td>0.79375</td>\n",
       "      <td>6</td>\n",
       "    </tr>\n",
       "    <tr>\n",
       "      <th>3</th>\n",
       "      <td>gini</td>\n",
       "      <td>20</td>\n",
       "      <td>0.79375</td>\n",
       "      <td>6</td>\n",
       "    </tr>\n",
       "    <tr>\n",
       "      <th>4</th>\n",
       "      <td>entropy</td>\n",
       "      <td>5</td>\n",
       "      <td>0.79125</td>\n",
       "      <td>8</td>\n",
       "    </tr>\n",
       "    <tr>\n",
       "      <th>5</th>\n",
       "      <td>entropy</td>\n",
       "      <td>10</td>\n",
       "      <td>0.81375</td>\n",
       "      <td>1</td>\n",
       "    </tr>\n",
       "    <tr>\n",
       "      <th>6</th>\n",
       "      <td>entropy</td>\n",
       "      <td>15</td>\n",
       "      <td>0.80000</td>\n",
       "      <td>3</td>\n",
       "    </tr>\n",
       "    <tr>\n",
       "      <th>7</th>\n",
       "      <td>entropy</td>\n",
       "      <td>20</td>\n",
       "      <td>0.79875</td>\n",
       "      <td>5</td>\n",
       "    </tr>\n",
       "  </tbody>\n",
       "</table>\n",
       "</div>"
      ]
     },
     "execution_count": 19,
     "metadata": {},
     "output_type": "execute_result"
    }
   ],
   "execution_count": 19
  },
  {
   "metadata": {},
   "cell_type": "markdown",
   "source": "This method tested 8 candidates, requiring a total of 40 fits (8 combinations × 5 folds). The best score was 0.81375.",
   "id": "4963cefad713b1f1"
  },
  {
   "metadata": {},
   "cell_type": "markdown",
   "source": [
    "## 3. The Efficient Approach: RandomizedSearchCV\n",
    "Now, let's use RandomizedSearchCV. Instead of a fixed grid, we define a distribution of parameters to sample from. For max_depth, we'll use randint(5, 21), which will randomly pick an integer between 5 and 20.\n",
    "\n",
    "The key parameter is n_iter, which controls how many random combinations we test. We'll set it to 3, a fraction of the 8 combinations GridSearchCV tested."
   ],
   "id": "d67801312ca6208d"
  },
  {
   "metadata": {
    "ExecuteTime": {
     "end_time": "2025-10-08T18:37:45.887510Z",
     "start_time": "2025-10-08T18:37:45.851132Z"
    }
   },
   "cell_type": "code",
   "source": [
    "# Define the parameter distributions to sample from\n",
    "param_dist = {\n",
    "    'criterion': ['gini', 'entropy'],\n",
    "    'max_depth': randint(5, 21) # Sample an integer between 5 and 20\n",
    "}\n",
    "\n",
    "# It will test only 3 random combinations.\n",
    "random_search = RandomizedSearchCV(\n",
    "    estimator=DecisionTreeClassifier(random_state=42),\n",
    "    param_distributions=param_dist,\n",
    "    n_iter=3,      # The number of parameter settings to sample\n",
    "    cv=5,\n",
    "    n_jobs=-1,\n",
    "    random_state=42 # For reproducible sampling\n",
    ")\n",
    "\n",
    "random_search.fit(X_train, y_train)\n",
    "random_results_df = pd.DataFrame(random_search.cv_results_)\n",
    "random_results_df[['param_criterion', 'param_max_depth', 'mean_test_score', 'rank_test_score']]"
   ],
   "id": "6629a337dfb792a6",
   "outputs": [
    {
     "data": {
      "text/plain": [
       "  param_criterion  param_max_depth  mean_test_score  rank_test_score\n",
       "0            gini                8          0.81375                1\n",
       "1            gini               19          0.79375                3\n",
       "2            gini               12          0.79875                2"
      ],
      "text/html": [
       "<div>\n",
       "<style scoped>\n",
       "    .dataframe tbody tr th:only-of-type {\n",
       "        vertical-align: middle;\n",
       "    }\n",
       "\n",
       "    .dataframe tbody tr th {\n",
       "        vertical-align: top;\n",
       "    }\n",
       "\n",
       "    .dataframe thead th {\n",
       "        text-align: right;\n",
       "    }\n",
       "</style>\n",
       "<table border=\"1\" class=\"dataframe\">\n",
       "  <thead>\n",
       "    <tr style=\"text-align: right;\">\n",
       "      <th></th>\n",
       "      <th>param_criterion</th>\n",
       "      <th>param_max_depth</th>\n",
       "      <th>mean_test_score</th>\n",
       "      <th>rank_test_score</th>\n",
       "    </tr>\n",
       "  </thead>\n",
       "  <tbody>\n",
       "    <tr>\n",
       "      <th>0</th>\n",
       "      <td>gini</td>\n",
       "      <td>8</td>\n",
       "      <td>0.81375</td>\n",
       "      <td>1</td>\n",
       "    </tr>\n",
       "    <tr>\n",
       "      <th>1</th>\n",
       "      <td>gini</td>\n",
       "      <td>19</td>\n",
       "      <td>0.79375</td>\n",
       "      <td>3</td>\n",
       "    </tr>\n",
       "    <tr>\n",
       "      <th>2</th>\n",
       "      <td>gini</td>\n",
       "      <td>12</td>\n",
       "      <td>0.79875</td>\n",
       "      <td>2</td>\n",
       "    </tr>\n",
       "  </tbody>\n",
       "</table>\n",
       "</div>"
      ]
     },
     "execution_count": 20,
     "metadata": {},
     "output_type": "execute_result"
    }
   ],
   "execution_count": 20
  },
  {
   "metadata": {
    "ExecuteTime": {
     "end_time": "2025-10-08T18:07:18.394274Z",
     "start_time": "2025-10-08T18:07:18.390167Z"
    }
   },
   "cell_type": "markdown",
   "source": "This search required only 15 fits (3 combinations × 5 folds) and astonishingly found a parameter combination that achieved the exact same best score of 0.81375. This demonstrates the power of randomized search: it can often find a top-performing model in significantly less time.",
   "id": "88ea01ddf59f49c2"
  },
  {
   "metadata": {},
   "cell_type": "markdown",
   "source": [
    "## 4. Identifying the Best Model and Parameters\n",
    "Both search methods provide convenient attributes to access the results. The most important is best_params_, which contains the optimal hyperparameter combination found."
   ],
   "id": "714cda2f70b043f0"
  },
  {
   "metadata": {
    "ExecuteTime": {
     "end_time": "2025-10-08T18:38:17.585329Z",
     "start_time": "2025-10-08T18:38:17.581329Z"
    }
   },
   "cell_type": "code",
   "source": [
    "# Get the best parameters found by RandomizedSearchCV\n",
    "print(f\"Best parameters found: {random_search.best_params_}\")\n",
    "\n",
    "# Get the best cross-validation score achieved\n",
    "print(f\"Best cross-validation score: {random_search.best_score_:.4f}\")\n",
    "\n",
    "# The .best_estimator_ is a model already refit on the entire training set\n",
    "# using the best parameters, ready for prediction.\n",
    "best_model = random_search.best_estimator_\n",
    "print(f\"\\nBest estimator ready for prediction: {best_model}\")"
   ],
   "id": "8a6421bf83f969d3",
   "outputs": [
    {
     "name": "stdout",
     "output_type": "stream",
     "text": [
      "Best parameters found: {'criterion': 'gini', 'max_depth': 8}\n",
      "Best cross-validation score: 0.8138\n",
      "\n",
      "Best estimator ready for prediction: DecisionTreeClassifier(max_depth=8, random_state=42)\n"
     ]
    }
   ],
   "execution_count": 21
  },
  {
   "metadata": {},
   "cell_type": "markdown",
   "source": "**Conclusion:** RandomizedSearchCV is an indispensable tool for efficient hyperparameter tuning. It allows you to explore a wide range of hyperparameter values without the computational burden of an exhaustive search. By making a smart trade-off between runtime and search completeness, it often identifies a model that is as good as, or very close to, the one found by GridSearchCV, but in a fraction of the time.",
   "id": "61428d6803a91b20"
  }
 ],
 "metadata": {
  "kernelspec": {
   "display_name": "Python 3",
   "language": "python",
   "name": "python3"
  },
  "language_info": {
   "codemirror_mode": {
    "name": "ipython",
    "version": 2
   },
   "file_extension": ".py",
   "mimetype": "text/x-python",
   "name": "python",
   "nbconvert_exporter": "python",
   "pygments_lexer": "ipython2",
   "version": "2.7.6"
  }
 },
 "nbformat": 4,
 "nbformat_minor": 5
}
