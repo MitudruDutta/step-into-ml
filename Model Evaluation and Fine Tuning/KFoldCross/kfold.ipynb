{
 "cells": [
  {
   "metadata": {},
   "cell_type": "markdown",
   "source": [
    "# Robust Model Evaluation with K-Fold Cross-Validation 🔄\n",
    "\n",
    "When we evaluate a machine learning model, a single **train-test split** gives us one performance score. However, this score can be lucky or unlucky depending on which specific data points happen to end up in the test set. A different random split might result in a very different score, making it hard to be confident in the model's true performance.\n",
    "\n",
    "**K-Fold Cross-Validation** is a more robust technique that provides a more reliable estimate of how a model will perform on unseen data. It does this by splitting the data into multiple \"folds\" and training and testing the model on each fold, then averaging the results.\n",
    "\n",
    "---"
   ],
   "id": "51bc928df80cb29d"
  },
  {
   "metadata": {},
   "cell_type": "markdown",
   "source": [
    "## 1. The Limitation of a Single Train-Test Split\n",
    "\n",
    "Let's start by training a `LogisticRegression` model on a single 75/25 split of a synthetic dataset.\n"
   ],
   "id": "55b89e9448b21537"
  },
  {
   "metadata": {
    "collapsed": true,
    "ExecuteTime": {
     "end_time": "2025-10-05T19:06:30.343351Z",
     "start_time": "2025-10-05T19:06:23.818372Z"
    }
   },
   "cell_type": "code",
   "outputs": [],
   "execution_count": 1,
   "source": [
    "import numpy as np\n",
    "import matplotlib.pyplot as plt\n",
    "from sklearn.datasets import make_classification\n",
    "from sklearn.linear_model import LogisticRegression\n",
    "from sklearn.model_selection import train_test_split"
   ],
   "id": "68e9ce4b69b0a6aa"
  },
  {
   "metadata": {
    "ExecuteTime": {
     "end_time": "2025-10-05T19:07:46.048782Z",
     "start_time": "2025-10-05T19:07:46.037351Z"
    }
   },
   "cell_type": "code",
   "source": [
    "# Generate and split the data\n",
    "X, y = make_classification(\n",
    "    n_features=10,\n",
    "    n_samples=1000,\n",
    "    n_informative=8,\n",
    "    n_redundant=2,\n",
    "    n_repeated=0,\n",
    "    n_classes=2,\n",
    "    random_state=42\n",
    ")\n",
    "\n",
    "X_train, X_test, y_train, y_test = train_test_split(X, y, test_size=0.25, random_state=42)"
   ],
   "id": "39eb239231f3f40",
   "outputs": [],
   "execution_count": 2
  },
  {
   "metadata": {
    "ExecuteTime": {
     "end_time": "2025-10-05T20:36:20.862516Z",
     "start_time": "2025-10-05T20:36:20.852631Z"
    }
   },
   "cell_type": "code",
   "source": [
    "from sklearn.metrics import classification_report\n",
    "\n",
    "model = LogisticRegression()\n",
    "model.fit(X_train, y_train)\n",
    "y_pred = model.predict(X_test)\n",
    "\n",
    "print(\"--- Performance on a Single Train-Test Split ---\")\n",
    "print(classification_report(y_test, y_pred))"
   ],
   "id": "7b44f2f94251a3c8",
   "outputs": [
    {
     "name": "stdout",
     "output_type": "stream",
     "text": [
      "--- Performance on a Single Train-Test Split ---\n",
      "              precision    recall  f1-score   support\n",
      "\n",
      "           1       1.00      1.00      1.00         1\n",
      "\n",
      "    accuracy                           1.00         1\n",
      "   macro avg       1.00      1.00      1.00         1\n",
      "weighted avg       1.00      1.00      1.00         1\n",
      "\n"
     ]
    }
   ],
   "execution_count": 17
  },
  {
   "metadata": {},
   "cell_type": "markdown",
   "source": "The model's accuracy is **70%**. But how much can we trust this single number? A different `random_state` in `train_test_split` would give us a different score.\n",
   "id": "1d8b3588bc295660"
  },
  {
   "metadata": {},
   "cell_type": "markdown",
   "source": [
    "## 2. How K-Fold Cross-Validation Works\n",
    "\n",
    "K-Fold Cross-Validation addresses this issue. For a **K-Fold** (e.g., with K=5):\n",
    "1.  The dataset is shuffled and split into **5** equal-sized parts, or \"folds\".\n",
    "2.  The model is trained and evaluated **5** times.\n",
    "3.  In each iteration, one fold is held out as the **test set**, and the remaining 4 folds are used for training.\n",
    "4.  The final score is the **average** of the 5 individual scores, providing a more stable and reliable performance estimate.\n",
    "\n",
    "\n",
    "We can set up a `KFold` object in `scikit-learn` to generate the splits. The following code demonstrates how it provides the training and testing indices for each iteration (or \"split\").\n"
   ],
   "id": "8fef03dc44143afc"
  },
  {
   "metadata": {
    "ExecuteTime": {
     "end_time": "2025-10-05T20:39:02.802386Z",
     "start_time": "2025-10-05T20:39:02.798511Z"
    }
   },
   "cell_type": "code",
   "source": [
    "from sklearn.model_selection import KFold\n",
    "\n",
    "kf = KFold(n_splits=5, shuffle=True, random_state=42)\n",
    "\n",
    "# This loop demonstrates how KFold provides indices for each split\n",
    "for train_index, test_index in kf.split(X):\n",
    "    X_train, X_test = X[train_index], X[test_index]\n",
    "    y_train, y_test = y[train_index], y[test_index]\n",
    "    # In a manual implementation, you would train and score a model here"
   ],
   "id": "f88c43bc7f47d1e8",
   "outputs": [],
   "execution_count": 18
  },
  {
   "metadata": {},
   "cell_type": "markdown",
   "source": [
    "## 3. Easy Implementation with `cross_val_score`\n",
    "\n",
    "While you can implement the loop manually, `scikit-learn` provides a convenient helper function, `cross_val_score`, that handles the entire K-Fold process automatically.\n",
    "\n",
    "Let's use it to compare the average performance of three different models on our dataset.\n",
    "\n",
    "### a) Logistic Regression"
   ],
   "id": "64977d575bac1e1f"
  },
  {
   "metadata": {
    "ExecuteTime": {
     "end_time": "2025-10-05T20:39:24.070415Z",
     "start_time": "2025-10-05T20:39:24.055368Z"
    }
   },
   "cell_type": "code",
   "source": [
    "from sklearn.model_selection import cross_val_score\n",
    "\n",
    "scores_logistic = cross_val_score(LogisticRegression(), X, y, cv=kf)\n",
    "np.average(scores_logistic)"
   ],
   "id": "a16de1e4489d7be7",
   "outputs": [
    {
     "data": {
      "text/plain": [
       "0.6950000000000001"
      ]
     },
     "execution_count": 19,
     "metadata": {},
     "output_type": "execute_result"
    }
   ],
   "execution_count": 19
  },
  {
   "metadata": {},
   "cell_type": "markdown",
   "source": "### b) Decision Tree Classifier",
   "id": "5c4bede90c99442e"
  },
  {
   "metadata": {
    "ExecuteTime": {
     "end_time": "2025-10-05T20:39:39.522310Z",
     "start_time": "2025-10-05T20:39:39.488481Z"
    }
   },
   "cell_type": "code",
   "source": [
    "from sklearn.tree import DecisionTreeClassifier\n",
    "\n",
    "scores_dt = cross_val_score(DecisionTreeClassifier(), X, y, cv=kf)\n",
    "np.average(scores_dt)"
   ],
   "id": "acf6272b582ecec0",
   "outputs": [
    {
     "data": {
      "text/plain": [
       "0.7989999999999999"
      ]
     },
     "execution_count": 20,
     "metadata": {},
     "output_type": "execute_result"
    }
   ],
   "execution_count": 20
  },
  {
   "metadata": {},
   "cell_type": "markdown",
   "source": "### c) Random Forest Classifier",
   "id": "5819fe786b6e911a"
  },
  {
   "metadata": {
    "ExecuteTime": {
     "end_time": "2025-10-05T20:39:55.514066Z",
     "start_time": "2025-10-05T20:39:54.363730Z"
    }
   },
   "cell_type": "code",
   "source": [
    "from sklearn.ensemble import RandomForestClassifier\n",
    "\n",
    "scores_rf = cross_val_score(RandomForestClassifier(), X, y, cv=kf)\n",
    "np.average(scores_rf)"
   ],
   "id": "e6e3438d05a56569",
   "outputs": [
    {
     "data": {
      "text/plain": [
       "0.898"
      ]
     },
     "execution_count": 21,
     "metadata": {},
     "output_type": "execute_result"
    }
   ],
   "execution_count": 21
  },
  {
   "metadata": {},
   "cell_type": "markdown",
   "source": "**Conclusion:** The cross-validated scores give us much more confidence in comparing the models. We can see that on average, the **Random Forest Classifier (88.9%)** is the best performer for this dataset.\n",
   "id": "24eb20ef17eba229"
  },
  {
   "metadata": {},
   "cell_type": "markdown",
   "source": [
    "## 4. Getting More Metrics with `cross_validate`\n",
    "\n",
    "If you need more than just a single accuracy score, the `cross_validate` function is even more powerful. It allows you to calculate multiple scoring metrics at once and also returns information about the training time.\n"
   ],
   "id": "ad8b288bd70bbfe0"
  },
  {
   "metadata": {
    "ExecuteTime": {
     "end_time": "2025-10-05T20:40:27.024899Z",
     "start_time": "2025-10-05T20:40:26.987029Z"
    }
   },
   "cell_type": "code",
   "source": [
    "from sklearn.model_selection import cross_validate\n",
    "\n",
    "# Calculate both accuracy and ROC AUC for each fold\n",
    "cross_validate(DecisionTreeClassifier(), X, y, cv=kf, scoring=['accuracy', 'roc_auc'])\n"
   ],
   "id": "1f33f288af51f69b",
   "outputs": [
    {
     "data": {
      "text/plain": [
       "{'fit_time': array([0.00499797, 0.00550818, 0.00450993, 0.00499916, 0.00456381]),\n",
       " 'score_time': array([0.00200343, 0.00100327, 0.00200057, 0.00100136, 0.00200152]),\n",
       " 'test_accuracy': array([0.71 , 0.83 , 0.775, 0.82 , 0.815]),\n",
       " 'test_roc_auc': array([0.70594139, 0.82853141, 0.77661064, 0.8213141 , 0.81643918])}"
      ]
     },
     "execution_count": 22,
     "metadata": {},
     "output_type": "execute_result"
    }
   ],
   "execution_count": 22
  },
  {
   "metadata": {},
   "cell_type": "markdown",
   "source": "The output dictionary contains the results for each of the 5 folds, giving a comprehensive view of the model's performance and consistency.",
   "id": "df2cc34766edee01"
  }
 ],
 "metadata": {
  "kernelspec": {
   "display_name": "Python 3",
   "language": "python",
   "name": "python3"
  },
  "language_info": {
   "codemirror_mode": {
    "name": "ipython",
    "version": 2
   },
   "file_extension": ".py",
   "mimetype": "text/x-python",
   "name": "python",
   "nbconvert_exporter": "python",
   "pygments_lexer": "ipython2",
   "version": "2.7.6"
  }
 },
 "nbformat": 4,
 "nbformat_minor": 5
}
