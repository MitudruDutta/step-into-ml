{
 "cells": [
  {
   "cell_type": "markdown",
   "id": "2ab14833",
   "metadata": {},
   "source": [
    "# Variance Inflation Factor (VIF) Analysis\n",
    "\n",
    "This notebook demonstrates how to detect and handle multicollinearity in feature engineering using Variance Inflation Factor (VIF). We'll work with a salary prediction dataset to show:\n",
    "\n",
    "1. How to calculate VIF values for features\n",
    "2. How to identify problematic multicollinearity \n",
    "3. How to remove highly correlated features\n",
    "4. How to compare model performance before and after feature removal\n",
    "\n",
    "**Dataset**: Salary prediction with features like Years of Experience, Education Level, Age, and Location Factor\n"
   ]
  },
  {
   "cell_type": "markdown",
   "id": "d7910e28",
   "metadata": {},
   "source": [
    "## 1. Data Loading and Initial Exploration\n",
    "\n",
    "Let's start by loading our salary dataset and examining its structure. This dataset contains employee information that we'll use to predict salaries.\n"
   ]
  },
  {
   "cell_type": "code",
   "execution_count": null,
   "id": "a330c486",
   "metadata": {},
   "outputs": [
    {
     "data": {
      "text/html": [
       "<div>\n",
       "<style scoped>\n",
       "    .dataframe tbody tr th:only-of-type {\n",
       "        vertical-align: middle;\n",
       "    }\n",
       "\n",
       "    .dataframe tbody tr th {\n",
       "        vertical-align: top;\n",
       "    }\n",
       "\n",
       "    .dataframe thead th {\n",
       "        text-align: right;\n",
       "    }\n",
       "</style>\n",
       "<table border=\"1\" class=\"dataframe\">\n",
       "  <thead>\n",
       "    <tr style=\"text-align: right;\">\n",
       "      <th></th>\n",
       "      <th>Years of Experience</th>\n",
       "      <th>Education Level</th>\n",
       "      <th>Age</th>\n",
       "      <th>Location Factor</th>\n",
       "      <th>Salary</th>\n",
       "    </tr>\n",
       "  </thead>\n",
       "  <tbody>\n",
       "    <tr>\n",
       "      <th>0</th>\n",
       "      <td>29</td>\n",
       "      <td>1</td>\n",
       "      <td>49</td>\n",
       "      <td>7</td>\n",
       "      <td>124204</td>\n",
       "    </tr>\n",
       "    <tr>\n",
       "      <th>1</th>\n",
       "      <td>27</td>\n",
       "      <td>3</td>\n",
       "      <td>45</td>\n",
       "      <td>4</td>\n",
       "      <td>125948</td>\n",
       "    </tr>\n",
       "    <tr>\n",
       "      <th>2</th>\n",
       "      <td>20</td>\n",
       "      <td>4</td>\n",
       "      <td>41</td>\n",
       "      <td>8</td>\n",
       "      <td>116078</td>\n",
       "    </tr>\n",
       "    <tr>\n",
       "      <th>3</th>\n",
       "      <td>14</td>\n",
       "      <td>4</td>\n",
       "      <td>37</td>\n",
       "      <td>5</td>\n",
       "      <td>106486</td>\n",
       "    </tr>\n",
       "    <tr>\n",
       "      <th>4</th>\n",
       "      <td>20</td>\n",
       "      <td>3</td>\n",
       "      <td>42</td>\n",
       "      <td>7</td>\n",
       "      <td>113297</td>\n",
       "    </tr>\n",
       "  </tbody>\n",
       "</table>\n",
       "</div>"
      ],
      "text/plain": [
       "   Years of Experience  Education Level  Age  Location Factor  Salary\n",
       "0                   29                1   49                7  124204\n",
       "1                   27                3   45                4  125948\n",
       "2                   20                4   41                8  116078\n",
       "3                   14                4   37                5  106486\n",
       "4                   20                3   42                7  113297"
      ]
     },
     "execution_count": 2,
     "metadata": {},
     "output_type": "execute_result"
    }
   ],
   "source": [
    "import pandas as pd\n",
    "from matplotlib import pyplot as plt\n",
    "import seaborn as sns\n",
    "from sklearn.model_selection import train_test_split\n",
    "from sklearn.linear_model import LinearRegression\n",
    "\n",
    "\n",
    "df = pd.read_csv('salaries.csv')\n",
    "df.head()"
   ]
  },
  {
   "cell_type": "markdown",
   "id": "86b2e1df",
   "metadata": {},
   "source": [
    "## 2. Dataset Overview\n",
    "\n",
    "Our dataset contains **1000 samples** with **5 columns** (4 features + 1 target variable):\n",
    "- **Years of Experience**: Number of years working in the field\n",
    "- **Education Level**: Encoded education level (1-4 scale)\n",
    "- **Age**: Employee age in years  \n",
    "- **Location Factor**: Geographic location impact on salary (1-10 scale)\n",
    "- **Salary**: Target variable we want to predict\n",
    "\n",
    "Let's build a baseline model using all features to see the initial performance.\n"
   ]
  },
  {
   "cell_type": "code",
   "execution_count": 3,
   "id": "bbdac269",
   "metadata": {},
   "outputs": [
    {
     "data": {
      "text/plain": [
       "(1000, 5)"
      ]
     },
     "execution_count": 3,
     "metadata": {},
     "output_type": "execute_result"
    }
   ],
   "source": [
    "df.shape"
   ]
  },
  {
   "cell_type": "markdown",
   "id": "aa91d827",
   "metadata": {},
   "source": [
    "## 3. Baseline Model Performance\n",
    "\n",
    "First, let's create a baseline linear regression model using all available features. This will help us understand:\n",
    "- Initial model performance (R² score)\n",
    "- Model coefficients for each feature\n",
    "- How the model makes predictions\n",
    "\n",
    "We'll split the data into training (80%) and testing (20%) sets.\n"
   ]
  },
  {
   "cell_type": "code",
   "execution_count": 4,
   "id": "90a259ef",
   "metadata": {},
   "outputs": [
    {
     "data": {
      "text/plain": [
       "0.9525773624816919"
      ]
     },
     "execution_count": 4,
     "metadata": {},
     "output_type": "execute_result"
    }
   ],
   "source": [
    "X = df.drop('Salary', axis='columns')\n",
    "y = df['Salary']\n",
    "\n",
    "X_train, X_test, y_train, y_test = train_test_split(X, y, test_size=0.2, random_state=10)\n",
    "\n",
    "model_full = LinearRegression()\n",
    "model_full.fit(X_train, y_train)\n",
    "model_full.score(X_test, y_test)"
   ]
  },
  {
   "cell_type": "markdown",
   "id": "55b54264",
   "metadata": {},
   "source": [
    "## 4. Understanding Model Coefficients\n",
    "\n",
    "The baseline model coefficients tell us:\n",
    "- **Years of Experience**: +2114 (each additional year increases salary by ~$2,114)\n",
    "- **Education Level**: +5008 (each education level increases salary by ~$5,008)  \n",
    "- **Age**: -123 (surprisingly, each additional year of age *decreases* salary by $123)\n",
    "- **Location Factor**: +1488 (each location factor point increases salary by ~$1,488)\n",
    "\n",
    "The **negative coefficient for Age** is suspicious and might indicate multicollinearity issues!\n"
   ]
  },
  {
   "cell_type": "code",
   "execution_count": 5,
   "id": "282ad6ac",
   "metadata": {},
   "outputs": [
    {
     "data": {
      "text/plain": [
       "np.float64(52608.4876052824)"
      ]
     },
     "execution_count": 5,
     "metadata": {},
     "output_type": "execute_result"
    }
   ],
   "source": [
    "model_full.intercept_"
   ]
  },
  {
   "cell_type": "code",
   "execution_count": 7,
   "id": "4db65a0c",
   "metadata": {},
   "outputs": [
    {
     "data": {
      "text/plain": [
       "array([2113.98280589, 5007.82035443, -123.21488799, 1487.64526717])"
      ]
     },
     "execution_count": 7,
     "metadata": {},
     "output_type": "execute_result"
    }
   ],
   "source": [
    "model_full.coef_"
   ]
  },
  {
   "cell_type": "code",
   "execution_count": 8,
   "id": "ec566d94",
   "metadata": {},
   "outputs": [
    {
     "data": {
      "text/plain": [
       "841    151272\n",
       "Name: Salary, dtype: int64"
      ]
     },
     "execution_count": 8,
     "metadata": {},
     "output_type": "execute_result"
    }
   ],
   "source": [
    "y_test[:1]"
   ]
  },
  {
   "cell_type": "code",
   "execution_count": 10,
   "id": "f1c8af80",
   "metadata": {},
   "outputs": [
    {
     "data": {
      "text/html": [
       "<div>\n",
       "<style scoped>\n",
       "    .dataframe tbody tr th:only-of-type {\n",
       "        vertical-align: middle;\n",
       "    }\n",
       "\n",
       "    .dataframe tbody tr th {\n",
       "        vertical-align: top;\n",
       "    }\n",
       "\n",
       "    .dataframe thead th {\n",
       "        text-align: right;\n",
       "    }\n",
       "</style>\n",
       "<table border=\"1\" class=\"dataframe\">\n",
       "  <thead>\n",
       "    <tr style=\"text-align: right;\">\n",
       "      <th></th>\n",
       "      <th>Years of Experience</th>\n",
       "      <th>Education Level</th>\n",
       "      <th>Age</th>\n",
       "      <th>Location Factor</th>\n",
       "    </tr>\n",
       "  </thead>\n",
       "  <tbody>\n",
       "    <tr>\n",
       "      <th>841</th>\n",
       "      <td>38</td>\n",
       "      <td>1</td>\n",
       "      <td>56</td>\n",
       "      <td>9</td>\n",
       "    </tr>\n",
       "  </tbody>\n",
       "</table>\n",
       "</div>"
      ],
      "text/plain": [
       "     Years of Experience  Education Level  Age  Location Factor\n",
       "841                   38                1   56                9"
      ]
     },
     "execution_count": 10,
     "metadata": {},
     "output_type": "execute_result"
    }
   ],
   "source": [
    "X_test[:1]"
   ]
  },
  {
   "cell_type": "code",
   "execution_count": 11,
   "id": "cf4ce744",
   "metadata": {},
   "outputs": [
    {
     "data": {
      "text/plain": [
       "array([144436.42826039])"
      ]
     },
     "execution_count": 11,
     "metadata": {},
     "output_type": "execute_result"
    }
   ],
   "source": [
    "model_full.predict(X_test[:1])"
   ]
  },
  {
   "cell_type": "markdown",
   "id": "2df98f9f",
   "metadata": {},
   "source": [
    "## 5. Manual Prediction Verification\n",
    "\n",
    "Let's verify our model's prediction manually using the linear regression equation:\n",
    "\n",
    "**Salary = Intercept + (Experience × Coef₁) + (Education × Coef₂) + (Age × Coef₃) + (Location × Coef₄)**\n",
    "\n",
    "This manual calculation confirms our model is working correctly, but the negative age coefficient suggests we need to investigate multicollinearity.\n"
   ]
  },
  {
   "cell_type": "code",
   "execution_count": 12,
   "id": "322a3e6d",
   "metadata": {},
   "outputs": [
    {
     "data": {
      "text/plain": [
       "np.float64(144436.42826039356)"
      ]
     },
     "execution_count": 12,
     "metadata": {},
     "output_type": "execute_result"
    }
   ],
   "source": [
    "38*model_full.coef_[0] + 1*model_full.coef_[1] + 56*model_full.coef_[2] + 9*model_full.coef_[3] + model_full.intercept_"
   ]
  },
  {
   "cell_type": "markdown",
   "id": "a7e20ae0",
   "metadata": {},
   "source": [
    "## 6. Exploratory Data Analysis\n",
    "\n",
    "Let's visualize the relationship between Age and Salary to understand why we're getting a negative coefficient. This scatter plot will help us see if there's actually a negative correlation or if multicollinearity is causing issues.\n"
   ]
  },
  {
   "cell_type": "code",
   "execution_count": 14,
   "id": "cf9db0ac",
   "metadata": {},
   "outputs": [
    {
     "data": {
      "text/plain": [
       "<Axes: xlabel='Age', ylabel='Salary'>"
      ]
     },
     "execution_count": 14,
     "metadata": {},
     "output_type": "execute_result"
    },
    {
     "data": {
      "image/png": "[encoded data removed]",
      "text/plain": [
       "<Figure size 640x480 with 1 Axes>"
      ]
     },
     "metadata": {},
     "output_type": "display_data"
    }
   ],
   "source": [
    "sns.scatterplot(df, x='Age', y='Salary')"
   ]
  },
  {
   "cell_type": "code",
   "execution_count": 15,
   "id": "ba175f9e",
   "metadata": {},
   "outputs": [
    {
     "data": {
      "image/png": "[encoded data removed]",
      "text/plain": [
       "<Figure size 640x480 with 2 Axes>"
      ]
     },
     "metadata": {},
     "output_type": "display_data"
    }
   ],
   "source": [
    "cm = df.corr()\n",
    "\n",
    "sns.heatmap(cm, annot=True)\n",
    "plt.show()"
   ]
  },
  {
   "cell_type": "markdown",
   "id": "efbecd2e",
   "metadata": {},
   "source": [
    "## 7. Detecting Multicollinearity with VIF\n",
    "\n",
    "Now let's calculate the Variance Inflation Factor (VIF) for each feature. VIF measures how much the variance of a coefficient increases due to collinearity.\n",
    "\n",
    "**VIF Interpretation Guidelines:**\n",
    "- **VIF = 1**: No correlation with other variables\n",
    "- **1 < VIF < 5**: Moderate correlation (acceptable)\n",
    "- **5 ≤ VIF < 10**: High correlation (concerning)\n",
    "- **VIF ≥ 10**: Very high correlation (problematic - action required)\n",
    "\n",
    "We'll create a function to calculate VIF for all features simultaneously.\n"
   ]
  },
  {
   "cell_type": "code",
   "execution_count": 16,
   "id": "f08b2b29",
   "metadata": {},
   "outputs": [],
   "source": [
    "from statsmodels.stats.outliers_influence import variance_inflation_factor\n",
    "\n",
    "def calculate_vif(data):\n",
    "    vif_df = pd.DataFrame()\n",
    "    vif_df['Feature'] = data.columns\n",
    "    vif_df['VIF'] = [variance_inflation_factor(data.values, i) for i in range(data.shape[1])]\n",
    "    return vif_df"
   ]
  },
  {
   "cell_type": "markdown",
   "id": "fd3f24af",
   "metadata": {},
   "source": [
    "## 8. VIF Results Analysis\n",
    "\n",
    "**🚨 Multicollinearity Detected!**\n",
    "\n",
    "Our VIF analysis reveals serious multicollinearity issues:\n",
    "\n",
    "- **Age: VIF = 42.2** - EXTREMELY HIGH! This explains the negative coefficient\n",
    "- **Years of Experience: VIF = 22.3** - VERY HIGH! \n",
    "- **Education Level: VIF = 5.5** - Moderately high\n",
    "- **Location Factor: VIF = 4.3** - Acceptable\n",
    "\n",
    "**Age and Years of Experience are highly correlated** - this makes sense because older employees typically have more experience. This correlation is causing unstable coefficient estimates.\n",
    "\n",
    "**Solution**: Remove the feature with the highest VIF (Age = 42.2)\n"
   ]
  },
  {
   "cell_type": "code",
   "execution_count": 17,
   "id": "9eab0a9b",
   "metadata": {},
   "outputs": [
    {
     "data": {
      "text/html": [
       "<div>\n",
       "<style scoped>\n",
       "    .dataframe tbody tr th:only-of-type {\n",
       "        vertical-align: middle;\n",
       "    }\n",
       "\n",
       "    .dataframe tbody tr th {\n",
       "        vertical-align: top;\n",
       "    }\n",
       "\n",
       "    .dataframe thead th {\n",
       "        text-align: right;\n",
       "    }\n",
       "</style>\n",
       "<table border=\"1\" class=\"dataframe\">\n",
       "  <thead>\n",
       "    <tr style=\"text-align: right;\">\n",
       "      <th></th>\n",
       "      <th>Feature</th>\n",
       "      <th>VIF</th>\n",
       "    </tr>\n",
       "  </thead>\n",
       "  <tbody>\n",
       "    <tr>\n",
       "      <th>0</th>\n",
       "      <td>Years of Experience</td>\n",
       "      <td>22.342087</td>\n",
       "    </tr>\n",
       "    <tr>\n",
       "      <th>1</th>\n",
       "      <td>Education Level</td>\n",
       "      <td>5.472969</td>\n",
       "    </tr>\n",
       "    <tr>\n",
       "      <th>2</th>\n",
       "      <td>Age</td>\n",
       "      <td>42.201149</td>\n",
       "    </tr>\n",
       "    <tr>\n",
       "      <th>3</th>\n",
       "      <td>Location Factor</td>\n",
       "      <td>4.289467</td>\n",
       "    </tr>\n",
       "  </tbody>\n",
       "</table>\n",
       "</div>"
      ],
      "text/plain": [
       "               Feature        VIF\n",
       "0  Years of Experience  22.342087\n",
       "1      Education Level   5.472969\n",
       "2                  Age  42.201149\n",
       "3      Location Factor   4.289467"
      ]
     },
     "execution_count": 17,
     "metadata": {},
     "output_type": "execute_result"
    }
   ],
   "source": [
    "X = df.drop('Salary', axis='columns')\n",
    "calculate_vif(X)"
   ]
  },
  {
   "cell_type": "markdown",
   "id": "8ca22824",
   "metadata": {},
   "source": [
    "## 9. VIF After Removing Age Feature\n",
    "\n",
    "After removing the 'Age' feature (highest VIF = 42.2), let's recalculate VIF values:\n",
    "\n",
    "**Improved Results! ✅**\n",
    "- **Years of Experience: VIF = 3.2** - Now acceptable (was 22.3)\n",
    "- **Education Level: VIF = 3.5** - Acceptable (was 5.5)  \n",
    "- **Location Factor: VIF = 3.2** - Still acceptable\n",
    "\n",
    "All VIF values are now below 5, indicating that multicollinearity has been successfully addressed!\n"
   ]
  },
  {
   "cell_type": "code",
   "execution_count": 18,
   "id": "41bff9aa",
   "metadata": {},
   "outputs": [
    {
     "data": {
      "text/html": [
       "<div>\n",
       "<style scoped>\n",
       "    .dataframe tbody tr th:only-of-type {\n",
       "        vertical-align: middle;\n",
       "    }\n",
       "\n",
       "    .dataframe tbody tr th {\n",
       "        vertical-align: top;\n",
       "    }\n",
       "\n",
       "    .dataframe thead th {\n",
       "        text-align: right;\n",
       "    }\n",
       "</style>\n",
       "<table border=\"1\" class=\"dataframe\">\n",
       "  <thead>\n",
       "    <tr style=\"text-align: right;\">\n",
       "      <th></th>\n",
       "      <th>Feature</th>\n",
       "      <th>VIF</th>\n",
       "    </tr>\n",
       "  </thead>\n",
       "  <tbody>\n",
       "    <tr>\n",
       "      <th>0</th>\n",
       "      <td>Years of Experience</td>\n",
       "      <td>3.198601</td>\n",
       "    </tr>\n",
       "    <tr>\n",
       "      <th>1</th>\n",
       "      <td>Education Level</td>\n",
       "      <td>3.509425</td>\n",
       "    </tr>\n",
       "    <tr>\n",
       "      <th>2</th>\n",
       "      <td>Location Factor</td>\n",
       "      <td>3.231181</td>\n",
       "    </tr>\n",
       "  </tbody>\n",
       "</table>\n",
       "</div>"
      ],
      "text/plain": [
       "               Feature       VIF\n",
       "0  Years of Experience  3.198601\n",
       "1      Education Level  3.509425\n",
       "2      Location Factor  3.231181"
      ]
     },
     "execution_count": 18,
     "metadata": {},
     "output_type": "execute_result"
    }
   ],
   "source": [
    "calculate_vif(X.drop('Age', axis='columns'))"
   ]
  },
  {
   "cell_type": "markdown",
   "id": "45c4a72a",
   "metadata": {},
   "source": [
    "## 10. Model Performance Comparison\n",
    "\n",
    "Now let's train a new model without the 'Age' feature and compare its performance to our baseline model:\n",
    "\n",
    "**Baseline Model (with Age)**: R² = 0.9526\n",
    "**Reduced Model (without Age)**: R² = ?\n",
    "\n",
    "Let's see if removing the problematic feature improves or maintains model performance.\n"
   ]
  },
  {
   "cell_type": "code",
   "execution_count": 19,
   "id": "37ec79e1",
   "metadata": {},
   "outputs": [
    {
     "data": {
      "text/plain": [
       "0.9523792255284543"
      ]
     },
     "execution_count": 19,
     "metadata": {},
     "output_type": "execute_result"
    }
   ],
   "source": [
    "X_train, X_test, y_train, y_test = train_test_split(X.drop('Age', axis='columns'), y, test_size=0.2, random_state=10)\n",
    "\n",
    "model_reduced = LinearRegression()\n",
    "model_reduced.fit(X_train, y_train)\n",
    "model_reduced.score(X_test, y_test)"
   ]
  },
  {
   "cell_type": "markdown",
   "id": "54f4db6e",
   "metadata": {},
   "source": [
    "## 11. Results Summary\n",
    "\n",
    "**Model Performance Comparison:**\n",
    "- **Baseline Model (4 features)**: R² = 0.9526\n",
    "- **Reduced Model (3 features)**: R² = 0.9524\n",
    "\n",
    "**Key Findings:**\n",
    "✅ **Minimal performance loss** (0.0002 decrease in R²)\n",
    "✅ **Eliminated multicollinearity** (all VIF < 5)\n",
    "✅ **More stable and interpretable coefficients**\n",
    "✅ **Simpler model** with fewer features\n",
    "\n",
    "The reduced model coefficients are now more reliable and interpretable because we've eliminated the multicollinearity between Age and Years of Experience.\n"
   ]
  },
  {
   "cell_type": "markdown",
   "id": "118c7635",
   "metadata": {},
   "source": [
    "## 12. Conclusion and Best Practices\n",
    "\n",
    "**What we learned:**\n",
    "1. **VIF is crucial** for detecting multicollinearity in linear models\n",
    "2. **High VIF values (>10)** can cause unstable and misleading coefficients\n",
    "3. **Iterative removal** of high-VIF features often solves multicollinearity\n",
    "4. **Model performance** may remain stable even after removing correlated features\n",
    "5. **Feature removal** leads to more interpretable and reliable models\n",
    "\n",
    "**Best Practices for VIF Analysis:**\n",
    "- Always check VIF before finalizing linear regression models\n",
    "- Remove features with VIF > 10 iteratively (highest first)\n",
    "- Recalculate VIF after each removal\n",
    "- Consider domain knowledge when choosing which correlated features to keep\n",
    "- Monitor model performance throughout the process\n",
    "\n",
    "**Next Steps:**\n",
    "- Apply this VIF analysis to your own datasets\n",
    "- Experiment with other multicollinearity detection methods (correlation matrices, condition indices)\n",
    "- Consider regularization techniques (Ridge, Lasso) as alternatives to feature removal\n"
   ]
  }
 ],
 "metadata": {
  "kernelspec": {
   "display_name": "Python 3",
   "language": "python",
   "name": "python3"
  },
  "language_info": {
   "codemirror_mode": {
    "name": "ipython",
    "version": 3
   },
   "file_extension": ".py",
   "mimetype": "text/x-python",
   "name": "python",
   "nbconvert_exporter": "python",
   "pygments_lexer": "ipython3",
   "version": "3.13.7"
  }
 },
 "nbformat": 4,
 "nbformat_minor": 5
}
