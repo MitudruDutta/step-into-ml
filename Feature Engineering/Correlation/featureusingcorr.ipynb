{
 "cells": [
  {
   "cell_type": "markdown",
   "id": "dd8cba8a",
   "metadata": {},
   "source": [
    "\n",
    "### 🧩 Step 1: Load the Dataset  \n",
    "We begin by importing the `pandas` library and loading our dataset, `home_prices.csv`, into a DataFrame called `df`.  \n",
    "The `.head()` method displays the first few rows so we can inspect the structure and ensure the file loaded correctly.\n"
   ]
  },
  {
   "cell_type": "code",
   "execution_count": 1,
   "id": "6f10679d",
   "metadata": {},
   "outputs": [
    {
     "data": {
      "text/html": [
       "<div>\n",
       "<style scoped>\n",
       "    .dataframe tbody tr th:only-of-type {\n",
       "        vertical-align: middle;\n",
       "    }\n",
       "\n",
       "    .dataframe tbody tr th {\n",
       "        vertical-align: top;\n",
       "    }\n",
       "\n",
       "    .dataframe thead th {\n",
       "        text-align: right;\n",
       "    }\n",
       "</style>\n",
       "<table border=\"1\" class=\"dataframe\">\n",
       "  <thead>\n",
       "    <tr style=\"text-align: right;\">\n",
       "      <th></th>\n",
       "      <th>area_sqr_ft</th>\n",
       "      <th>bedrooms</th>\n",
       "      <th>color</th>\n",
       "      <th>price_lakhs</th>\n",
       "    </tr>\n",
       "  </thead>\n",
       "  <tbody>\n",
       "    <tr>\n",
       "      <th>0</th>\n",
       "      <td>3774</td>\n",
       "      <td>2</td>\n",
       "      <td>Red</td>\n",
       "      <td>216</td>\n",
       "    </tr>\n",
       "    <tr>\n",
       "      <th>1</th>\n",
       "      <td>1460</td>\n",
       "      <td>3</td>\n",
       "      <td>Gray</td>\n",
       "      <td>88</td>\n",
       "    </tr>\n",
       "    <tr>\n",
       "      <th>2</th>\n",
       "      <td>1894</td>\n",
       "      <td>4</td>\n",
       "      <td>Gray</td>\n",
       "      <td>147</td>\n",
       "    </tr>\n",
       "    <tr>\n",
       "      <th>3</th>\n",
       "      <td>1730</td>\n",
       "      <td>2</td>\n",
       "      <td>Blue</td>\n",
       "      <td>84</td>\n",
       "    </tr>\n",
       "    <tr>\n",
       "      <th>4</th>\n",
       "      <td>1695</td>\n",
       "      <td>1</td>\n",
       "      <td>Blue</td>\n",
       "      <td>77</td>\n",
       "    </tr>\n",
       "  </tbody>\n",
       "</table>\n",
       "</div>"
      ],
      "text/plain": [
       "   area_sqr_ft  bedrooms color  price_lakhs\n",
       "0         3774         2   Red          216\n",
       "1         1460         3  Gray           88\n",
       "2         1894         4  Gray          147\n",
       "3         1730         2  Blue           84\n",
       "4         1695         1  Blue           77"
      ]
     },
     "execution_count": 1,
     "metadata": {},
     "output_type": "execute_result"
    }
   ],
   "source": [
    "\n",
    "import pandas as pd\n",
    "\n",
    "# Load dataset\n",
    "df = pd.read_csv(\"home_prices.csv\")\n",
    "\n",
    "# Display first few rows\n",
    "df.head()\n"
   ]
  },
  {
   "cell_type": "markdown",
   "id": "770589b4",
   "metadata": {},
   "source": [
    "\n",
    "### 🧩 Step 2: Inspect Categorical Data  \n",
    "Before encoding, we check all unique values in the `color` column.  \n",
    "This helps us understand the different categories that exist, which is important when creating dummy variables.\n"
   ]
  },
  {
   "cell_type": "code",
   "execution_count": 2,
   "id": "23982bbf",
   "metadata": {},
   "outputs": [
    {
     "data": {
      "text/plain": [
       "array(['Red', 'Gray', 'Blue', 'Yellow', 'Green', 'White'], dtype=object)"
      ]
     },
     "execution_count": 2,
     "metadata": {},
     "output_type": "execute_result"
    }
   ],
   "source": [
    "\n",
    "# Check unique values in the 'color' column\n",
    "df['color'].unique()\n"
   ]
  },
  {
   "cell_type": "markdown",
   "id": "ee753065",
   "metadata": {},
   "source": [
    "\n",
    "### 🧩 Step 3: Handle Missing Values (if any)  \n",
    "It's a good practice to check for and handle missing values before performing encoding or correlation analysis.  \n",
    "Here we print the count of null values in each column and fill them with appropriate replacements if needed.\n"
   ]
  },
  {
   "cell_type": "code",
   "execution_count": null,
   "id": "a18e0d40",
   "metadata": {},
   "outputs": [
    {
     "name": "stdout",
     "output_type": "stream",
     "text": [
      "Missing values per column:\n",
      " area_sqr_ft    0\n",
      "bedrooms       0\n",
      "color          0\n",
      "price_lakhs    0\n",
      "dtype: int64\n"
     ]
    },
    {
     "name": "stderr",
     "output_type": "stream",
     "text": [
      "C:\\Users\\Mitudru\\AppData\\Local\\Temp\\ipykernel_11116\\3516649718.py:10: FutureWarning: A value is trying to be set on a copy of a DataFrame or Series through chained assignment using an inplace method.\n",
      "The behavior will change in pandas 3.0. This inplace method will never work because the intermediate object on which we are setting values always behaves as a copy.\n",
      "\n",
      "For example, when doing 'df[col].method(value, inplace=True)', try using 'df.method({col: value}, inplace=True)' or df[col] = df[col].method(value) instead, to perform the operation inplace on the original object.\n",
      "\n",
      "\n",
      "  df[col].fillna(df[col].median(), inplace=True)\n",
      "C:\\Users\\Mitudru\\AppData\\Local\\Temp\\ipykernel_11116\\3516649718.py:10: FutureWarning: A value is trying to be set on a copy of a DataFrame or Series through chained assignment using an inplace method.\n",
      "The behavior will change in pandas 3.0. This inplace method will never work because the intermediate object on which we are setting values always behaves as a copy.\n",
      "\n",
      "For example, when doing 'df[col].method(value, inplace=True)', try using 'df.method({col: value}, inplace=True)' or df[col] = df[col].method(value) instead, to perform the operation inplace on the original object.\n",
      "\n",
      "\n",
      "  df[col].fillna(df[col].median(), inplace=True)\n",
      "C:\\Users\\Mitudru\\AppData\\Local\\Temp\\ipykernel_11116\\3516649718.py:8: FutureWarning: A value is trying to be set on a copy of a DataFrame or Series through chained assignment using an inplace method.\n",
      "The behavior will change in pandas 3.0. This inplace method will never work because the intermediate object on which we are setting values always behaves as a copy.\n",
      "\n",
      "For example, when doing 'df[col].method(value, inplace=True)', try using 'df.method({col: value}, inplace=True)' or df[col] = df[col].method(value) instead, to perform the operation inplace on the original object.\n",
      "\n",
      "\n",
      "  df[col].fillna(df[col].mode()[0], inplace=True)\n",
      "C:\\Users\\Mitudru\\AppData\\Local\\Temp\\ipykernel_11116\\3516649718.py:10: FutureWarning: A value is trying to be set on a copy of a DataFrame or Series through chained assignment using an inplace method.\n",
      "The behavior will change in pandas 3.0. This inplace method will never work because the intermediate object on which we are setting values always behaves as a copy.\n",
      "\n",
      "For example, when doing 'df[col].method(value, inplace=True)', try using 'df.method({col: value}, inplace=True)' or df[col] = df[col].method(value) instead, to perform the operation inplace on the original object.\n",
      "\n",
      "\n",
      "  df[col].fillna(df[col].median(), inplace=True)\n"
     ]
    }
   ],
   "source": [
    "\n",
    "# Check for missing values\n",
    "missing_values = df.isnull().sum()\n",
    "print(\"Missing values per column:\\n\", missing_values)\n",
    "\n",
    "# Example fix: Fill missing numerical values with median and categorical with mode\n",
    "# Use assignment to avoid chained-assignment / inplace FutureWarning in pandas\n",
    "for col in df.columns:\n",
    "    if df[col].dtype == 'object':\n",
    "        # use assignment on the DataFrame column\n",
    "        df[col] = df[col].fillna(df[col].mode()[0])\n",
    "    else:\n",
    "        df[col] = df[col].fillna(df[col].median())\n"
   ]
  },
  {
   "cell_type": "markdown",
   "id": "ed4f2891",
   "metadata": {},
   "source": [
    "\n",
    "### 🧩 Step 4: One-Hot Encode Categorical Variables  \n",
    "We use `pd.get_dummies()` to convert the categorical column `color` into binary (dummy) columns.  \n",
    "Setting `drop_first=True` avoids multicollinearity by dropping the first dummy column.\n"
   ]
  },
  {
   "cell_type": "code",
   "execution_count": null,
   "id": "403f9b68",
   "metadata": {},
   "outputs": [],
   "source": [
    "\n",
    "# One-hot encode 'color' column\n",
    "df_encoded = pd.get_dummies(df, columns=['color'], drop_first=True)\n",
    "\n",
    "# Display first few rows of encoded data\n",
    "df_encoded.head()\n"
   ]
  },
  {
   "cell_type": "markdown",
   "id": "27888b5e",
   "metadata": {},
   "source": [
    "\n",
    "### 🧩 Step 5: Compute Correlation Matrix  \n",
    "We calculate the correlation matrix to understand the relationships between numeric features.  \n",
    "This helps identify which features are strongly correlated with the target variable, aiding feature selection.\n"
   ]
  },
  {
   "cell_type": "code",
   "execution_count": null,
   "id": "0ef5f1d2",
   "metadata": {},
   "outputs": [],
   "source": [
    "\n",
    "# Compute correlation matrix\n",
    "corr_matrix = df_encoded.corr()\n",
    "\n",
    "# Display top correlated features\n",
    "corr_matrix\n"
   ]
  },
  {
   "cell_type": "markdown",
   "id": "3da2d836",
   "metadata": {},
   "source": [
    "\n",
    "### 🧩 Step 6: Visualize Correlation Heatmap  \n",
    "A heatmap provides a visual understanding of feature correlations.  \n",
    "Strong positive or negative correlations can be easily identified.\n"
   ]
  },
  {
   "cell_type": "code",
   "execution_count": null,
   "id": "cb6d4e53",
   "metadata": {},
   "outputs": [],
   "source": [
    "\n",
    "import matplotlib.pyplot as plt\n",
    "\n",
    "# Plot correlation heatmap\n",
    "plt.figure(figsize=(8,6))\n",
    "plt.imshow(df_encoded.corr(), cmap='coolwarm', interpolation='none')\n",
    "plt.title('Correlation Heatmap')\n",
    "plt.colorbar(label='Correlation Coefficient')\n",
    "plt.show()\n"
   ]
  }
 ],
 "metadata": {
  "kernelspec": {
   "display_name": "Python 3",
   "language": "python",
   "name": "python3"
  },
  "language_info": {
   "codemirror_mode": {
    "name": "ipython",
    "version": 3
   },
   "file_extension": ".py",
   "mimetype": "text/x-python",
   "name": "python",
   "nbconvert_exporter": "python",
   "pygments_lexer": "ipython3",
   "version": "3.12.10"
  }
 },
 "nbformat": 4,
 "nbformat_minor": 5
}
