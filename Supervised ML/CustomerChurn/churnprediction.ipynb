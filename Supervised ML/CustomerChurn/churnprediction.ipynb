{
 "cells": [
  {
   "metadata": {},
   "cell_type": "markdown",
   "source": [
    "# Handling Imbalanced Datasets for Churn Prediction 📞\n",
    "\n",
    "A common challenge in classification problems is dealing with an **imbalanced dataset**, where one class is represented far more often than the other. A classic example is customer churn prediction, where the number of customers who *do not* churn is typically much larger than the number of customers who *do*.\n",
    "\n",
    "### The Problem with Accuracy\n",
    "\n",
    "When a dataset is imbalanced, **accuracy** can be a very misleading metric. A model can achieve high accuracy by simply always predicting the majority class. For example, if 95% of customers don't churn, a model that always predicts \"no churn\" will be 95% accurate, but it will be completely useless for the business goal of identifying customers who are likely to leave.\n",
    "\n",
    "The real goal is to improve the model's ability to predict the **minority class** (in this case, `Churn = 1`). We will focus on improving the **recall** for this class, which measures the model's ability to \"catch\" all the actual churners.\n",
    "\n",
    "This notebook demonstrates three common resampling techniques from the `imbalanced-learn` library to address this problem.\n",
    "\n",
    "---"
   ],
   "id": "e1220f34256820f9"
  },
  {
   "metadata": {},
   "cell_type": "markdown",
   "source": [
    "\n",
    "## 1. The Imbalanced Churn Dataset\n",
    "\n",
    "First, let's load our customer churn dataset and visualize the class distribution.\n"
   ],
   "id": "4dc082b521578a66"
  },
  {
   "metadata": {
    "collapsed": true,
    "ExecuteTime": {
     "end_time": "2025-09-29T13:55:35.254991Z",
     "start_time": "2025-09-29T13:55:35.252156Z"
    }
   },
   "cell_type": "code",
   "outputs": [],
   "execution_count": 1,
   "source": [
    "import pandas as pd\n",
    "import seaborn as sns\n",
    "from matplotlib import pyplot as plt"
   ],
   "id": "dd645c70a19707cd"
  },
  {
   "metadata": {
    "ExecuteTime": {
     "end_time": "2025-09-29T13:55:45.938816Z",
     "start_time": "2025-09-29T13:55:45.909773Z"
    }
   },
   "cell_type": "code",
   "source": [
    "df = pd.read_csv(\"churn.csv\")\n",
    "df.head()"
   ],
   "id": "e07e251bab89f191",
   "outputs": [
    {
     "data": {
      "text/plain": [
       "   Call  Failure  Complains  Subscription  Length  Charge  Amount  \\\n",
       "0              8          0                    38               0   \n",
       "1              0          0                    39               0   \n",
       "2             10          0                    37               0   \n",
       "3             10          0                    38               0   \n",
       "4              3          0                    38               0   \n",
       "\n",
       "   Seconds of Use  Frequency of use  Frequency of SMS  \\\n",
       "0            4370                71                 5   \n",
       "1             318                 5                 7   \n",
       "2            2453                60               359   \n",
       "3            4198                66                 1   \n",
       "4            2393                58                 2   \n",
       "\n",
       "   Distinct Called Numbers  Age Group  Tariff Plan  Status  Age  \\\n",
       "0                       17          3            1       1   30   \n",
       "1                        4          2            1       2   25   \n",
       "2                       24          3            1       1   30   \n",
       "3                       35          1            1       1   15   \n",
       "4                       33          1            1       1   15   \n",
       "\n",
       "   Customer Value  Churn  \n",
       "0         197.640      0  \n",
       "1          46.035      0  \n",
       "2        1536.520      0  \n",
       "3         240.020      0  \n",
       "4         145.805      0  "
      ],
      "text/html": [
       "<div>\n",
       "<style scoped>\n",
       "    .dataframe tbody tr th:only-of-type {\n",
       "        vertical-align: middle;\n",
       "    }\n",
       "\n",
       "    .dataframe tbody tr th {\n",
       "        vertical-align: top;\n",
       "    }\n",
       "\n",
       "    .dataframe thead th {\n",
       "        text-align: right;\n",
       "    }\n",
       "</style>\n",
       "<table border=\"1\" class=\"dataframe\">\n",
       "  <thead>\n",
       "    <tr style=\"text-align: right;\">\n",
       "      <th></th>\n",
       "      <th>Call  Failure</th>\n",
       "      <th>Complains</th>\n",
       "      <th>Subscription  Length</th>\n",
       "      <th>Charge  Amount</th>\n",
       "      <th>Seconds of Use</th>\n",
       "      <th>Frequency of use</th>\n",
       "      <th>Frequency of SMS</th>\n",
       "      <th>Distinct Called Numbers</th>\n",
       "      <th>Age Group</th>\n",
       "      <th>Tariff Plan</th>\n",
       "      <th>Status</th>\n",
       "      <th>Age</th>\n",
       "      <th>Customer Value</th>\n",
       "      <th>Churn</th>\n",
       "    </tr>\n",
       "  </thead>\n",
       "  <tbody>\n",
       "    <tr>\n",
       "      <th>0</th>\n",
       "      <td>8</td>\n",
       "      <td>0</td>\n",
       "      <td>38</td>\n",
       "      <td>0</td>\n",
       "      <td>4370</td>\n",
       "      <td>71</td>\n",
       "      <td>5</td>\n",
       "      <td>17</td>\n",
       "      <td>3</td>\n",
       "      <td>1</td>\n",
       "      <td>1</td>\n",
       "      <td>30</td>\n",
       "      <td>197.640</td>\n",
       "      <td>0</td>\n",
       "    </tr>\n",
       "    <tr>\n",
       "      <th>1</th>\n",
       "      <td>0</td>\n",
       "      <td>0</td>\n",
       "      <td>39</td>\n",
       "      <td>0</td>\n",
       "      <td>318</td>\n",
       "      <td>5</td>\n",
       "      <td>7</td>\n",
       "      <td>4</td>\n",
       "      <td>2</td>\n",
       "      <td>1</td>\n",
       "      <td>2</td>\n",
       "      <td>25</td>\n",
       "      <td>46.035</td>\n",
       "      <td>0</td>\n",
       "    </tr>\n",
       "    <tr>\n",
       "      <th>2</th>\n",
       "      <td>10</td>\n",
       "      <td>0</td>\n",
       "      <td>37</td>\n",
       "      <td>0</td>\n",
       "      <td>2453</td>\n",
       "      <td>60</td>\n",
       "      <td>359</td>\n",
       "      <td>24</td>\n",
       "      <td>3</td>\n",
       "      <td>1</td>\n",
       "      <td>1</td>\n",
       "      <td>30</td>\n",
       "      <td>1536.520</td>\n",
       "      <td>0</td>\n",
       "    </tr>\n",
       "    <tr>\n",
       "      <th>3</th>\n",
       "      <td>10</td>\n",
       "      <td>0</td>\n",
       "      <td>38</td>\n",
       "      <td>0</td>\n",
       "      <td>4198</td>\n",
       "      <td>66</td>\n",
       "      <td>1</td>\n",
       "      <td>35</td>\n",
       "      <td>1</td>\n",
       "      <td>1</td>\n",
       "      <td>1</td>\n",
       "      <td>15</td>\n",
       "      <td>240.020</td>\n",
       "      <td>0</td>\n",
       "    </tr>\n",
       "    <tr>\n",
       "      <th>4</th>\n",
       "      <td>3</td>\n",
       "      <td>0</td>\n",
       "      <td>38</td>\n",
       "      <td>0</td>\n",
       "      <td>2393</td>\n",
       "      <td>58</td>\n",
       "      <td>2</td>\n",
       "      <td>33</td>\n",
       "      <td>1</td>\n",
       "      <td>1</td>\n",
       "      <td>1</td>\n",
       "      <td>15</td>\n",
       "      <td>145.805</td>\n",
       "      <td>0</td>\n",
       "    </tr>\n",
       "  </tbody>\n",
       "</table>\n",
       "</div>"
      ]
     },
     "execution_count": 2,
     "metadata": {},
     "output_type": "execute_result"
    }
   ],
   "execution_count": 2
  },
  {
   "metadata": {
    "ExecuteTime": {
     "end_time": "2025-09-29T13:55:48.386766Z",
     "start_time": "2025-09-29T13:55:48.246365Z"
    }
   },
   "cell_type": "code",
   "source": "df.Churn.value_counts().plot(kind='bar')",
   "id": "ce73abf54f5b8494",
   "outputs": [
    {
     "data": {
      "text/plain": [
       "<Axes: xlabel='Churn'>"
      ]
     },
     "execution_count": 3,
     "metadata": {},
     "output_type": "execute_result"
    },
    {
     "data": {
      "text/plain": [
       "<Figure size 640x480 with 1 Axes>"
      ],
      "image/png": "[encoded data removed]"
     },
     "metadata": {},
     "output_type": "display_data",
     "jetTransient": {
      "display_id": null
     }
    }
   ],
   "execution_count": 3
  },
  {
   "metadata": {},
   "cell_type": "markdown",
   "source": "The bar chart clearly shows the class imbalance: there are far more instances of `0` (no churn) than `1` (churn).\n",
   "id": "d20d050175b6f47c"
  },
  {
   "metadata": {
    "ExecuteTime": {
     "end_time": "2025-09-29T13:55:52.298661Z",
     "start_time": "2025-09-29T13:55:52.291817Z"
    }
   },
   "cell_type": "code",
   "source": [
    "X = df.drop('Churn', axis=\"columns\")\n",
    "y = df['Churn']"
   ],
   "id": "bf2913b5a91e0598",
   "outputs": [],
   "execution_count": 5
  },
  {
   "metadata": {},
   "cell_type": "markdown",
   "source": [
    "## 2. Baseline Model Performance\n",
    "\n",
    "Let's train a standard `LogisticRegression` model on this original, imbalanced data to establish a baseline. We use `stratify=y` in our train-test split to ensure the same class proportion exists in both the training and test sets.\n"
   ],
   "id": "9c5b370f31e2779e"
  },
  {
   "metadata": {
    "ExecuteTime": {
     "end_time": "2025-09-29T14:14:07.165080Z",
     "start_time": "2025-09-29T14:14:05.627902Z"
    }
   },
   "cell_type": "code",
   "source": [
    "from sklearn.model_selection import train_test_split\n",
    "from sklearn.linear_model import LogisticRegression\n",
    "from sklearn.metrics import classification_report\n",
    "\n",
    "X = df.drop('Churn', axis=\"columns\")\n",
    "y = df['Churn']\n",
    "\n",
    "X_train, X_test, y_train, y_test = train_test_split(X, y, test_size=0.2, stratify=y, random_state=42)\n",
    "\n",
    "model = LogisticRegression(max_iter=10000)\n",
    "model.fit(X_train, y_train)\n",
    "\n",
    "y_pred = model.predict(X_test)\n",
    "print(classification_report(y_test, y_pred))"
   ],
   "id": "501ab95d0fa9a076",
   "outputs": [
    {
     "name": "stdout",
     "output_type": "stream",
     "text": [
      "              precision    recall  f1-score   support\n",
      "\n",
      "           0       0.90      0.98      0.94       531\n",
      "           1       0.78      0.40      0.53        99\n",
      "\n",
      "    accuracy                           0.89       630\n",
      "   macro avg       0.84      0.69      0.74       630\n",
      "weighted avg       0.88      0.89      0.87       630\n",
      "\n"
     ]
    }
   ],
   "execution_count": 13
  },
  {
   "metadata": {},
   "cell_type": "markdown",
   "source": "**Interpretation:** The model has a high accuracy of **89%**, but look at the **recall for class 1 (churn): it's only 0.40!** This means our baseline model is failing to identify 60% of the customers who are actually going to churn, making it ineffective for its intended purpose.\n",
   "id": "9751fd2d36ee1aae"
  },
  {
   "metadata": {},
   "cell_type": "markdown",
   "source": [
    "## 3. Techniques for Handling Class Imbalance\n",
    "\n",
    "To fix this, we will use **resampling techniques** to create a balanced training dataset. **Important:** These techniques should *only* be applied to the training data, never the test data.\n",
    "\n",
    "### a) Random Undersampling\n",
    "\n",
    "This technique balances the data by randomly removing samples from the majority class.\n",
    "* **Pro:** It's fast and simple.\n",
    "* **Con:** It can discard potentially useful information from the majority class.\n"
   ],
   "id": "d7ab3cc43c4973a0"
  },
  {
   "metadata": {
    "ExecuteTime": {
     "end_time": "2025-09-29T14:14:21.181282Z",
     "start_time": "2025-09-29T14:14:20.352048Z"
    }
   },
   "cell_type": "code",
   "source": [
    "from imblearn.under_sampling import RandomUnderSampler\n",
    "\n",
    "rus = RandomUnderSampler(random_state=42)\n",
    "X_train_rus, y_train_rus = rus.fit_resample(X_train, y_train)\n",
    "\n",
    "print(y_train_rus.value_counts())\n",
    "\n",
    "model_rus = LogisticRegression(max_iter=10000)\n",
    "model_rus.fit(X_train_rus, y_train_rus)\n",
    "y_pred_rus = model_rus.predict(X_test)\n",
    "print(classification_report(y_test, y_pred_rus))"
   ],
   "id": "4314a419547a9b13",
   "outputs": [
    {
     "name": "stdout",
     "output_type": "stream",
     "text": [
      "Churn\n",
      "0    396\n",
      "1    396\n",
      "Name: count, dtype: int64\n",
      "              precision    recall  f1-score   support\n",
      "\n",
      "           0       0.97      0.81      0.88       531\n",
      "           1       0.46      0.85      0.60        99\n",
      "\n",
      "    accuracy                           0.82       630\n",
      "   macro avg       0.71      0.83      0.74       630\n",
      "weighted avg       0.89      0.82      0.84       630\n",
      "\n"
     ]
    }
   ],
   "execution_count": 14
  },
  {
   "metadata": {},
   "cell_type": "markdown",
   "source": [
    "### b) SMOTE (Synthetic Minority Over-sampling Technique)\n",
    "\n",
    "This technique balances the data by creating new, *synthetic* samples for the minority class. It looks at the feature space for minority samples and generates new examples that lie between them.\n",
    "* **Pro:** No information is lost from the majority class.\n",
    "* **Con:** Can introduce noise by creating synthetic samples in areas where the classes overlap.\n"
   ],
   "id": "e678858e00b3559d"
  },
  {
   "metadata": {
    "ExecuteTime": {
     "end_time": "2025-09-29T14:15:06.342732Z",
     "start_time": "2025-09-29T14:15:05.230647Z"
    }
   },
   "cell_type": "code",
   "source": [
    "from imblearn.over_sampling import SMOTE\n",
    "\n",
    "smote = SMOTE(random_state=42)\n",
    "X_train_smote, y_train_smote = smote.fit_resample(X_train, y_train)\n",
    "\n",
    "print(y_train_smote.value_counts())\n",
    "\n",
    "model_smote = LogisticRegression(max_iter=10000)\n",
    "model_smote.fit(X_train_smote, y_train_smote)\n",
    "y_pred_smote = model_smote.predict(X_test)\n",
    "print(classification_report(y_test, y_pred_smote))"
   ],
   "id": "d0ee83c546ccd09",
   "outputs": [
    {
     "name": "stdout",
     "output_type": "stream",
     "text": [
      "Churn\n",
      "0    2124\n",
      "1    2124\n",
      "Name: count, dtype: int64\n",
      "              precision    recall  f1-score   support\n",
      "\n",
      "           0       0.97      0.80      0.88       531\n",
      "           1       0.45      0.86      0.59        99\n",
      "\n",
      "    accuracy                           0.81       630\n",
      "   macro avg       0.71      0.83      0.73       630\n",
      "weighted avg       0.89      0.81      0.83       630\n",
      "\n"
     ]
    }
   ],
   "execution_count": 15
  },
  {
   "metadata": {},
   "cell_type": "markdown",
   "source": "**Result:** SMOTE produces a similar outcome to undersampling, with **recall for churn increasing to 0.86**.\n",
   "id": "678558bd0a120441"
  },
  {
   "metadata": {},
   "cell_type": "markdown",
   "source": [
    "### c) SMOTETomek (Hybrid Approach)\n",
    "\n",
    "This is a hybrid method that combines over-sampling with under-sampling. It first uses SMOTE to increase the number of minority samples and then uses Tomek Links to remove samples from the majority class that are close to the minority class samples, which helps to clean the boundary between the classes.\n"
   ],
   "id": "762064e275b2575e"
  },
  {
   "metadata": {
    "ExecuteTime": {
     "end_time": "2025-09-29T14:15:43.287274Z",
     "start_time": "2025-09-29T14:15:42.339756Z"
    }
   },
   "cell_type": "code",
   "source": [
    "from imblearn.combine import SMOTETomek\n",
    "\n",
    "tomek = SMOTETomek(random_state=42)\n",
    "X_train_tomek, y_train_tomek = tomek.fit_resample(X_train, y_train)\n",
    "\n",
    "print(y_train_tomek.value_counts())\n",
    "\n",
    "model_tomek = LogisticRegression(max_iter=10000)\n",
    "model_tomek.fit(X_train_tomek, y_train_tomek)\n",
    "y_pred_tomek = model_tomek.predict(X_test)\n",
    "print(classification_report(y_test, y_pred_tomek))"
   ],
   "id": "66e46424e61cd49a",
   "outputs": [
    {
     "name": "stdout",
     "output_type": "stream",
     "text": [
      "Churn\n",
      "0    2091\n",
      "1    2091\n",
      "Name: count, dtype: int64\n",
      "              precision    recall  f1-score   support\n",
      "\n",
      "           0       0.97      0.80      0.88       531\n",
      "           1       0.45      0.86      0.59        99\n",
      "\n",
      "    accuracy                           0.81       630\n",
      "   macro avg       0.71      0.83      0.73       630\n",
      "weighted avg       0.89      0.81      0.83       630\n",
      "\n"
     ]
    }
   ],
   "execution_count": 16
  },
  {
   "metadata": {},
   "cell_type": "markdown",
   "source": "**Result:** The hybrid approach yields nearly identical results to SMOTE alone in this case.\n",
   "id": "22176eb814baedd2"
  },
  {
   "metadata": {},
   "cell_type": "markdown",
   "source": [
    "## 4. Conclusion and Trade-offs\n",
    "\n",
    "| Model | Overall Accuracy | Recall for Churn (Class 1) |\n",
    "|:--- |:--- |:--- |\n",
    "| **Baseline (Imbalanced)** | 89% | 40% |\n",
    "| **Random Undersampling** | 82% | 85% |\n",
    "| **SMOTE (Oversampling)** | 81% | 86% |\n",
    "\n",
    "This comparison clearly shows the trade-off. By applying resampling techniques, we created models that are far superior at the actual business task (identifying churners), even though their overall accuracy is lower. For a problem like churn prediction, a model with high recall is often preferred, because the cost of failing to identify a churner (a false negative) is much higher than the cost of incorrectly flagging a happy customer (a false positive)."
   ],
   "id": "34e11c92b7889d2a"
  }
 ],
 "metadata": {
  "kernelspec": {
   "display_name": "Python 3",
   "language": "python",
   "name": "python3"
  },
  "language_info": {
   "codemirror_mode": {
    "name": "ipython",
    "version": 2
   },
   "file_extension": ".py",
   "mimetype": "text/x-python",
   "name": "python",
   "nbconvert_exporter": "python",
   "pygments_lexer": "ipython2",
   "version": "2.7.6"
  }
 },
 "nbformat": 4,
 "nbformat_minor": 5
}
