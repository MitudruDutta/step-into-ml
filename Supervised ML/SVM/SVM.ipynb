{
 "cells": [
  {
   "metadata": {},
   "cell_type": "markdown",
   "source": [
    "# Understanding Support Vector Machines (SVM) and the Kernel Trick 🍇\n",
    "\n",
    "**Support Vector Machines (SVMs)** are powerful and versatile supervised machine learning models used for both classification and regression. For classification, the objective of an SVM is to find an optimal **hyperplane** that cleanly separates the data points of different classes in a high-dimensional space.\n",
    "\n",
    "The \"best\" hyperplane is the one that has the **maximum margin**—the largest possible distance between the hyperplane and the nearest data points from any class. These closest data points are called **support vectors**, as they are the critical points that \"support\" the hyperplane.\n",
    "\n",
    "\n",
    "### The Kernel Trick\n",
    "\n",
    "What makes SVMs especially powerful is their ability to classify data that is not linearly separable. They achieve this using the **kernel trick**. A kernel is a function that takes the input data and transforms it into a higher-dimensional space where a linear separator *can* be found. The \"trick\" is that it does this without ever having to explicitly compute the coordinates of the data in this new space, making it very efficient.\n",
    "\n",
    "This notebook demonstrates how to use SVMs for classification and compares the performance of four different kernel functions on a dataset of raisins.\n",
    "\n",
    "---"
   ],
   "id": "845bbec518348f96"
  },
  {
   "metadata": {},
   "cell_type": "markdown",
   "source": [
    "## 1. The Dataset: Classifying Types of Raisins\n",
    "\n",
    "We will use a dataset that contains seven physical features (like Area, Perimeter, etc.) of two different types of raisins: 'Kecimen' and 'Besni'. Our goal is to train an SVM to classify the raisin type based on these features.\n"
   ],
   "id": "999683d17a5f73f1"
  },
  {
   "metadata": {
    "collapsed": true,
    "ExecuteTime": {
     "end_time": "2025-09-27T11:00:30.602728Z",
     "start_time": "2025-09-27T11:00:28.028890Z"
    }
   },
   "cell_type": "code",
   "outputs": [
    {
     "data": {
      "text/plain": [
       "    Area  MajorAxisLength  MinorAxisLength  Eccentricity  ConvexArea  \\\n",
       "0  87524       442.246011       253.291155      0.819738       90546   \n",
       "1  75166       406.690687       243.032436      0.801805       78789   \n",
       "2  90856       442.267048       266.328318      0.798354       93717   \n",
       "3  45928       286.540559       208.760042      0.684989       47336   \n",
       "4  79408       352.190770       290.827533      0.564011       81463   \n",
       "\n",
       "     Extent  Perimeter    Class  \n",
       "0  0.758651   1184.040  Kecimen  \n",
       "1  0.684130   1121.786  Kecimen  \n",
       "2  0.637613   1208.575  Kecimen  \n",
       "3  0.699599    844.162  Kecimen  \n",
       "4  0.792772   1073.251  Kecimen  "
      ],
      "text/html": [
       "<div>\n",
       "<style scoped>\n",
       "    .dataframe tbody tr th:only-of-type {\n",
       "        vertical-align: middle;\n",
       "    }\n",
       "\n",
       "    .dataframe tbody tr th {\n",
       "        vertical-align: top;\n",
       "    }\n",
       "\n",
       "    .dataframe thead th {\n",
       "        text-align: right;\n",
       "    }\n",
       "</style>\n",
       "<table border=\"1\" class=\"dataframe\">\n",
       "  <thead>\n",
       "    <tr style=\"text-align: right;\">\n",
       "      <th></th>\n",
       "      <th>Area</th>\n",
       "      <th>MajorAxisLength</th>\n",
       "      <th>MinorAxisLength</th>\n",
       "      <th>Eccentricity</th>\n",
       "      <th>ConvexArea</th>\n",
       "      <th>Extent</th>\n",
       "      <th>Perimeter</th>\n",
       "      <th>Class</th>\n",
       "    </tr>\n",
       "  </thead>\n",
       "  <tbody>\n",
       "    <tr>\n",
       "      <th>0</th>\n",
       "      <td>87524</td>\n",
       "      <td>442.246011</td>\n",
       "      <td>253.291155</td>\n",
       "      <td>0.819738</td>\n",
       "      <td>90546</td>\n",
       "      <td>0.758651</td>\n",
       "      <td>1184.040</td>\n",
       "      <td>Kecimen</td>\n",
       "    </tr>\n",
       "    <tr>\n",
       "      <th>1</th>\n",
       "      <td>75166</td>\n",
       "      <td>406.690687</td>\n",
       "      <td>243.032436</td>\n",
       "      <td>0.801805</td>\n",
       "      <td>78789</td>\n",
       "      <td>0.684130</td>\n",
       "      <td>1121.786</td>\n",
       "      <td>Kecimen</td>\n",
       "    </tr>\n",
       "    <tr>\n",
       "      <th>2</th>\n",
       "      <td>90856</td>\n",
       "      <td>442.267048</td>\n",
       "      <td>266.328318</td>\n",
       "      <td>0.798354</td>\n",
       "      <td>93717</td>\n",
       "      <td>0.637613</td>\n",
       "      <td>1208.575</td>\n",
       "      <td>Kecimen</td>\n",
       "    </tr>\n",
       "    <tr>\n",
       "      <th>3</th>\n",
       "      <td>45928</td>\n",
       "      <td>286.540559</td>\n",
       "      <td>208.760042</td>\n",
       "      <td>0.684989</td>\n",
       "      <td>47336</td>\n",
       "      <td>0.699599</td>\n",
       "      <td>844.162</td>\n",
       "      <td>Kecimen</td>\n",
       "    </tr>\n",
       "    <tr>\n",
       "      <th>4</th>\n",
       "      <td>79408</td>\n",
       "      <td>352.190770</td>\n",
       "      <td>290.827533</td>\n",
       "      <td>0.564011</td>\n",
       "      <td>81463</td>\n",
       "      <td>0.792772</td>\n",
       "      <td>1073.251</td>\n",
       "      <td>Kecimen</td>\n",
       "    </tr>\n",
       "  </tbody>\n",
       "</table>\n",
       "</div>"
      ]
     },
     "execution_count": 1,
     "metadata": {},
     "output_type": "execute_result"
    }
   ],
   "execution_count": 1,
   "source": [
    "import pandas as pd\n",
    "\n",
    "df = pd.read_excel('Raisin_Dataset.xlsx')\n",
    "df.head()"
   ],
   "id": "133bd1b9bc406ceb"
  },
  {
   "metadata": {},
   "cell_type": "markdown",
   "source": "First, we'll prepare our data by separating it into features (`X`) and the target (`y`), and then splitting it into training and testing sets.\n",
   "id": "fae3616b186d7761"
  },
  {
   "metadata": {
    "ExecuteTime": {
     "end_time": "2025-09-27T11:01:39.211889Z",
     "start_time": "2025-09-27T11:01:38.807747Z"
    }
   },
   "cell_type": "code",
   "source": [
    "X = df[['Area', 'MajorAxisLength', 'MinorAxisLength', 'Eccentricity', 'ConvexArea', 'Extent', 'Perimeter']]\n",
    "y = df['Class']\n",
    "\n",
    "from sklearn.model_selection import train_test_split\n",
    "\n",
    "X_train, X_test, y_train, y_test = train_test_split(X, y, test_size=0.2, random_state=10)"
   ],
   "id": "e7fa362f79e31049",
   "outputs": [],
   "execution_count": 2
  },
  {
   "metadata": {},
   "cell_type": "markdown",
   "source": [
    "## 2. Comparing Different SVM Kernels\n",
    "\n",
    "The choice of kernel is a critical hyperparameter that determines how the SVM will separate the data. We will test four common kernels available in `scikit-learn`.\n",
    "\n",
    "### a) The RBF Kernel (Radial Basis Function)\n",
    "\n",
    "The RBF kernel is a popular default choice as it can handle complex, non-linear relationships by mapping the data to an infinite-dimensional space.\n"
   ],
   "id": "c4ffad1a50a321ee"
  },
  {
   "metadata": {
    "ExecuteTime": {
     "end_time": "2025-09-27T11:01:40.354261Z",
     "start_time": "2025-09-27T11:01:40.078531Z"
    }
   },
   "cell_type": "code",
   "source": [
    "from sklearn.svm import SVC\n",
    "\n",
    "model = SVC(kernel='rbf')\n",
    "\n",
    "model.fit(X_train, y_train)\n",
    "\n",
    "y_pred = model.predict(X_test)\n",
    "\n",
    "from sklearn.metrics import classification_report\n",
    "report = classification_report(y_test, y_pred)\n",
    "print(report)\n",
    "\n",
    "model.n_iter_"
   ],
   "id": "afc96fb260710f91",
   "outputs": [
    {
     "name": "stdout",
     "output_type": "stream",
     "text": [
      "              precision    recall  f1-score   support\n",
      "\n",
      "       Besni       0.86      0.75      0.80        83\n",
      "     Kecimen       0.81      0.90      0.85        97\n",
      "\n",
      "    accuracy                           0.83       180\n",
      "   macro avg       0.83      0.82      0.82       180\n",
      "weighted avg       0.83      0.83      0.83       180\n",
      "\n"
     ]
    },
    {
     "data": {
      "text/plain": [
       "array([229], dtype=int32)"
      ]
     },
     "execution_count": 3,
     "metadata": {},
     "output_type": "execute_result"
    }
   ],
   "execution_count": 3
  },
  {
   "metadata": {},
   "cell_type": "markdown",
   "source": "The RBF kernel achieves an accuracy of **83%**.",
   "id": "dd76a8d034e6a120"
  },
  {
   "metadata": {},
   "cell_type": "markdown",
   "source": [
    "### b) The Linear Kernel\n",
    "\n",
    "A linear kernel is the simplest kernel. It doesn't perform any transformation and is used when the data is expected to be linearly separable.\n"
   ],
   "id": "a5b7c4e8f33be9ff"
  },
  {
   "metadata": {
    "ExecuteTime": {
     "end_time": "2025-09-27T11:01:49.757429Z",
     "start_time": "2025-09-27T11:01:41.413312Z"
    }
   },
   "cell_type": "code",
   "source": [
    "from sklearn.svm import SVC\n",
    "\n",
    "model = SVC(kernel='linear')\n",
    "\n",
    "model.fit(X_train, y_train)\n",
    "\n",
    "y_pred = model.predict(X_test)\n",
    "\n",
    "from sklearn.metrics import classification_report\n",
    "report = classification_report(y_test, y_pred)\n",
    "print(report)\n",
    "\n",
    "model.n_iter_"
   ],
   "id": "57fba80a44f7c543",
   "outputs": [
    {
     "name": "stdout",
     "output_type": "stream",
     "text": [
      "              precision    recall  f1-score   support\n",
      "\n",
      "       Besni       0.86      0.87      0.86        83\n",
      "     Kecimen       0.89      0.88      0.88        97\n",
      "\n",
      "    accuracy                           0.87       180\n",
      "   macro avg       0.87      0.87      0.87       180\n",
      "weighted avg       0.87      0.87      0.87       180\n",
      "\n"
     ]
    },
    {
     "data": {
      "text/plain": [
       "array([117812859], dtype=int32)"
      ]
     },
     "execution_count": 4,
     "metadata": {},
     "output_type": "execute_result"
    }
   ],
   "execution_count": 4
  },
  {
   "metadata": {},
   "cell_type": "markdown",
   "source": "The linear kernel performs the best, with an accuracy of **91%**. This suggests that the two classes of raisins are largely linearly separable based on their physical features.\n",
   "id": "90efec1c5f6ef527"
  },
  {
   "metadata": {},
   "cell_type": "markdown",
   "source": [
    "### c) The Polynomial Kernel\n",
    "\n",
    "The polynomial kernel represents the similarity of data in a polynomial feature space. It's often used in natural language processing.\n"
   ],
   "id": "26a5f3fa7c7c1a3c"
  },
  {
   "metadata": {
    "ExecuteTime": {
     "end_time": "2025-09-27T11:02:26.777037Z",
     "start_time": "2025-09-27T11:02:26.761758Z"
    }
   },
   "cell_type": "code",
   "source": [
    "from sklearn.svm import SVC\n",
    "\n",
    "model = SVC(kernel='poly')\n",
    "\n",
    "model.fit(X_train, y_train)\n",
    "\n",
    "y_pred = model.predict(X_test)\n",
    "\n",
    "from sklearn.metrics import classification_report\n",
    "report = classification_report(y_test, y_pred)\n",
    "print(report)\n",
    "\n",
    "model.n_iter_"
   ],
   "id": "12e6ed45b4f5563",
   "outputs": [
    {
     "name": "stdout",
     "output_type": "stream",
     "text": [
      "              precision    recall  f1-score   support\n",
      "\n",
      "       Besni       0.88      0.72      0.79        83\n",
      "     Kecimen       0.79      0.92      0.85        97\n",
      "\n",
      "    accuracy                           0.83       180\n",
      "   macro avg       0.84      0.82      0.82       180\n",
      "weighted avg       0.84      0.83      0.83       180\n",
      "\n"
     ]
    },
    {
     "data": {
      "text/plain": [
       "array([277], dtype=int32)"
      ]
     },
     "execution_count": 5,
     "metadata": {},
     "output_type": "execute_result"
    }
   ],
   "execution_count": 5
  },
  {
   "metadata": {},
   "cell_type": "markdown",
   "source": "The polynomial kernel's accuracy is **83%**, similar to the RBF kernel.",
   "id": "f06589c15dd4c359"
  },
  {
   "metadata": {},
   "cell_type": "markdown",
   "source": [
    "### d) The Sigmoid Kernel\n",
    "\n",
    "The sigmoid kernel is also used in neural networks and can be effective in certain scenarios.\n"
   ],
   "id": "b162a5b4426870f0"
  },
  {
   "metadata": {
    "ExecuteTime": {
     "end_time": "2025-09-27T11:06:45.134285Z",
     "start_time": "2025-09-27T11:06:45.111777Z"
    }
   },
   "cell_type": "code",
   "source": [
    "from sklearn.svm import SVC\n",
    "\n",
    "model = SVC(kernel='sigmoid')\n",
    "\n",
    "model.fit(X_train, y_train)\n",
    "\n",
    "y_pred = model.predict(X_test)\n",
    "\n",
    "from sklearn.metrics import classification_report\n",
    "report = classification_report(y_test, y_pred)\n",
    "print(report)\n",
    "\n",
    "model.n_iter_"
   ],
   "id": "927e26fc9046b8df",
   "outputs": [
    {
     "name": "stdout",
     "output_type": "stream",
     "text": [
      "              precision    recall  f1-score   support\n",
      "\n",
      "       Besni       0.20      0.24      0.22        83\n",
      "     Kecimen       0.21      0.18      0.19        97\n",
      "\n",
      "    accuracy                           0.21       180\n",
      "   macro avg       0.21      0.21      0.21       180\n",
      "weighted avg       0.21      0.21      0.20       180\n",
      "\n"
     ]
    },
    {
     "data": {
      "text/plain": [
       "array([305], dtype=int32)"
      ]
     },
     "execution_count": 7,
     "metadata": {},
     "output_type": "execute_result"
    }
   ],
   "execution_count": 7
  },
  {
   "metadata": {},
   "cell_type": "markdown",
   "source": "The sigmoid kernel performs very poorly on this dataset, with an accuracy of only **21%**.\n",
   "id": "1dbd55e938cdde35"
  },
  {
   "metadata": {},
   "cell_type": "markdown",
   "source": [
    "## 3. Conclusion\n",
    "\n",
    "This experiment demonstrates the importance of choosing the right kernel for an SVM model. For this particular dataset of raisins:\n",
    "* The **linear kernel** provided the best performance, indicating that the features are largely sufficient to separate the classes with a simple linear boundary.\n",
    "* The **RBF and polynomial kernels** also performed reasonably well.\n",
    "* The **sigmoid kernel** was not suitable for this problem.\n",
    "\n",
    "This highlights that there is no single \"best\" kernel for all problems; experimentation is key to finding the optimal model for your specific data."
   ],
   "id": "b63072459425fb17"
  }
 ],
 "metadata": {
  "kernelspec": {
   "display_name": "Python 3",
   "language": "python",
   "name": "python3"
  },
  "language_info": {
   "codemirror_mode": {
    "name": "ipython",
    "version": 2
   },
   "file_extension": ".py",
   "mimetype": "text/x-python",
   "name": "python",
   "nbconvert_exporter": "python",
   "pygments_lexer": "ipython2",
   "version": "2.7.6"
  }
 },
 "nbformat": 4,
 "nbformat_minor": 5
}
