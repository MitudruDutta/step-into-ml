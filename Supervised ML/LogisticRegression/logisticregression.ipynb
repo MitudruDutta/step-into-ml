{
 "cells": [
  {
   "metadata": {},
   "cell_type": "markdown",
   "source": [
    "# Understanding Logistic Regression for Classification 🚗\n",
    "\n",
    "Despite its name, **Logistic Regression** is a powerful and widely-used algorithm for **classification** tasks, not regression. It's used when the goal is to predict a categorical outcome, such as Yes/No, True/False, or in this case, 0/1 (owns a car vs. does not).\n",
    "\n",
    "The key to logistic regression is the **Sigmoid (or Logistic) function**. While a linear regression model outputs a continuous value that can range from negative to positive infinity, the sigmoid function takes any real-valued number and \"squashes\" it into a value between 0 and 1. This output can be interpreted as a probability.\n",
    "\n",
    "\n",
    "The formula for the sigmoid function is:\n",
    "$$ \\sigma(z) = \\frac{1}{1 + e^{-z}} $$\n",
    "\n",
    "Typically, if the output probability is greater than 0.5, we classify the outcome as 1; otherwise, we classify it as 0.\n",
    "\n",
    "This notebook will walk through building a logistic regression model in `scikit-learn` and then break down the underlying math to see how the predictions are made.\n",
    "\n",
    "---"
   ],
   "id": "b3ef8c3ae58fed36"
  },
  {
   "metadata": {},
   "cell_type": "markdown",
   "source": [
    "## 1. Loading the Data\n",
    "\n",
    "We'll start by loading a simple dataset that contains the `monthly_salary` of individuals and a binary target variable, `owns_car` (where 0 means No and 1 means Yes)."
   ],
   "id": "1aefc8cccec2584a"
  },
  {
   "metadata": {
    "collapsed": true,
    "ExecuteTime": {
     "end_time": "2025-09-26T04:51:01.771819Z",
     "start_time": "2025-09-26T04:51:01.462550Z"
    }
   },
   "cell_type": "code",
   "outputs": [
    {
     "data": {
      "text/plain": [
       "   monthly_salary  owns_car\n",
       "0           22000         0\n",
       "1           25000         0\n",
       "2           47000         1\n",
       "3           52000         0\n",
       "4           46000         1"
      ],
      "text/html": [
       "<div>\n",
       "<style scoped>\n",
       "    .dataframe tbody tr th:only-of-type {\n",
       "        vertical-align: middle;\n",
       "    }\n",
       "\n",
       "    .dataframe tbody tr th {\n",
       "        vertical-align: top;\n",
       "    }\n",
       "\n",
       "    .dataframe thead th {\n",
       "        text-align: right;\n",
       "    }\n",
       "</style>\n",
       "<table border=\"1\" class=\"dataframe\">\n",
       "  <thead>\n",
       "    <tr style=\"text-align: right;\">\n",
       "      <th></th>\n",
       "      <th>monthly_salary</th>\n",
       "      <th>owns_car</th>\n",
       "    </tr>\n",
       "  </thead>\n",
       "  <tbody>\n",
       "    <tr>\n",
       "      <th>0</th>\n",
       "      <td>22000</td>\n",
       "      <td>0</td>\n",
       "    </tr>\n",
       "    <tr>\n",
       "      <th>1</th>\n",
       "      <td>25000</td>\n",
       "      <td>0</td>\n",
       "    </tr>\n",
       "    <tr>\n",
       "      <th>2</th>\n",
       "      <td>47000</td>\n",
       "      <td>1</td>\n",
       "    </tr>\n",
       "    <tr>\n",
       "      <th>3</th>\n",
       "      <td>52000</td>\n",
       "      <td>0</td>\n",
       "    </tr>\n",
       "    <tr>\n",
       "      <th>4</th>\n",
       "      <td>46000</td>\n",
       "      <td>1</td>\n",
       "    </tr>\n",
       "  </tbody>\n",
       "</table>\n",
       "</div>"
      ]
     },
     "execution_count": 1,
     "metadata": {},
     "output_type": "execute_result"
    }
   ],
   "execution_count": 1,
   "source": [
    "import pandas as pd\n",
    "import numpy as np\n",
    "df = pd.read_csv('car_ownership.csv')\n",
    "df.head()"
   ],
   "id": "c8e33e3f7d9efd7"
  },
  {
   "metadata": {},
   "cell_type": "markdown",
   "source": [
    "## 2. Model Training and Evaluation with Scikit-Learn\n",
    "\n",
    "Using `scikit-learn`, we can quickly train and evaluate our model. We'll perform a train-test split, fit the `LogisticRegression` model to our training data, and then check its accuracy on the unseen test data."
   ],
   "id": "9cf71e6eed0a3303"
  },
  {
   "cell_type": "code",
   "id": "7af934a2a710821c",
   "metadata": {
    "ExecuteTime": {
     "end_time": "2025-09-26T04:51:03.078104Z",
     "start_time": "2025-09-26T04:51:02.646755Z"
    }
   },
   "source": [
    "from sklearn.model_selection import train_test_split\n",
    "from sklearn.linear_model import LogisticRegression\n",
    "\n",
    "X = df[['monthly_salary']]\n",
    "y = df['owns_car']\n",
    "\n",
    "X_train, X_test, y_train, y_test = train_test_split(X, y, test_size=0.3, random_state=42)\n",
    "\n",
    "model = LogisticRegression()\n",
    "model.fit(X_train, y_train)\n",
    "model.score(X_test, y_test)"
   ],
   "outputs": [
    {
     "data": {
      "text/plain": [
       "0.8888888888888888"
      ]
     },
     "execution_count": 2,
     "metadata": {},
     "output_type": "execute_result"
    }
   ],
   "execution_count": 2
  },
  {
   "metadata": {},
   "cell_type": "markdown",
   "source": [
    "The model achieves an accuracy of about **88.9%** on the test data, meaning it correctly predicted car ownership for nearly 9 out of 10 people in the test set.\n",
    "\n",
    "Let's look at the model's predictions compared to the actual values from the test set."
   ],
   "id": "ee3ec91681f0fb88"
  },
  {
   "cell_type": "code",
   "id": "f3169ba8895a7d97",
   "metadata": {
    "ExecuteTime": {
     "end_time": "2025-09-26T04:51:06.324494Z",
     "start_time": "2025-09-26T04:51:06.321169Z"
    }
   },
   "source": [
    "y_test.tolist()"
   ],
   "outputs": [
    {
     "data": {
      "text/plain": [
       "[1, 0, 1, 0, 0, 0, 1, 1, 0]"
      ]
     },
     "execution_count": 3,
     "metadata": {},
     "output_type": "execute_result"
    }
   ],
   "execution_count": 3
  },
  {
   "cell_type": "code",
   "id": "b15946deedf5f21e",
   "metadata": {
    "ExecuteTime": {
     "end_time": "2025-09-26T04:51:07.106666Z",
     "start_time": "2025-09-26T04:51:07.102447Z"
    }
   },
   "source": [
    "model.predict(X_test)"
   ],
   "outputs": [
    {
     "data": {
      "text/plain": [
       "array([1, 0, 1, 0, 0, 0, 0, 1, 0], dtype=int64)"
      ]
     },
     "execution_count": 4,
     "metadata": {},
     "output_type": "execute_result"
    }
   ],
   "execution_count": 4
  },
  {
   "metadata": {},
   "cell_type": "markdown",
   "source": "Comparing the two lists, we can see the model made one mistake (the 7th value was predicted as 0 but was actually 1), which aligns with the ~89% accuracy score.",
   "id": "2da58c12558108c4"
  },
  {
   "metadata": {},
   "cell_type": "markdown",
   "source": [
    "## 3. Under the Hood: The Mathematics of the Prediction\n",
    "\n",
    "How does the model make these predictions? It involves a two-step process: a linear calculation followed by the non-linear sigmoid function.\n",
    "\n",
    "### Step 3.1: The Linear Equation\n",
    "\n",
    "First, the model calculates a value `z` using a simple linear equation, just like linear regression:\n",
    "\n",
    "$$ z = mx + b $$\n",
    "\n",
    "Here, `m` is the **coefficient** and `b` is the **intercept**. We can get these values from our trained model."
   ],
   "id": "ebcf86d980f1c4c2"
  },
  {
   "cell_type": "code",
   "id": "9a3f03a80999effd",
   "metadata": {
    "ExecuteTime": {
     "end_time": "2025-09-26T04:51:07.912076Z",
     "start_time": "2025-09-26T04:51:07.907075Z"
    }
   },
   "source": [
    "model.coef_, model.intercept_"
   ],
   "outputs": [
    {
     "data": {
      "text/plain": [
       "(array([[0.00013621]]), array([-5.39725076]))"
      ]
     },
     "execution_count": 5,
     "metadata": {},
     "output_type": "execute_result"
    }
   ],
   "execution_count": 5
  },
  {
   "metadata": {},
   "cell_type": "markdown",
   "source": [
    "### Step 3.2: The Sigmoid Function\n",
    "\n",
    "The output `z` is not the final prediction. It is then passed into the sigmoid function to convert it into a probability. Let's define this function in Python."
   ],
   "id": "ee3f9d8851867f56"
  },
  {
   "cell_type": "code",
   "id": "7744daccaca216a0",
   "metadata": {
    "ExecuteTime": {
     "end_time": "2025-09-26T04:51:08.843567Z",
     "start_time": "2025-09-26T04:51:08.840185Z"
    }
   },
   "source": [
    "import math\n",
    "def sigmoid(x):\n",
    "    return 1 / (1 + math.exp(-x))"
   ],
   "outputs": [],
   "execution_count": 6
  },
  {
   "metadata": {},
   "cell_type": "markdown",
   "source": [
    "### Step 3.3: Making a Manual Prediction\n",
    "\n",
    "Now, let's combine these pieces to manually predict the probability of car ownership for someone with a **monthly salary of 62,000**.\n",
    "\n",
    "First, we calculate `z`:"
   ],
   "id": "37979cac67ff890b"
  },
  {
   "cell_type": "code",
   "id": "e61046ec9937b48e",
   "metadata": {
    "ExecuteTime": {
     "end_time": "2025-09-26T04:57:05.690103Z",
     "start_time": "2025-09-26T04:57:05.685581Z"
    }
   },
   "source": [
    "z = model.coef_*62000 + model.intercept_\n",
    "z[0][0]"
   ],
   "outputs": [
    {
     "data": {
      "text/plain": [
       "3.047874614448303"
      ]
     },
     "execution_count": 10,
     "metadata": {},
     "output_type": "execute_result"
    }
   ],
   "execution_count": 10
  },
  {
   "metadata": {},
   "cell_type": "markdown",
   "source": "Next, we pass this `z` value to our sigmoid function. We can create a helper function for this.",
   "id": "91c3678829cb220e"
  },
  {
   "metadata": {
    "ExecuteTime": {
     "end_time": "2025-09-26T04:57:07.755954Z",
     "start_time": "2025-09-26T04:57:07.752898Z"
    }
   },
   "cell_type": "code",
   "source": [
    "def prediction_function(salary, model):\n",
    "    z = model.coef_*salary + model.intercept_\n",
    "    y = sigmoid(z[0][0])\n",
    "    return y"
   ],
   "id": "b62e598c0c9c86ea",
   "outputs": [],
   "execution_count": 11
  },
  {
   "cell_type": "code",
   "id": "c2b7be93f3cc364e",
   "metadata": {
    "ExecuteTime": {
     "end_time": "2025-09-26T04:51:10.917275Z",
     "start_time": "2025-09-26T04:51:10.914Z"
    }
   },
   "source": [
    "prediction_function(62000, model)"
   ],
   "outputs": [
    {
     "data": {
      "text/plain": [
       "0.954690678813166"
      ]
     },
     "execution_count": 9,
     "metadata": {},
     "output_type": "execute_result"
    }
   ],
   "execution_count": 9
  },
  {
   "metadata": {},
   "cell_type": "markdown",
   "source": "The result is **0.955**. This means the model predicts a **95.5% probability** that a person with a monthly salary of 62,000 owns a car. Since this probability is > 0.5, the model would classify this as **1** (owns car).",
   "id": "d8b4075cf1d24f9e"
  }
 ],
 "metadata": {
  "kernelspec": {
   "display_name": "Python 3",
   "language": "python",
   "name": "python3"
  },
  "language_info": {
   "codemirror_mode": {
    "name": "ipython",
    "version": 2
   },
   "file_extension": ".py",
   "mimetype": "text/x-python",
   "name": "python",
   "nbconvert_exporter": "python",
   "pygments_lexer": "ipython2",
   "version": "2.7.6"
  }
 },
 "nbformat": 4,
 "nbformat_minor": 5
}
