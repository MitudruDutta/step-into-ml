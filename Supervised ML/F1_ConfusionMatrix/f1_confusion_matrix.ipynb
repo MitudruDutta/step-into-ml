{
 "cells": [
  {
   "metadata": {},
   "cell_type": "markdown",
   "source": [
    "# Visualizing Model Performance: The Confusion Matrix 📊\n",
    "\n",
    "While metrics like accuracy, precision, and recall are powerful, they are all derived from a single, fundamental tool: the **Confusion Matrix**. A confusion matrix is a table that summarizes the performance of a classification model by showing the counts of true and false predictions for each class.\n",
    "\n",
    "It's called a \"confusion matrix\" because it reveals where the model is getting \"confused\" when it makes predictions. It provides a much more detailed breakdown of performance than a single accuracy score, showing exactly where the errors are occurring.\n",
    "\n",
    "---"
   ],
   "id": "59c94707a4687bb9"
  },
  {
   "metadata": {},
   "cell_type": "markdown",
   "source": [
    "\n",
    "## 1. Understanding the Four Quadrants\n",
    "\n",
    "For a binary classification problem (like predicting 0 or 1), the confusion matrix is a 2x2 table.\n",
    "\n",
    "\n",
    "The four quadrants are:\n",
    "* **True Negative (TN) - Top Left:** The model correctly predicted the negative class (e.g., predicted `0`, and the actual value was `0`).\n",
    "* **False Positive (FP) - Top Right:** The model incorrectly predicted the positive class (a \"Type I Error\"). (e.g., predicted `1`, but the actual value was `0`).\n",
    "* **False Negative (FN) - Bottom Left:** The model incorrectly predicted the negative class (a \"Type II Error\"). (e.g., predicted `0`, but the actual value was `1`).\n",
    "* **True Positive (TP) - Bottom Right:** The model correctly predicted the positive class. (e.g., predicted `1`, and the actual value was `1`).\n"
   ],
   "id": "ad2fe5e549391093"
  },
  {
   "metadata": {},
   "cell_type": "markdown",
   "source": [
    "## 2. A Practical Example: Predicting Car Ownership\n",
    "\n",
    "Let's build a model to predict car ownership and then generate a confusion matrix to evaluate it.\n",
    "\n",
    "### Step 2.1: Data Loading and Model Training\n",
    "\n",
    "First, we load the `car_ownership.csv` dataset, split it, and train a Logistic Regression model.\n"
   ],
   "id": "e53fd02d42360c3c"
  },
  {
   "metadata": {
    "ExecuteTime": {
     "end_time": "2025-09-26T05:15:42.891736Z",
     "start_time": "2025-09-26T05:15:42.748860Z"
    }
   },
   "cell_type": "code",
   "outputs": [
    {
     "data": {
      "text/plain": [
       "   monthly_salary  owns_car\n",
       "0           22000         0\n",
       "1           25000         0\n",
       "2           47000         1"
      ],
      "text/html": [
       "<div>\n",
       "<style scoped>\n",
       "    .dataframe tbody tr th:only-of-type {\n",
       "        vertical-align: middle;\n",
       "    }\n",
       "\n",
       "    .dataframe tbody tr th {\n",
       "        vertical-align: top;\n",
       "    }\n",
       "\n",
       "    .dataframe thead th {\n",
       "        text-align: right;\n",
       "    }\n",
       "</style>\n",
       "<table border=\"1\" class=\"dataframe\">\n",
       "  <thead>\n",
       "    <tr style=\"text-align: right;\">\n",
       "      <th></th>\n",
       "      <th>monthly_salary</th>\n",
       "      <th>owns_car</th>\n",
       "    </tr>\n",
       "  </thead>\n",
       "  <tbody>\n",
       "    <tr>\n",
       "      <th>0</th>\n",
       "      <td>22000</td>\n",
       "      <td>0</td>\n",
       "    </tr>\n",
       "    <tr>\n",
       "      <th>1</th>\n",
       "      <td>25000</td>\n",
       "      <td>0</td>\n",
       "    </tr>\n",
       "    <tr>\n",
       "      <th>2</th>\n",
       "      <td>47000</td>\n",
       "      <td>1</td>\n",
       "    </tr>\n",
       "  </tbody>\n",
       "</table>\n",
       "</div>"
      ]
     },
     "execution_count": 1,
     "metadata": {},
     "output_type": "execute_result"
    }
   ],
   "execution_count": 1,
   "source": [
    "import pandas as pd\n",
    "from sklearn.model_selection import train_test_split\n",
    "from sklearn.linear_model import LogisticRegression\n",
    "from sklearn.preprocessing import StandardScaler\n",
    "from sklearn.metrics import confusion_matrix, classification_report, accuracy_score\n",
    "from matplotlib import pyplot as plt\n",
    "\n",
    "df = pd.read_csv(\"car_ownership.csv\")\n",
    "df.head(3)"
   ],
   "id": "e1fc261229e326d7"
  },
  {
   "cell_type": "code",
   "id": "24005f4e",
   "metadata": {
    "ExecuteTime": {
     "end_time": "2025-09-26T05:15:43.688791Z",
     "start_time": "2025-09-26T05:15:43.632278Z"
    }
   },
   "source": [
    "plt.scatter(df.monthly_salary, df.owns_car)\n",
    "plt.show()"
   ],
   "outputs": [
    {
     "data": {
      "text/plain": [
       "<Figure size 640x480 with 1 Axes>"
      ],
      "image/png": "[encoded data removed]"
     },
     "metadata": {},
     "output_type": "display_data",
     "jetTransient": {
      "display_id": null
     }
    }
   ],
   "execution_count": 2
  },
  {
   "cell_type": "code",
   "id": "7164f9a3",
   "metadata": {
    "ExecuteTime": {
     "end_time": "2025-09-26T05:15:44.477034Z",
     "start_time": "2025-09-26T05:15:44.472107Z"
    }
   },
   "source": [
    "# Separate the features and the target variable\n",
    "X = df[['monthly_salary']]\n",
    "y = df['owns_car']\n",
    "\n",
    "# Split the dataset into training and testing sets\n",
    "X_train, X_test, y_train, y_test = train_test_split(X, y, test_size=0.3, random_state=42)"
   ],
   "outputs": [],
   "execution_count": 3
  },
  {
   "cell_type": "code",
   "id": "1fe5393b",
   "metadata": {
    "ExecuteTime": {
     "end_time": "2025-09-26T05:18:46.262364Z",
     "start_time": "2025-09-26T05:18:46.253116Z"
    }
   },
   "source": [
    "model = LogisticRegression()\n",
    "model.fit(X_train, y_train)\n",
    "y_pred = model.predict(X_test)\n",
    "y_pred"
   ],
   "outputs": [
    {
     "data": {
      "text/plain": [
       "array([1, 0, 1, 0, 0, 0, 0, 1, 0], dtype=int64)"
      ]
     },
     "execution_count": 11,
     "metadata": {},
     "output_type": "execute_result"
    }
   ],
   "execution_count": 11
  },
  {
   "metadata": {},
   "cell_type": "markdown",
   "source": [
    "\n",
    "## 3. Evaluating the Model's Performance\n",
    "\n",
    "Because we are evaluating the model on the same data it was trained on, we expect a perfect score. This highlights the risk of overfitting on small datasets.\n"
   ],
   "id": "864fd34dfb422256"
  },
  {
   "cell_type": "code",
   "id": "a157387d",
   "metadata": {
    "ExecuteTime": {
     "end_time": "2025-09-26T05:15:47.941228Z",
     "start_time": "2025-09-26T05:15:47.933228Z"
    }
   },
   "source": [
    "from sklearn.metrics import classification_report\n",
    "\n",
    "report = classification_report(y_test, y_pred)\n",
    "print(report)"
   ],
   "outputs": [
    {
     "name": "stdout",
     "output_type": "stream",
     "text": [
      "              precision    recall  f1-score   support\n",
      "\n",
      "           0       0.83      1.00      0.91         5\n",
      "           1       1.00      0.75      0.86         4\n",
      "\n",
      "    accuracy                           0.89         9\n",
      "   macro avg       0.92      0.88      0.88         9\n",
      "weighted avg       0.91      0.89      0.89         9\n",
      "\n"
     ]
    }
   ],
   "execution_count": 8
  },
  {
   "metadata": {},
   "cell_type": "markdown",
   "source": [
    "### Step 2.2: Generating the Confusion Matrix\n",
    "\n",
    "Using `scikit-learn`, we can easily generate the confusion matrix by comparing the true labels (`y_test`) with the model's predictions (`y_pred`).\n"
   ],
   "id": "41a6b80c3cc20ea2"
  },
  {
   "cell_type": "code",
   "id": "14ea08f7",
   "metadata": {
    "ExecuteTime": {
     "end_time": "2025-09-26T05:15:48.603532Z",
     "start_time": "2025-09-26T05:15:48.598545Z"
    }
   },
   "source": [
    "from sklearn.metrics import confusion_matrix\n",
    "\n",
    "cm = confusion_matrix(y_test, y_pred)\n",
    "cm"
   ],
   "outputs": [
    {
     "data": {
      "text/plain": [
       "array([[5, 0],\n",
       "       [1, 3]], dtype=int64)"
      ]
     },
     "execution_count": 9,
     "metadata": {},
     "output_type": "execute_result"
    }
   ],
   "execution_count": 9
  },
  {
   "metadata": {},
   "cell_type": "markdown",
   "source": [
    "## 3. Interpreting the Results\n",
    "\n",
    "### Step 3.1: Visualizing with a Heatmap\n",
    "\n",
    "The raw array is useful, but a heatmap is a more intuitive way to view the results. We use the `seaborn` library to plot the matrix.\n"
   ],
   "id": "b0a4443d0132ab9d"
  },
  {
   "cell_type": "code",
   "id": "31444a5d",
   "metadata": {
    "ExecuteTime": {
     "end_time": "2025-09-26T05:15:49.408299Z",
     "start_time": "2025-09-26T05:15:49.339942Z"
    }
   },
   "source": [
    "import seaborn as sns\n",
    "\n",
    "classes = [\"No Car\", \"Owns Car\"]\n",
    "\n",
    "sns.heatmap(cm, annot=True, xticklabels=classes, yticklabels=classes)   \n",
    "plt.xlabel('Predicted Labels')\n",
    "plt.ylabel('True Labels')\n",
    "plt.title('Confusion Matrix')\n",
    "plt.show()"
   ],
   "outputs": [
    {
     "data": {
      "text/plain": [
       "<Figure size 640x480 with 2 Axes>"
      ],
      "image/png": "[encoded data removed]"
     },
     "metadata": {},
     "output_type": "display_data",
     "jetTransient": {
      "display_id": null
     }
    }
   ],
   "execution_count": 10
  },
  {
   "metadata": {},
   "cell_type": "markdown",
   "source": [
    "### Step 3.2: Breaking Down the Numbers\n",
    "\n",
    "By looking at the heatmap, we can easily interpret our model's performance on the 9 test samples:\n",
    "* **True Negatives (Top-Left) = 5:** The model correctly predicted \"No Car\" 5 times.\n",
    "* **False Positives (Top-Right) = 0:** The model never incorrectly predicted \"Owns Car\".\n",
    "* **False Negatives (Bottom-Left) = 1:** The model incorrectly predicted \"No Car\" 1 time when the person actually did own a car. **This is our model's only error.**\n",
    "* **True Positives (Bottom-Right) = 3:** The model correctly predicted \"Owns Car\" 3 times."
   ],
   "id": "ce89b14d1898c26"
  },
  {
   "metadata": {},
   "cell_type": "markdown",
   "source": [
    "## 4. How the Confusion Matrix Powers Other Metrics\n",
    "\n",
    "All the other classification metrics we've seen are calculated directly from these four values (TP=3, TN=5, FP=0, FN=1).\n",
    "\n",
    "* **Accuracy:** $$ \\frac{TP + TN}{Total} = \\frac{3 + 5}{9} = 0.889 $$\n",
    "* **Precision (for \"Owns Car\"):** $$ \\frac{TP}{TP + FP} = \\frac{3}{3 + 0} = 1.0 $$\n",
    "* **Recall (for \"Owns Car\"):** $$ \\frac{TP}{TP + FN} = \\frac{3}{3 + 1} = 0.75 $$\n",
    "\n",
    "This confirms the values we saw in the `classification_report`. The confusion matrix provides the complete picture, allowing for a much deeper analysis of model performance than a single accuracy score ever could."
   ],
   "id": "20d7e3beed8ba048"
  }
 ],
 "metadata": {
  "kernelspec": {
   "display_name": "Python 3 (ipykernel)",
   "language": "python",
   "name": "python3"
  },
  "language_info": {
   "codemirror_mode": {
    "name": "ipython",
    "version": 3
   },
   "file_extension": ".py",
   "mimetype": "text/x-python",
   "name": "python",
   "nbconvert_exporter": "python",
   "pygments_lexer": "ipython3",
   "version": "3.10.11"
  }
 },
 "nbformat": 4,
 "nbformat_minor": 5
}
