{
 "cells": [
  {
   "metadata": {},
   "cell_type": "markdown",
   "source": [
    "# Handling Categorical Data: One-Hot Encoding 🏘️\n",
    "\n",
    "Machine learning models require all input features to be numerical. However, real-world datasets often contain **categorical features**—variables that represent labels rather than numerical quantities (e.g., city names, product types, etc.). Before we can train a model, we must convert these text labels into numbers.\n",
    "\n",
    "A common but incorrect approach for categories without a natural order (like city names) is to simply assign numbers (e.g., `Banjara Hills=0`, `Kollur=1`, `Mankhal=2`). This is a bad idea because it creates an artificial and misleading mathematical relationship. The model might incorrectly assume that `Mankhal` is somehow \"greater than\" `Kollur`, which doesn't make sense.\n",
    "\n",
    "The correct approach for such *nominal* categorical data is **One-Hot Encoding**.\n",
    "\n",
    "### What is One-Hot Encoding?\n",
    "\n",
    "One-Hot Encoding transforms each categorical feature into a set of new binary (0 or 1) columns. It creates a new column for each unique category. For any given row, the column corresponding to its original category will have a value of `1`, while all other new columns will have a value of `0`.\n",
    "\n",
    "This notebook demonstrates how to apply one-hot encoding to a home prices dataset to include the `locality` feature in a linear regression model.\n",
    "\n",
    "---"
   ],
   "id": "4b6c9c42c86829ef"
  },
  {
   "metadata": {},
   "cell_type": "markdown",
   "source": [
    "## 1. The Dataset with a Categorical Feature\n",
    "\n",
    "First, we load our dataset. Notice the `locality` column, which contains text data that our model cannot process directly.\n"
   ],
   "id": "393097c8b36b4bfe"
  },
  {
   "metadata": {
    "collapsed": true,
    "ExecuteTime": {
     "end_time": "2025-09-28T14:40:54.596287Z",
     "start_time": "2025-09-28T14:40:54.288742Z"
    }
   },
   "cell_type": "code",
   "outputs": [
    {
     "data": {
      "text/plain": [
       "         locality  area_sqr_ft  price_lakhs  bedrooms\n",
       "0          Kollur          656         39.0         2\n",
       "1          Kollur         1260         83.2         2\n",
       "2          Kollur         1057         86.6         3\n",
       "3          Kollur         1259         59.0         2\n",
       "4          Kollur         1800        140.0         3\n",
       "5          Kollur         1325         80.1         2\n",
       "6          Kollur         1085        116.0         3\n",
       "7          Kollur         1110         45.0         2\n",
       "8          Kollur         1700        100.0         3\n",
       "9   Banjara Hills         1650        200.0         3\n",
       "10  Banjara Hills         2438        316.0         3\n",
       "11  Banjara Hills         2115        220.0         2\n",
       "12  Banjara Hills         1600        150.0         3\n",
       "13  Banjara Hills         2400        300.0         3\n",
       "14  Banjara Hills         1100         85.0         2\n",
       "15  Banjara Hills         2600        400.0         3\n",
       "16        Mankhal         1100         54.0         2\n",
       "17        Mankhal         1125         64.0         2\n",
       "18        Mankhal         1008         50.0         2\n",
       "19        Mankhal         1266         78.0         2\n",
       "20        Mankhal         1540         94.0         3\n",
       "21        Mankhal         1200         85.0         3"
      ],
      "text/html": [
       "<div>\n",
       "<style scoped>\n",
       "    .dataframe tbody tr th:only-of-type {\n",
       "        vertical-align: middle;\n",
       "    }\n",
       "\n",
       "    .dataframe tbody tr th {\n",
       "        vertical-align: top;\n",
       "    }\n",
       "\n",
       "    .dataframe thead th {\n",
       "        text-align: right;\n",
       "    }\n",
       "</style>\n",
       "<table border=\"1\" class=\"dataframe\">\n",
       "  <thead>\n",
       "    <tr style=\"text-align: right;\">\n",
       "      <th></th>\n",
       "      <th>locality</th>\n",
       "      <th>area_sqr_ft</th>\n",
       "      <th>price_lakhs</th>\n",
       "      <th>bedrooms</th>\n",
       "    </tr>\n",
       "  </thead>\n",
       "  <tbody>\n",
       "    <tr>\n",
       "      <th>0</th>\n",
       "      <td>Kollur</td>\n",
       "      <td>656</td>\n",
       "      <td>39.0</td>\n",
       "      <td>2</td>\n",
       "    </tr>\n",
       "    <tr>\n",
       "      <th>1</th>\n",
       "      <td>Kollur</td>\n",
       "      <td>1260</td>\n",
       "      <td>83.2</td>\n",
       "      <td>2</td>\n",
       "    </tr>\n",
       "    <tr>\n",
       "      <th>2</th>\n",
       "      <td>Kollur</td>\n",
       "      <td>1057</td>\n",
       "      <td>86.6</td>\n",
       "      <td>3</td>\n",
       "    </tr>\n",
       "    <tr>\n",
       "      <th>3</th>\n",
       "      <td>Kollur</td>\n",
       "      <td>1259</td>\n",
       "      <td>59.0</td>\n",
       "      <td>2</td>\n",
       "    </tr>\n",
       "    <tr>\n",
       "      <th>4</th>\n",
       "      <td>Kollur</td>\n",
       "      <td>1800</td>\n",
       "      <td>140.0</td>\n",
       "      <td>3</td>\n",
       "    </tr>\n",
       "    <tr>\n",
       "      <th>5</th>\n",
       "      <td>Kollur</td>\n",
       "      <td>1325</td>\n",
       "      <td>80.1</td>\n",
       "      <td>2</td>\n",
       "    </tr>\n",
       "    <tr>\n",
       "      <th>6</th>\n",
       "      <td>Kollur</td>\n",
       "      <td>1085</td>\n",
       "      <td>116.0</td>\n",
       "      <td>3</td>\n",
       "    </tr>\n",
       "    <tr>\n",
       "      <th>7</th>\n",
       "      <td>Kollur</td>\n",
       "      <td>1110</td>\n",
       "      <td>45.0</td>\n",
       "      <td>2</td>\n",
       "    </tr>\n",
       "    <tr>\n",
       "      <th>8</th>\n",
       "      <td>Kollur</td>\n",
       "      <td>1700</td>\n",
       "      <td>100.0</td>\n",
       "      <td>3</td>\n",
       "    </tr>\n",
       "    <tr>\n",
       "      <th>9</th>\n",
       "      <td>Banjara Hills</td>\n",
       "      <td>1650</td>\n",
       "      <td>200.0</td>\n",
       "      <td>3</td>\n",
       "    </tr>\n",
       "    <tr>\n",
       "      <th>10</th>\n",
       "      <td>Banjara Hills</td>\n",
       "      <td>2438</td>\n",
       "      <td>316.0</td>\n",
       "      <td>3</td>\n",
       "    </tr>\n",
       "    <tr>\n",
       "      <th>11</th>\n",
       "      <td>Banjara Hills</td>\n",
       "      <td>2115</td>\n",
       "      <td>220.0</td>\n",
       "      <td>2</td>\n",
       "    </tr>\n",
       "    <tr>\n",
       "      <th>12</th>\n",
       "      <td>Banjara Hills</td>\n",
       "      <td>1600</td>\n",
       "      <td>150.0</td>\n",
       "      <td>3</td>\n",
       "    </tr>\n",
       "    <tr>\n",
       "      <th>13</th>\n",
       "      <td>Banjara Hills</td>\n",
       "      <td>2400</td>\n",
       "      <td>300.0</td>\n",
       "      <td>3</td>\n",
       "    </tr>\n",
       "    <tr>\n",
       "      <th>14</th>\n",
       "      <td>Banjara Hills</td>\n",
       "      <td>1100</td>\n",
       "      <td>85.0</td>\n",
       "      <td>2</td>\n",
       "    </tr>\n",
       "    <tr>\n",
       "      <th>15</th>\n",
       "      <td>Banjara Hills</td>\n",
       "      <td>2600</td>\n",
       "      <td>400.0</td>\n",
       "      <td>3</td>\n",
       "    </tr>\n",
       "    <tr>\n",
       "      <th>16</th>\n",
       "      <td>Mankhal</td>\n",
       "      <td>1100</td>\n",
       "      <td>54.0</td>\n",
       "      <td>2</td>\n",
       "    </tr>\n",
       "    <tr>\n",
       "      <th>17</th>\n",
       "      <td>Mankhal</td>\n",
       "      <td>1125</td>\n",
       "      <td>64.0</td>\n",
       "      <td>2</td>\n",
       "    </tr>\n",
       "    <tr>\n",
       "      <th>18</th>\n",
       "      <td>Mankhal</td>\n",
       "      <td>1008</td>\n",
       "      <td>50.0</td>\n",
       "      <td>2</td>\n",
       "    </tr>\n",
       "    <tr>\n",
       "      <th>19</th>\n",
       "      <td>Mankhal</td>\n",
       "      <td>1266</td>\n",
       "      <td>78.0</td>\n",
       "      <td>2</td>\n",
       "    </tr>\n",
       "    <tr>\n",
       "      <th>20</th>\n",
       "      <td>Mankhal</td>\n",
       "      <td>1540</td>\n",
       "      <td>94.0</td>\n",
       "      <td>3</td>\n",
       "    </tr>\n",
       "    <tr>\n",
       "      <th>21</th>\n",
       "      <td>Mankhal</td>\n",
       "      <td>1200</td>\n",
       "      <td>85.0</td>\n",
       "      <td>3</td>\n",
       "    </tr>\n",
       "  </tbody>\n",
       "</table>\n",
       "</div>"
      ]
     },
     "execution_count": 1,
     "metadata": {},
     "output_type": "execute_result"
    }
   ],
   "execution_count": 1,
   "source": [
    "import pandas as pd\n",
    "\n",
    "df = pd.read_csv('home_prices.csv')\n",
    "df"
   ],
   "id": "ca627af3052d0bcd"
  },
  {
   "metadata": {},
   "cell_type": "markdown",
   "source": [
    "## 2. Applying One-Hot Encoding with Pandas\n",
    "\n",
    "Pandas provides a very convenient function, `pd.get_dummies()`, to perform one-hot encoding.\n"
   ],
   "id": "fb6ff7afdf1250e0"
  },
  {
   "metadata": {
    "ExecuteTime": {
     "end_time": "2025-09-28T14:40:55.493234Z",
     "start_time": "2025-09-28T14:40:55.485748Z"
    }
   },
   "cell_type": "code",
   "source": [
    "df_encoded = pd.get_dummies(df, columns=[\"locality\"], drop_first=True)\n",
    "df_encoded.sample(5)"
   ],
   "id": "87a7323854660f3c",
   "outputs": [
    {
     "data": {
      "text/plain": [
       "    area_sqr_ft  price_lakhs  bedrooms  locality_Kollur  locality_Mankhal\n",
       "9          1650        200.0         3            False             False\n",
       "21         1200         85.0         3            False              True\n",
       "8          1700        100.0         3             True             False\n",
       "1          1260         83.2         2             True             False\n",
       "6          1085        116.0         3             True             False"
      ],
      "text/html": [
       "<div>\n",
       "<style scoped>\n",
       "    .dataframe tbody tr th:only-of-type {\n",
       "        vertical-align: middle;\n",
       "    }\n",
       "\n",
       "    .dataframe tbody tr th {\n",
       "        vertical-align: top;\n",
       "    }\n",
       "\n",
       "    .dataframe thead th {\n",
       "        text-align: right;\n",
       "    }\n",
       "</style>\n",
       "<table border=\"1\" class=\"dataframe\">\n",
       "  <thead>\n",
       "    <tr style=\"text-align: right;\">\n",
       "      <th></th>\n",
       "      <th>area_sqr_ft</th>\n",
       "      <th>price_lakhs</th>\n",
       "      <th>bedrooms</th>\n",
       "      <th>locality_Kollur</th>\n",
       "      <th>locality_Mankhal</th>\n",
       "    </tr>\n",
       "  </thead>\n",
       "  <tbody>\n",
       "    <tr>\n",
       "      <th>9</th>\n",
       "      <td>1650</td>\n",
       "      <td>200.0</td>\n",
       "      <td>3</td>\n",
       "      <td>False</td>\n",
       "      <td>False</td>\n",
       "    </tr>\n",
       "    <tr>\n",
       "      <th>21</th>\n",
       "      <td>1200</td>\n",
       "      <td>85.0</td>\n",
       "      <td>3</td>\n",
       "      <td>False</td>\n",
       "      <td>True</td>\n",
       "    </tr>\n",
       "    <tr>\n",
       "      <th>8</th>\n",
       "      <td>1700</td>\n",
       "      <td>100.0</td>\n",
       "      <td>3</td>\n",
       "      <td>True</td>\n",
       "      <td>False</td>\n",
       "    </tr>\n",
       "    <tr>\n",
       "      <th>1</th>\n",
       "      <td>1260</td>\n",
       "      <td>83.2</td>\n",
       "      <td>2</td>\n",
       "      <td>True</td>\n",
       "      <td>False</td>\n",
       "    </tr>\n",
       "    <tr>\n",
       "      <th>6</th>\n",
       "      <td>1085</td>\n",
       "      <td>116.0</td>\n",
       "      <td>3</td>\n",
       "      <td>True</td>\n",
       "      <td>False</td>\n",
       "    </tr>\n",
       "  </tbody>\n",
       "</table>\n",
       "</div>"
      ]
     },
     "execution_count": 2,
     "metadata": {},
     "output_type": "execute_result"
    }
   ],
   "execution_count": 2
  },
  {
   "metadata": {},
   "cell_type": "markdown",
   "source": [
    "**Explanation of `drop_first=True` (The Dummy Variable Trap):**\n",
    "\n",
    "Our original `locality` column had three categories: 'Banjara Hills', 'Kollur', and 'Mankhal'. You might expect `get_dummies` to create three new columns. However, we only see two: `locality_Kollur` and `locality_Mankhal`.\n",
    "\n",
    "This is because we set `drop_first=True`. This is done to avoid the **dummy variable trap**, a scenario where the input features are perfectly correlated. If we had all three columns, we would know that if `locality_Kollur` is 0 and `locality_Mankhal` is 0, then `locality_Banjara Hills` must be 1. This perfect multicollinearity can be a problem for linear models.\n",
    "\n",
    "By dropping one column, we make 'Banjara Hills' our **reference category**. The model learns its effect through the intercept, and the coefficients of the other dummy variables represent the difference in price relative to this baseline.\n"
   ],
   "id": "17f3faafddb16e0"
  },
  {
   "metadata": {},
   "cell_type": "markdown",
   "source": [
    "## 3. Training a Linear Regression Model\n",
    "\n",
    "Now that all our features are numerical, we can train a linear regression model to predict `price_lakhs`.\n"
   ],
   "id": "7df5ac5846ea860b"
  },
  {
   "metadata": {
    "ExecuteTime": {
     "end_time": "2025-09-28T14:40:59.675333Z",
     "start_time": "2025-09-28T14:40:59.606714Z"
    }
   },
   "cell_type": "code",
   "source": [
    "from sklearn.model_selection import train_test_split\n",
    "from sklearn.linear_model import LinearRegression\n",
    "\n",
    "X = df_encoded.drop(columns=[\"price_lakhs\"], axis=1)\n",
    "y = df_encoded[\"price_lakhs\"]\n",
    "\n",
    "X_train, X_test, y_train, y_test = train_test_split(X, y, test_size=0.2, random_state=42)\n",
    "\n",
    "model = LinearRegression()\n",
    "model.fit(X_train, y_train)\n",
    "\n",
    "model.score(X_test, y_test)"
   ],
   "id": "4200c6d847e7451c",
   "outputs": [
    {
     "data": {
      "text/plain": [
       "0.8558905263155381"
      ]
     },
     "execution_count": 3,
     "metadata": {},
     "output_type": "execute_result"
    }
   ],
   "execution_count": 3
  },
  {
   "metadata": {},
   "cell_type": "markdown",
   "source": "The model achieves an R² score of **0.856**, indicating a good fit.",
   "id": "5b53feef2dea70bd"
  },
  {
   "metadata": {},
   "cell_type": "markdown",
   "source": [
    "## 4. Making Predictions with Encoded Features\n",
    "\n",
    "To make predictions on new data, we must structure it in the same one-hot encoded format the model was trained on. Let's predict the price of a 1600 sq. ft., 2-bedroom house in each of the three localities.\n",
    "\n",
    "Here is how we represent each locality in the encoded format:"
   ],
   "id": "efaf1b8c2c217371"
  },
  {
   "metadata": {
    "ExecuteTime": {
     "end_time": "2025-09-28T14:44:58.445232Z",
     "start_time": "2025-09-28T14:44:58.441232Z"
    }
   },
   "cell_type": "code",
   "source": [
    "# For Banjara Hills (the reference category)\n",
    "print(f\"Banjara Hills: locality_Kollur=False, locality_Mankhal=False\")\n",
    "\n",
    "# For Mankhal\n",
    "print(f\"Mankhal:       locality_Kollur=False, locality_Mankhal=True\")\n",
    "\n",
    "# For Kollur\n",
    "print(f\"Kollur:        locality_Kollur=True,  locality_Mankhal=False\")"
   ],
   "id": "a599938f6147c93e",
   "outputs": [
    {
     "name": "stdout",
     "output_type": "stream",
     "text": [
      "Banjara Hills: locality_Kollur=False, locality_Mankhal=False\n",
      "Mankhal:       locality_Kollur=False, locality_Mankhal=True\n",
      "Kollur:        locality_Kollur=True,  locality_Mankhal=False\n"
     ]
    }
   ],
   "execution_count": 5
  },
  {
   "metadata": {},
   "cell_type": "markdown",
   "source": "Now, let's pass this data to our model for prediction.",
   "id": "ca7c5e506c87c501"
  },
  {
   "metadata": {
    "ExecuteTime": {
     "end_time": "2025-09-28T14:40:59.697716Z",
     "start_time": "2025-09-28T14:40:59.692347Z"
    }
   },
   "cell_type": "code",
   "source": [
    "test = pd.DataFrame([\n",
    "    {'area_sqr_ft': 1600, 'bedrooms': 2, 'locality_Kollur': False, 'locality_Mankhal': False},\n",
    "    {'area_sqr_ft': 1600, 'bedrooms': 2, 'locality_Kollur': False, 'locality_Mankhal': True},\n",
    "    {'area_sqr_ft': 1600, 'bedrooms': 2, 'locality_Kollur': True, 'locality_Mankhal': False}\n",
    "])\n",
    "\n",
    "model.predict(test)"
   ],
   "id": "ec0ef93fa8e4e7f8",
   "outputs": [
    {
     "data": {
      "text/plain": [
       "array([157.03383393, 109.25104283, 113.96340695])"
      ]
     },
     "execution_count": 4,
     "metadata": {},
     "output_type": "execute_result"
    }
   ],
   "execution_count": 4
  },
  {
   "metadata": {},
   "cell_type": "markdown",
   "source": [
    "**Interpretation:**\n",
    "The model predicts that a 1600 sq. ft., 2-bedroom house would cost:\n",
    "* **~157 lakhs** in Banjara Hills\n",
    "* **~109 lakhs** in Mankhal\n",
    "* **~114 lakhs** in Kollur\n",
    "\n",
    "This clearly shows that by using one-hot encoding, our model has successfully learned the impact of the `locality` feature on home prices."
   ],
   "id": "88aa98cc92baf2d6"
  }
 ],
 "metadata": {
  "kernelspec": {
   "display_name": "Python 3",
   "language": "python",
   "name": "python3"
  },
  "language_info": {
   "codemirror_mode": {
    "name": "ipython",
    "version": 2
   },
   "file_extension": ".py",
   "mimetype": "text/x-python",
   "name": "python",
   "nbconvert_exporter": "python",
   "pygments_lexer": "ipython2",
   "version": "2.7.6"
  }
 },
 "nbformat": 4,
 "nbformat_minor": 5
}
