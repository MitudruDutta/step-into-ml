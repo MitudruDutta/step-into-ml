{
 "cells": [
  {
   "metadata": {},
   "cell_type": "markdown",
   "source": [
    "# From Linear Regression to Gradient Boosting for Revenue Prediction 📈\n",
    "\n",
    "This notebook demonstrates how to build and compare three different regression models to predict `Revenue ($)` based on `Ad Spend ($)` and the `Season`. We will compare the performance of:\n",
    "\n",
    "1.  **Linear Regression:** A simple, foundational model that assumes a linear relationship between features and the target.\n",
    "2.  **Decision Tree Regressor:** A single non-linear model that makes predictions by splitting the data into branches based on feature values.\n",
    "3.  **Gradient Boosting Regressor:** A powerful **ensemble** method. It works by building a series of simple decision trees **sequentially**, where each new tree is trained to correct the errors (or residuals) of the one before it. This step-by-step improvement process often leads to highly accurate models.\n",
    "\n",
    "---"
   ],
   "id": "2dc62dc269337d8"
  },
  {
   "metadata": {},
   "cell_type": "markdown",
   "source": [
    "## 1. Exploring the Ad Spend Data\n",
    "\n",
    "First, let's load our dataset and explore the relationships between the variables.\n"
   ],
   "id": "cb9f751bce23976"
  },
  {
   "metadata": {
    "collapsed": true,
    "ExecuteTime": {
     "end_time": "2025-09-30T16:18:49.135113Z",
     "start_time": "2025-09-30T16:18:48.545292Z"
    }
   },
   "cell_type": "code",
   "source": [
    "import pandas as pd\n",
    "from matplotlib import pyplot as plt\n",
    "\n",
    "df = pd.read_csv('ad_spend.csv')\n",
    "df.head()"
   ],
   "id": "5e8c212c4a1370ee",
   "outputs": [
    {
     "data": {
      "text/plain": [
       "   Ad Spend ($)   Season  Revenue ($)\n",
       "0           463  Monsoon          440\n",
       "1           158   Winter          297\n",
       "2           328  Monsoon          214\n",
       "3           322  Monsoon           48\n",
       "4           726   Winter         1048"
      ],
      "text/html": [
       "<div>\n",
       "<style scoped>\n",
       "    .dataframe tbody tr th:only-of-type {\n",
       "        vertical-align: middle;\n",
       "    }\n",
       "\n",
       "    .dataframe tbody tr th {\n",
       "        vertical-align: top;\n",
       "    }\n",
       "\n",
       "    .dataframe thead th {\n",
       "        text-align: right;\n",
       "    }\n",
       "</style>\n",
       "<table border=\"1\" class=\"dataframe\">\n",
       "  <thead>\n",
       "    <tr style=\"text-align: right;\">\n",
       "      <th></th>\n",
       "      <th>Ad Spend ($)</th>\n",
       "      <th>Season</th>\n",
       "      <th>Revenue ($)</th>\n",
       "    </tr>\n",
       "  </thead>\n",
       "  <tbody>\n",
       "    <tr>\n",
       "      <th>0</th>\n",
       "      <td>463</td>\n",
       "      <td>Monsoon</td>\n",
       "      <td>440</td>\n",
       "    </tr>\n",
       "    <tr>\n",
       "      <th>1</th>\n",
       "      <td>158</td>\n",
       "      <td>Winter</td>\n",
       "      <td>297</td>\n",
       "    </tr>\n",
       "    <tr>\n",
       "      <th>2</th>\n",
       "      <td>328</td>\n",
       "      <td>Monsoon</td>\n",
       "      <td>214</td>\n",
       "    </tr>\n",
       "    <tr>\n",
       "      <th>3</th>\n",
       "      <td>322</td>\n",
       "      <td>Monsoon</td>\n",
       "      <td>48</td>\n",
       "    </tr>\n",
       "    <tr>\n",
       "      <th>4</th>\n",
       "      <td>726</td>\n",
       "      <td>Winter</td>\n",
       "      <td>1048</td>\n",
       "    </tr>\n",
       "  </tbody>\n",
       "</table>\n",
       "</div>"
      ]
     },
     "execution_count": 1,
     "metadata": {},
     "output_type": "execute_result"
    }
   ],
   "execution_count": 1
  },
  {
   "metadata": {},
   "cell_type": "markdown",
   "source": "We can group by `Season` to see the average Ad Spend and Revenue for each.",
   "id": "a32b7d1c4f128f12"
  },
  {
   "metadata": {
    "ExecuteTime": {
     "end_time": "2025-09-30T16:18:53.901351Z",
     "start_time": "2025-09-30T16:18:53.890306Z"
    }
   },
   "cell_type": "code",
   "source": [
    "g = df.groupby(\"Season\")[[\"Ad Spend ($)\", \"Revenue ($)\"]].mean()\n",
    "g"
   ],
   "id": "a526f2fbf4ed903b",
   "outputs": [
    {
     "data": {
      "text/plain": [
       "         Ad Spend ($)  Revenue ($)\n",
       "Season                            \n",
       "Monsoon    517.643836   423.150685\n",
       "Summer     573.836066   689.360656\n",
       "Winter     552.560606   826.530303"
      ],
      "text/html": [
       "<div>\n",
       "<style scoped>\n",
       "    .dataframe tbody tr th:only-of-type {\n",
       "        vertical-align: middle;\n",
       "    }\n",
       "\n",
       "    .dataframe tbody tr th {\n",
       "        vertical-align: top;\n",
       "    }\n",
       "\n",
       "    .dataframe thead th {\n",
       "        text-align: right;\n",
       "    }\n",
       "</style>\n",
       "<table border=\"1\" class=\"dataframe\">\n",
       "  <thead>\n",
       "    <tr style=\"text-align: right;\">\n",
       "      <th></th>\n",
       "      <th>Ad Spend ($)</th>\n",
       "      <th>Revenue ($)</th>\n",
       "    </tr>\n",
       "    <tr>\n",
       "      <th>Season</th>\n",
       "      <th></th>\n",
       "      <th></th>\n",
       "    </tr>\n",
       "  </thead>\n",
       "  <tbody>\n",
       "    <tr>\n",
       "      <th>Monsoon</th>\n",
       "      <td>517.643836</td>\n",
       "      <td>423.150685</td>\n",
       "    </tr>\n",
       "    <tr>\n",
       "      <th>Summer</th>\n",
       "      <td>573.836066</td>\n",
       "      <td>689.360656</td>\n",
       "    </tr>\n",
       "    <tr>\n",
       "      <th>Winter</th>\n",
       "      <td>552.560606</td>\n",
       "      <td>826.530303</td>\n",
       "    </tr>\n",
       "  </tbody>\n",
       "</table>\n",
       "</div>"
      ]
     },
     "execution_count": 2,
     "metadata": {},
     "output_type": "execute_result"
    }
   ],
   "execution_count": 2
  },
  {
   "metadata": {},
   "cell_type": "markdown",
   "source": "Visualizing this helps to see the trends more clearly. The bar chart shows that average revenue is highest in Winter, even though ad spend is slightly higher in Summer.",
   "id": "b37179e625cd655d"
  },
  {
   "metadata": {
    "ExecuteTime": {
     "end_time": "2025-09-30T16:19:36.297317Z",
     "start_time": "2025-09-30T16:19:36.126076Z"
    }
   },
   "cell_type": "code",
   "source": [
    "ax = g.plot(kind=\"bar\")\n",
    "\n",
    "ax.set_title('Average Ad Spend and Revenue by Season')\n",
    "ax.set_xlabel('Season')\n",
    "ax.set_ylabel('Values')\n",
    "\n",
    "plt.xticks(rotation=45)\n",
    "plt.show()"
   ],
   "id": "c251b4040cd58fd",
   "outputs": [
    {
     "data": {
      "text/plain": [
       "<Figure size 640x480 with 1 Axes>"
      ],
      "image/png": "[encoded data removed]"
     },
     "metadata": {},
     "output_type": "display_data",
     "jetTransient": {
      "display_id": null
     }
    }
   ],
   "execution_count": 3
  },
  {
   "metadata": {},
   "cell_type": "markdown",
   "source": "The scatter plot confirms that revenue generally increases with ad spend, but the trend seems to be different for each season, indicating that `Season` is an important predictive feature.",
   "id": "de531368dd4b384d"
  },
  {
   "metadata": {
    "ExecuteTime": {
     "end_time": "2025-09-30T16:20:54.173523Z",
     "start_time": "2025-09-30T16:20:54.088362Z"
    }
   },
   "cell_type": "code",
   "source": [
    "for season, subdf in df.groupby(\"Season\"):\n",
    "    plt.scatter(subdf[\"Ad Spend ($)\"], subdf[\"Revenue ($)\"], alpha=0.5, label=season)\n",
    "\n",
    "plt.xlabel(\"Ad Spend ($)\")\n",
    "plt.ylabel(\"Revenue ($)\")\n",
    "plt.legend()\n",
    "plt.show()"
   ],
   "id": "18f22036d5d6786d",
   "outputs": [
    {
     "data": {
      "text/plain": [
       "<Figure size 640x480 with 1 Axes>"
      ],
      "image/png": "[encoded data removed]"
     },
     "metadata": {},
     "output_type": "display_data",
     "jetTransient": {
      "display_id": null
     }
    }
   ],
   "execution_count": 4
  },
  {
   "metadata": {},
   "cell_type": "markdown",
   "source": [
    "## 2. Preparing the Data for Modeling\n",
    "\n",
    "Since `Season` is a categorical feature, we need to convert it into a numerical format using **One-Hot Encoding** before training our models.\n"
   ],
   "id": "fdd5cf1dbdfd329c"
  },
  {
   "metadata": {
    "ExecuteTime": {
     "end_time": "2025-09-30T16:21:11.804994Z",
     "start_time": "2025-09-30T16:21:11.797392Z"
    }
   },
   "cell_type": "code",
   "source": [
    "df_encoded = pd.get_dummies(df, columns=[\"Season\"], drop_first=True)\n",
    "df_encoded.head()"
   ],
   "id": "d097b6c4ffcc7e3",
   "outputs": [
    {
     "data": {
      "text/plain": [
       "   Ad Spend ($)  Revenue ($)  Season_Summer  Season_Winter\n",
       "0           463          440          False          False\n",
       "1           158          297          False           True\n",
       "2           328          214          False          False\n",
       "3           322           48          False          False\n",
       "4           726         1048          False           True"
      ],
      "text/html": [
       "<div>\n",
       "<style scoped>\n",
       "    .dataframe tbody tr th:only-of-type {\n",
       "        vertical-align: middle;\n",
       "    }\n",
       "\n",
       "    .dataframe tbody tr th {\n",
       "        vertical-align: top;\n",
       "    }\n",
       "\n",
       "    .dataframe thead th {\n",
       "        text-align: right;\n",
       "    }\n",
       "</style>\n",
       "<table border=\"1\" class=\"dataframe\">\n",
       "  <thead>\n",
       "    <tr style=\"text-align: right;\">\n",
       "      <th></th>\n",
       "      <th>Ad Spend ($)</th>\n",
       "      <th>Revenue ($)</th>\n",
       "      <th>Season_Summer</th>\n",
       "      <th>Season_Winter</th>\n",
       "    </tr>\n",
       "  </thead>\n",
       "  <tbody>\n",
       "    <tr>\n",
       "      <th>0</th>\n",
       "      <td>463</td>\n",
       "      <td>440</td>\n",
       "      <td>False</td>\n",
       "      <td>False</td>\n",
       "    </tr>\n",
       "    <tr>\n",
       "      <th>1</th>\n",
       "      <td>158</td>\n",
       "      <td>297</td>\n",
       "      <td>False</td>\n",
       "      <td>True</td>\n",
       "    </tr>\n",
       "    <tr>\n",
       "      <th>2</th>\n",
       "      <td>328</td>\n",
       "      <td>214</td>\n",
       "      <td>False</td>\n",
       "      <td>False</td>\n",
       "    </tr>\n",
       "    <tr>\n",
       "      <th>3</th>\n",
       "      <td>322</td>\n",
       "      <td>48</td>\n",
       "      <td>False</td>\n",
       "      <td>False</td>\n",
       "    </tr>\n",
       "    <tr>\n",
       "      <th>4</th>\n",
       "      <td>726</td>\n",
       "      <td>1048</td>\n",
       "      <td>False</td>\n",
       "      <td>True</td>\n",
       "    </tr>\n",
       "  </tbody>\n",
       "</table>\n",
       "</div>"
      ]
     },
     "execution_count": 5,
     "metadata": {},
     "output_type": "execute_result"
    }
   ],
   "execution_count": 5
  },
  {
   "metadata": {},
   "cell_type": "markdown",
   "source": "Now, we split our encoded data into training and testing sets.",
   "id": "1eeb3b1ee06c5025"
  },
  {
   "metadata": {
    "ExecuteTime": {
     "end_time": "2025-09-30T16:21:26.190518Z",
     "start_time": "2025-09-30T16:21:26.146422Z"
    }
   },
   "cell_type": "code",
   "source": [
    "from sklearn.model_selection import train_test_split\n",
    "\n",
    "X = df_encoded[[\"Ad Spend ($)\", \"Season_Summer\", \"Season_Winter\"]]\n",
    "y = df_encoded[\"Revenue ($)\"]\n",
    "\n",
    "X_train, X_test, y_train, y_test = train_test_split(X, y, test_size=0.25, random_state=10)"
   ],
   "id": "eb9976b61b970a1a",
   "outputs": [],
   "execution_count": 6
  },
  {
   "metadata": {},
   "cell_type": "markdown",
   "source": [
    "## 3. Comparing Model Performance\n",
    "\n",
    "We will train and evaluate our three models using the **R-squared ($R^2$) score**, which measures how well the model's predictions approximate the real data points. An $R^2$ of 1 indicates a perfect fit.\n",
    "\n",
    "### a) Baseline Model 1: Linear Regression"
   ],
   "id": "1f988b4ecb5d5a2d"
  },
  {
   "metadata": {
    "ExecuteTime": {
     "end_time": "2025-09-30T16:23:48.269238Z",
     "start_time": "2025-09-30T16:23:48.263417Z"
    }
   },
   "cell_type": "code",
   "source": [
    "from sklearn.linear_model import LinearRegression\n",
    "\n",
    "model_lr = LinearRegression()\n",
    "model_lr.fit(X_train, y_train)\n",
    "model_lr.score(X_test, y_test)"
   ],
   "id": "c5a23c8a0804194f",
   "outputs": [
    {
     "data": {
      "text/plain": [
       "0.8882097000477289"
      ]
     },
     "execution_count": 10,
     "metadata": {},
     "output_type": "execute_result"
    }
   ],
   "execution_count": 10
  },
  {
   "metadata": {},
   "cell_type": "markdown",
   "source": "The baseline Linear Regression model achieves an R² score of **88.8%**.",
   "id": "3c7f7fdad3ac2fb"
  },
  {
   "metadata": {},
   "cell_type": "markdown",
   "source": "### b) Baseline Model 2: Decision Tree Regressor",
   "id": "8be483d38204e826"
  },
  {
   "metadata": {
    "ExecuteTime": {
     "end_time": "2025-09-30T16:23:55.511271Z",
     "start_time": "2025-09-30T16:23:55.504270Z"
    }
   },
   "cell_type": "code",
   "source": [
    "from sklearn.tree import DecisionTreeRegressor\n",
    "\n",
    "model_dt = DecisionTreeRegressor()\n",
    "model_dt.fit(X_train, y_train)\n",
    "model_dt.score(X_test, y_test)"
   ],
   "id": "10347543d5263e46",
   "outputs": [
    {
     "data": {
      "text/plain": [
       "0.8972778553142061"
      ]
     },
     "execution_count": 11,
     "metadata": {},
     "output_type": "execute_result"
    }
   ],
   "execution_count": 11
  },
  {
   "metadata": {},
   "cell_type": "markdown",
   "source": "The single Decision Tree performs slightly better, with an R² score of **89.7%**.\n",
   "id": "1fa2fa2bf64f9fcb"
  },
  {
   "metadata": {},
   "cell_type": "markdown",
   "source": [
    "### c) Ensemble Model: Gradient Boosting Regressor\n",
    "\n",
    "Now we'll use the Gradient Boosting ensemble method."
   ],
   "id": "9b480b6299e78616"
  },
  {
   "metadata": {
    "ExecuteTime": {
     "end_time": "2025-09-30T16:24:02.071523Z",
     "start_time": "2025-09-30T16:24:02.021500Z"
    }
   },
   "cell_type": "code",
   "source": [
    "from sklearn.ensemble import GradientBoostingRegressor\n",
    "\n",
    "model_gbr = GradientBoostingRegressor()\n",
    "model_gbr.fit(X_train, y_train)\n",
    "model_gbr.score(X_test, y_test)"
   ],
   "id": "31e1bb4704c7f0cb",
   "outputs": [
    {
     "data": {
      "text/plain": [
       "0.9149899654766234"
      ]
     },
     "execution_count": 12,
     "metadata": {},
     "output_type": "execute_result"
    }
   ],
   "execution_count": 12
  },
  {
   "metadata": {},
   "cell_type": "markdown",
   "source": "The Gradient Boosting model achieves the highest score, with an R² of **91.5%**.",
   "id": "fbf1afc80ae78fcf"
  },
  {
   "metadata": {},
   "cell_type": "markdown",
   "source": [
    "## 4. Analyzing the Gradient Boosting Model's Predictions\n",
    "\n",
    "We can take a closer look at the predictions from our best model (Gradient Boosting) to see how they compare to the actual values on an individual basis."
   ],
   "id": "dad53ff572af7bcd"
  },
  {
   "metadata": {
    "ExecuteTime": {
     "end_time": "2025-09-30T16:24:05.020357Z",
     "start_time": "2025-09-30T16:24:05.013328Z"
    }
   },
   "cell_type": "code",
   "source": [
    "y_pred = model_gbr.predict(X_test)\n",
    "\n",
    "df_eval = pd.DataFrame({\"Actual\": y_test, \"Predicted\": y_pred})\n",
    "df_eval['Diff %'] = abs((df_eval['Predicted'] - df_eval['Actual'])*100 / df_eval['Actual'])\n",
    "df_eval.head()"
   ],
   "id": "c978b7c39c311ab9",
   "outputs": [
    {
     "data": {
      "text/plain": [
       "     Actual    Predicted     Diff %\n",
       "59      605   677.144222  11.924665\n",
       "5      1125  1073.575312   4.571083\n",
       "20      699   626.698237  10.343600\n",
       "198     504   418.202801  17.023254\n",
       "52     1310  1134.088133  13.428387"
      ],
      "text/html": [
       "<div>\n",
       "<style scoped>\n",
       "    .dataframe tbody tr th:only-of-type {\n",
       "        vertical-align: middle;\n",
       "    }\n",
       "\n",
       "    .dataframe tbody tr th {\n",
       "        vertical-align: top;\n",
       "    }\n",
       "\n",
       "    .dataframe thead th {\n",
       "        text-align: right;\n",
       "    }\n",
       "</style>\n",
       "<table border=\"1\" class=\"dataframe\">\n",
       "  <thead>\n",
       "    <tr style=\"text-align: right;\">\n",
       "      <th></th>\n",
       "      <th>Actual</th>\n",
       "      <th>Predicted</th>\n",
       "      <th>Diff %</th>\n",
       "    </tr>\n",
       "  </thead>\n",
       "  <tbody>\n",
       "    <tr>\n",
       "      <th>59</th>\n",
       "      <td>605</td>\n",
       "      <td>677.144222</td>\n",
       "      <td>11.924665</td>\n",
       "    </tr>\n",
       "    <tr>\n",
       "      <th>5</th>\n",
       "      <td>1125</td>\n",
       "      <td>1073.575312</td>\n",
       "      <td>4.571083</td>\n",
       "    </tr>\n",
       "    <tr>\n",
       "      <th>20</th>\n",
       "      <td>699</td>\n",
       "      <td>626.698237</td>\n",
       "      <td>10.343600</td>\n",
       "    </tr>\n",
       "    <tr>\n",
       "      <th>198</th>\n",
       "      <td>504</td>\n",
       "      <td>418.202801</td>\n",
       "      <td>17.023254</td>\n",
       "    </tr>\n",
       "    <tr>\n",
       "      <th>52</th>\n",
       "      <td>1310</td>\n",
       "      <td>1134.088133</td>\n",
       "      <td>13.428387</td>\n",
       "    </tr>\n",
       "  </tbody>\n",
       "</table>\n",
       "</div>"
      ]
     },
     "execution_count": 13,
     "metadata": {},
     "output_type": "execute_result"
    }
   ],
   "execution_count": 13
  },
  {
   "metadata": {},
   "cell_type": "markdown",
   "source": "This table shows that while the overall R² score is high, the percentage difference for individual predictions can vary.",
   "id": "a55867d88a4ef3bd"
  },
  {
   "metadata": {
    "ExecuteTime": {
     "end_time": "2025-09-01T07:41:35.802715Z",
     "start_time": "2025-09-01T07:41:35.795752Z"
    }
   },
   "cell_type": "markdown",
   "source": [
    "## 5. Conclusion\n",
    "\n",
    "| Model | R² Score |\n",
    "|:--- |:--- |\n",
    "| Linear Regression | 88.8% |\n",
    "| Decision Tree Regressor | 89.7% |\n",
    "| **Gradient Boosting Regressor**| **91.5%** |\n",
    "\n",
    "For this dataset, the ensemble method, **Gradient Boosting Regressor**, provided the best predictive performance. By sequentially building simple models that correct the errors of previous ones, it was able to capture the underlying patterns in the data more effectively than the other models."
   ],
   "id": "4eb08d93fb0edb1"
  }
 ],
 "metadata": {
  "kernelspec": {
   "display_name": "Python 3",
   "language": "python",
   "name": "python3"
  },
  "language_info": {
   "codemirror_mode": {
    "name": "ipython",
    "version": 2
   },
   "file_extension": ".py",
   "mimetype": "text/x-python",
   "name": "python",
   "nbconvert_exporter": "python",
   "pygments_lexer": "ipython2",
   "version": "2.7.6"
  }
 },
 "nbformat": 4,
 "nbformat_minor": 5
}
