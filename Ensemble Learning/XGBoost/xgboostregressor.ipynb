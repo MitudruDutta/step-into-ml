{
 "cells": [
  {
   "metadata": {},
   "cell_type": "markdown",
   "source": [
    "# XGBoost for Regression: A Powerful and Efficient Alternative ⚡️\n",
    "\n",
    "This notebook explores the use of **XGBoost (eXtreme Gradient Boosting)** for a regression problem and compares its performance against both a standard Linear Regression model and `scikit-learn`'s native Gradient Boosting implementation.\n",
    "\n",
    "**Gradient Boosting** is a powerful ensemble technique that builds models sequentially. Each new model (typically a decision tree) is trained to correct the errors of the ones before it, allowing the overall model to improve iteratively.\n",
    "\n",
    "**XGBoost** is a highly optimized and parallelized implementation of this concept. It is renowned in the machine learning community for its key advantages:\n",
    "* **Higher Predictive Accuracy:** It often achieves state-of-the-art results on structured data.\n",
    "* **Faster Training Speed:** It leverages parallel processing and algorithmic optimizations to train much more quickly than standard implementations.\n",
    "\n",
    "---"
   ],
   "id": "5814c95622a718fe"
  },
  {
   "metadata": {},
   "cell_type": "markdown",
   "source": [
    "## 1. Predicting Housing Prices in California\n",
    "\n",
    "We will use the well-known California Housing dataset, available directly from `scikit-learn`, to predict the median house value (`MedHouseVal`) in a district based on several demographic and geographic features.\n",
    "\n",
    "First, let's load the dataset and convert it into a `pandas` DataFrame for easier handling.\n"
   ],
   "id": "dbc717cfdf9eca77"
  },
  {
   "metadata": {
    "collapsed": true,
    "ExecuteTime": {
     "end_time": "2025-09-30T17:29:41.393597Z",
     "start_time": "2025-09-30T17:29:41.379078Z"
    }
   },
   "cell_type": "code",
   "source": [
    "import pandas as pd\n",
    "from sklearn.datasets import fetch_california_housing\n",
    "housing = fetch_california_housing()\n",
    "\n",
    "# Create a DataFrame\n",
    "df = pd.DataFrame(housing.data, columns=housing.feature_names)\n",
    "df['MedHouseVal'] = housing.target\n",
    "df.head()"
   ],
   "id": "7d39ae0a83d691d3",
   "outputs": [
    {
     "data": {
      "text/plain": [
       "   MedInc  HouseAge  AveRooms  AveBedrms  Population  AveOccup  Latitude  \\\n",
       "0  8.3252      41.0  6.984127   1.023810       322.0  2.555556     37.88   \n",
       "1  8.3014      21.0  6.238137   0.971880      2401.0  2.109842     37.86   \n",
       "2  7.2574      52.0  8.288136   1.073446       496.0  2.802260     37.85   \n",
       "3  5.6431      52.0  5.817352   1.073059       558.0  2.547945     37.85   \n",
       "4  3.8462      52.0  6.281853   1.081081       565.0  2.181467     37.85   \n",
       "\n",
       "   Longitude  MedHouseVal  \n",
       "0    -122.23        4.526  \n",
       "1    -122.22        3.585  \n",
       "2    -122.24        3.521  \n",
       "3    -122.25        3.413  \n",
       "4    -122.25        3.422  "
      ],
      "text/html": [
       "<div>\n",
       "<style scoped>\n",
       "    .dataframe tbody tr th:only-of-type {\n",
       "        vertical-align: middle;\n",
       "    }\n",
       "\n",
       "    .dataframe tbody tr th {\n",
       "        vertical-align: top;\n",
       "    }\n",
       "\n",
       "    .dataframe thead th {\n",
       "        text-align: right;\n",
       "    }\n",
       "</style>\n",
       "<table border=\"1\" class=\"dataframe\">\n",
       "  <thead>\n",
       "    <tr style=\"text-align: right;\">\n",
       "      <th></th>\n",
       "      <th>MedInc</th>\n",
       "      <th>HouseAge</th>\n",
       "      <th>AveRooms</th>\n",
       "      <th>AveBedrms</th>\n",
       "      <th>Population</th>\n",
       "      <th>AveOccup</th>\n",
       "      <th>Latitude</th>\n",
       "      <th>Longitude</th>\n",
       "      <th>MedHouseVal</th>\n",
       "    </tr>\n",
       "  </thead>\n",
       "  <tbody>\n",
       "    <tr>\n",
       "      <th>0</th>\n",
       "      <td>8.3252</td>\n",
       "      <td>41.0</td>\n",
       "      <td>6.984127</td>\n",
       "      <td>1.023810</td>\n",
       "      <td>322.0</td>\n",
       "      <td>2.555556</td>\n",
       "      <td>37.88</td>\n",
       "      <td>-122.23</td>\n",
       "      <td>4.526</td>\n",
       "    </tr>\n",
       "    <tr>\n",
       "      <th>1</th>\n",
       "      <td>8.3014</td>\n",
       "      <td>21.0</td>\n",
       "      <td>6.238137</td>\n",
       "      <td>0.971880</td>\n",
       "      <td>2401.0</td>\n",
       "      <td>2.109842</td>\n",
       "      <td>37.86</td>\n",
       "      <td>-122.22</td>\n",
       "      <td>3.585</td>\n",
       "    </tr>\n",
       "    <tr>\n",
       "      <th>2</th>\n",
       "      <td>7.2574</td>\n",
       "      <td>52.0</td>\n",
       "      <td>8.288136</td>\n",
       "      <td>1.073446</td>\n",
       "      <td>496.0</td>\n",
       "      <td>2.802260</td>\n",
       "      <td>37.85</td>\n",
       "      <td>-122.24</td>\n",
       "      <td>3.521</td>\n",
       "    </tr>\n",
       "    <tr>\n",
       "      <th>3</th>\n",
       "      <td>5.6431</td>\n",
       "      <td>52.0</td>\n",
       "      <td>5.817352</td>\n",
       "      <td>1.073059</td>\n",
       "      <td>558.0</td>\n",
       "      <td>2.547945</td>\n",
       "      <td>37.85</td>\n",
       "      <td>-122.25</td>\n",
       "      <td>3.413</td>\n",
       "    </tr>\n",
       "    <tr>\n",
       "      <th>4</th>\n",
       "      <td>3.8462</td>\n",
       "      <td>52.0</td>\n",
       "      <td>6.281853</td>\n",
       "      <td>1.081081</td>\n",
       "      <td>565.0</td>\n",
       "      <td>2.181467</td>\n",
       "      <td>37.85</td>\n",
       "      <td>-122.25</td>\n",
       "      <td>3.422</td>\n",
       "    </tr>\n",
       "  </tbody>\n",
       "</table>\n",
       "</div>"
      ]
     },
     "execution_count": 13,
     "metadata": {},
     "output_type": "execute_result"
    }
   ],
   "execution_count": 13
  },
  {
   "metadata": {
    "ExecuteTime": {
     "end_time": "2025-09-30T17:28:18.812156Z",
     "start_time": "2025-09-30T17:28:18.809155Z"
    }
   },
   "cell_type": "markdown",
   "source": "After splitting the data, we will compare our three models on **R-squared ($R^2$) Score**, **Mean Squared Error (MSE)**, and **Training Time**.\n",
   "id": "c03351db62c389b3"
  },
  {
   "metadata": {
    "ExecuteTime": {
     "end_time": "2025-09-30T17:30:08.531019Z",
     "start_time": "2025-09-30T17:30:08.525019Z"
    }
   },
   "cell_type": "code",
   "source": [
    "from sklearn.model_selection import train_test_split\n",
    "import time\n",
    "\n",
    "X = df.drop('MedHouseVal', axis='columns')\n",
    "y = df['MedHouseVal']\n",
    "\n",
    "X_train, X_test, y_train, y_test = train_test_split(X, y, test_size=0.2, random_state=10)"
   ],
   "id": "12867e52f7d3c43e",
   "outputs": [],
   "execution_count": 14
  },
  {
   "metadata": {
    "ExecuteTime": {
     "end_time": "2025-09-30T17:28:23.817104Z",
     "start_time": "2025-09-30T17:28:23.812528Z"
    }
   },
   "cell_type": "markdown",
   "source": [
    "## 2. Comparing Model Performance and Speed\n",
    "\n",
    "### a) Baseline Model: Linear Regression\n",
    "This simple, fast model serves as our initial performance benchmark."
   ],
   "id": "5d47f9457b74f0a5"
  },
  {
   "metadata": {
    "ExecuteTime": {
     "end_time": "2025-09-30T17:30:32.080921Z",
     "start_time": "2025-09-30T17:30:32.069454Z"
    }
   },
   "cell_type": "code",
   "source": [
    "from sklearn.linear_model import LinearRegression\n",
    "from sklearn.metrics import mean_squared_error, r2_score\n",
    "\n",
    "start = time.time()\n",
    "model_lr = LinearRegression()\n",
    "model_lr.fit(X_train, y_train)\n",
    "end = time.time()\n",
    "\n",
    "y_pred = model_lr.predict(X_test)\n",
    "print(f\"R2 Score: {r2_score(y_test, y_pred)}\")\n",
    "print(f\"MSE: {mean_squared_error(y_test, y_pred)}\")\n",
    "print(f\"Time: {end - start} seconds\")"
   ],
   "id": "9d2504cd3e633fa7",
   "outputs": [
    {
     "name": "stdout",
     "output_type": "stream",
     "text": [
      "R2 Score: 0.6009790143129106\n",
      "MSE: 0.5444842122132874\n",
      "Time: 0.0035076141357421875 seconds\n"
     ]
    }
   ],
   "execution_count": 15
  },
  {
   "metadata": {
    "ExecuteTime": {
     "end_time": "2025-09-30T17:28:26.945573Z",
     "start_time": "2025-09-30T17:28:26.941428Z"
    }
   },
   "cell_type": "markdown",
   "source": [
    "### b) Scikit-Learn's Gradient Boosting Regressor\n",
    "Next, we'll use `scikit-learn`'s native Gradient Boosting implementation. We expect a significant improvement in accuracy.\n"
   ],
   "id": "c39a1fb54954f0df"
  },
  {
   "metadata": {
    "ExecuteTime": {
     "end_time": "2025-09-30T17:31:05.141390Z",
     "start_time": "2025-09-30T17:31:01.876049Z"
    }
   },
   "cell_type": "code",
   "source": [
    "from sklearn.ensemble import GradientBoostingRegressor\n",
    "\n",
    "start = time.time()\n",
    "model_gbm = GradientBoostingRegressor()\n",
    "model_gbm.fit(X_train, y_train)\n",
    "end = time.time()\n",
    "\n",
    "y_pred = model_gbm.predict(X_test)\n",
    "print(f\"R2 Score: {r2_score(y_test, y_pred)}\")\n",
    "print(f\"MSE: {mean_squared_error(y_test, y_pred)}\")\n",
    "print(f\"Time: {end - start} seconds\")"
   ],
   "id": "33f048cc3cd18cc6",
   "outputs": [
    {
     "name": "stdout",
     "output_type": "stream",
     "text": [
      "R2 Score: 0.7852161384744023\n",
      "MSE: 0.2930833861720792\n",
      "Time: 3.253821611404419 seconds\n"
     ]
    }
   ],
   "execution_count": 16
  },
  {
   "metadata": {},
   "cell_type": "markdown",
   "source": "As expected, the R² score jumped significantly from **60% to 78.5%**. However, notice the training time increased substantially to over 2.7 seconds.\n",
   "id": "f1cdefa7397ae069"
  },
  {
   "metadata": {},
   "cell_type": "markdown",
   "source": [
    "### c) XGBoost Regressor\n",
    "\n",
    "Finally, we'll train the `XGBRegressor` on the same data."
   ],
   "id": "4899951cad7d0ae9"
  },
  {
   "metadata": {
    "ExecuteTime": {
     "end_time": "2025-09-30T17:31:37.829885Z",
     "start_time": "2025-09-30T17:31:37.696228Z"
    }
   },
   "cell_type": "code",
   "source": [
    "from xgboost import XGBRegressor\n",
    "\n",
    "start = time.time()\n",
    "model_xgb = XGBRegressor()\n",
    "model_xgb.fit(X_train, y_train)\n",
    "end = time.time()\n",
    "\n",
    "y_pred = model_xgb.predict(X_test)\n",
    "print(f\"R2 Score: {r2_score(y_test, y_pred)}\")\n",
    "print(f\"MSE: {mean_squared_error(y_test, y_pred)}\")\n",
    "print(f\"Time: {end - start} seconds\")"
   ],
   "id": "4404a9d6bb6de292",
   "outputs": [
    {
     "name": "stdout",
     "output_type": "stream",
     "text": [
      "R2 Score: 0.8365188672017998\n",
      "MSE: 0.22307823146216027\n",
      "Time: 0.12464714050292969 seconds\n"
     ]
    }
   ],
   "execution_count": 17
  },
  {
   "metadata": {},
   "cell_type": "markdown",
   "source": "The XGBoost model achieves the best performance and is dramatically faster than the standard Gradient Boosting implementation.\n",
   "id": "1eb472218a275eff"
  },
  {
   "metadata": {},
   "cell_type": "markdown",
   "source": [
    "## 3. Conclusion\n",
    "\n",
    "| Model | R² Score | Mean Squared Error (MSE) | Training Time |\n",
    "|:--- |:--- |:--- |:--- |\n",
    "| Linear Regression | 60.1% | 0.544 | ~0.003 s |\n",
    "| Gradient Boosting (sklearn) | 78.5% | 0.293 | ~2.770 s |\n",
    "| **XGBoost** | **83.7%** | **0.223** | **~0.127 s** |\n",
    "\n",
    "This comparison clearly shows why XGBoost is so popular. It provided a significant boost in predictive accuracy over both other models while also being **over 20 times faster** to train than scikit-learn's standard `GradientBoostingRegressor`. This combination of superior performance and high efficiency makes it an excellent choice for a wide range of regression tasks."
   ],
   "id": "f16e2e42969cd2d0"
  }
 ],
 "metadata": {
  "kernelspec": {
   "display_name": "Python 3",
   "language": "python",
   "name": "python3"
  },
  "language_info": {
   "codemirror_mode": {
    "name": "ipython",
    "version": 2
   },
   "file_extension": ".py",
   "mimetype": "text/x-python",
   "name": "python",
   "nbconvert_exporter": "python",
   "pygments_lexer": "ipython2",
   "version": "2.7.6"
  }
 },
 "nbformat": 4,
 "nbformat_minor": 5
}
