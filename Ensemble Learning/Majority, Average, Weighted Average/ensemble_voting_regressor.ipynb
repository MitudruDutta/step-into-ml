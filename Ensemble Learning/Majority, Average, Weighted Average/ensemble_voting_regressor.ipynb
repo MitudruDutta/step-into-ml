{
 "cells": [
  {
   "metadata": {},
   "cell_type": "markdown",
   "source": [
    "# Improving Regression Models with the Voting Regressor Ensemble 🏡\n",
    "\n",
    "**Ensemble Learning** is a powerful technique that combines the predictions from multiple machine learning models to produce a more robust and accurate final prediction. While the `VotingClassifier` is used for classification tasks, its counterpart for regression is the **`VotingRegressor`**.\n",
    "\n",
    "### How Does a Voting Regressor Work?\n",
    "\n",
    "A `VotingRegressor` is a simple yet effective ensemble method. It works by training several different regression models (e.g., a Linear Regression, a Ridge regressor, and a Decision Tree regressor) on the same dataset. To make a final prediction for a new data point, it simply **averages the individual predictions** from each of its base models.\n",
    "\n",
    "This averaging process can help to smooth out the errors and biases of the individual models, often resulting in a more stable and accurate overall prediction.\n",
    "\n",
    "---"
   ],
   "id": "635074657b875b9b"
  },
  {
   "metadata": {},
   "cell_type": "markdown",
   "source": [
    "## 1. Predicting Home Prices\n",
    "\n",
    "We will use a home prices dataset to predict the `price_lakhs` based on the `area_sqr_ft` and the number of `bedrooms`.\n"
   ],
   "id": "b3c596e258fc6d4d"
  },
  {
   "metadata": {
    "ExecuteTime": {
     "end_time": "2025-10-01T14:35:49.419298Z",
     "start_time": "2025-10-01T14:35:49.407279Z"
    }
   },
   "cell_type": "code",
   "source": [
    "import pandas as pd\n",
    "\n",
    "df = pd.read_csv(\"regression_home_prices.csv\")\n",
    "df.head()"
   ],
   "id": "c690edd69b04bfc2",
   "outputs": [
    {
     "data": {
      "text/plain": [
       "   area_sqr_ft  price_lakhs  bedrooms\n",
       "0        656.0         39.0         2\n",
       "1       1260.0         83.2         2\n",
       "2       1057.0         86.6         3\n",
       "3       1259.0         59.0         2\n",
       "4       1800.0        140.0         3"
      ],
      "text/html": [
       "<div>\n",
       "<style scoped>\n",
       "    .dataframe tbody tr th:only-of-type {\n",
       "        vertical-align: middle;\n",
       "    }\n",
       "\n",
       "    .dataframe tbody tr th {\n",
       "        vertical-align: top;\n",
       "    }\n",
       "\n",
       "    .dataframe thead th {\n",
       "        text-align: right;\n",
       "    }\n",
       "</style>\n",
       "<table border=\"1\" class=\"dataframe\">\n",
       "  <thead>\n",
       "    <tr style=\"text-align: right;\">\n",
       "      <th></th>\n",
       "      <th>area_sqr_ft</th>\n",
       "      <th>price_lakhs</th>\n",
       "      <th>bedrooms</th>\n",
       "    </tr>\n",
       "  </thead>\n",
       "  <tbody>\n",
       "    <tr>\n",
       "      <th>0</th>\n",
       "      <td>656.0</td>\n",
       "      <td>39.0</td>\n",
       "      <td>2</td>\n",
       "    </tr>\n",
       "    <tr>\n",
       "      <th>1</th>\n",
       "      <td>1260.0</td>\n",
       "      <td>83.2</td>\n",
       "      <td>2</td>\n",
       "    </tr>\n",
       "    <tr>\n",
       "      <th>2</th>\n",
       "      <td>1057.0</td>\n",
       "      <td>86.6</td>\n",
       "      <td>3</td>\n",
       "    </tr>\n",
       "    <tr>\n",
       "      <th>3</th>\n",
       "      <td>1259.0</td>\n",
       "      <td>59.0</td>\n",
       "      <td>2</td>\n",
       "    </tr>\n",
       "    <tr>\n",
       "      <th>4</th>\n",
       "      <td>1800.0</td>\n",
       "      <td>140.0</td>\n",
       "      <td>3</td>\n",
       "    </tr>\n",
       "  </tbody>\n",
       "</table>\n",
       "</div>"
      ]
     },
     "execution_count": 9,
     "metadata": {},
     "output_type": "execute_result"
    }
   ],
   "execution_count": 9
  },
  {
   "cell_type": "markdown",
   "id": "53337bb7",
   "metadata": {},
   "source": "First, we split our data into training and testing sets."
  },
  {
   "cell_type": "code",
   "id": "2dc9d653",
   "metadata": {
    "ExecuteTime": {
     "end_time": "2025-10-01T14:36:07.753768Z",
     "start_time": "2025-10-01T14:36:07.749297Z"
    }
   },
   "source": [
    "from sklearn.model_selection import train_test_split\n",
    "\n",
    "X = df[[\"area_sqr_ft\",\"bedrooms\"]]\n",
    "y = df[\"price_lakhs\"]\n",
    "\n",
    "X_train, X_test, y_train, y_test = train_test_split(X, y, test_size=0.2, random_state=10)"
   ],
   "outputs": [],
   "execution_count": 10
  },
  {
   "metadata": {},
   "cell_type": "markdown",
   "source": [
    "## 2. Baseline Model: A Single Linear Regressor\n",
    "\n",
    "Before building our ensemble, let's train a single `LinearRegression` model to establish a baseline R-squared ($R^2$) score.\n"
   ],
   "id": "767961b4f4b0067e"
  },
  {
   "cell_type": "code",
   "id": "97b5370d",
   "metadata": {
    "scrolled": true,
    "ExecuteTime": {
     "end_time": "2025-10-01T14:36:25.839711Z",
     "start_time": "2025-10-01T14:36:25.834131Z"
    }
   },
   "source": [
    "from sklearn.linear_model import LinearRegression\n",
    "\n",
    "model = LinearRegression()\n",
    "model.fit(X_train, y_train)\n",
    "model.score(X_test, y_test)"
   ],
   "outputs": [
    {
     "data": {
      "text/plain": [
       "0.8874887686858771"
      ]
     },
     "execution_count": 11,
     "metadata": {},
     "output_type": "execute_result"
    }
   ],
   "execution_count": 11
  },
  {
   "metadata": {},
   "cell_type": "markdown",
   "source": "Our baseline model achieves an R² score of **88.7%**.",
   "id": "eda42632020b2b0e"
  },
  {
   "metadata": {
    "ExecuteTime": {
     "end_time": "2025-10-01T14:33:36.506Z",
     "start_time": "2025-10-01T14:33:36.500568Z"
    }
   },
   "cell_type": "markdown",
   "source": [
    "## 3. Combining Models with the Voting Regressor\n",
    "\n",
    "Now, let's create an ensemble using three different types of regression models:\n",
    "1.  `LinearRegression`\n",
    "2.  `Ridge` (a regularized linear model)\n",
    "3.  `DecisionTreeRegressor`\n",
    "\n",
    "The `VotingRegressor` will combine the predictions of these three models."
   ],
   "id": "a58c28858a7dcf4c"
  },
  {
   "cell_type": "code",
   "id": "b6851d89",
   "metadata": {
    "ExecuteTime": {
     "end_time": "2025-10-01T14:37:16.475930Z",
     "start_time": "2025-10-01T14:37:16.466445Z"
    }
   },
   "source": [
    "from sklearn.ensemble import VotingRegressor\n",
    "from sklearn.linear_model import Ridge\n",
    "from sklearn.tree import DecisionTreeRegressor\n",
    "\n",
    "# Create the individual models\n",
    "lin_reg = LinearRegression()\n",
    "ridge_reg = Ridge(alpha=1.0)\n",
    "dt_reg = DecisionTreeRegressor()\n",
    "\n",
    "# Create the Voting Regressor\n",
    "vr = VotingRegressor(estimators=[\n",
    "    ('lr', lin_reg),\n",
    "    ('rr', ridge_reg),\n",
    "    ('dr', dt_reg)\n",
    "])\n",
    "\n",
    "vr.fit(X_train, y_train)\n",
    "vr.score(X_test, y_test)"
   ],
   "outputs": [
    {
     "data": {
      "text/plain": [
       "0.870340859079508"
      ]
     },
     "execution_count": 12,
     "metadata": {},
     "output_type": "execute_result"
    }
   ],
   "execution_count": 12
  },
  {
   "cell_type": "markdown",
   "id": "a419641d",
   "metadata": {},
   "source": "**Result:** In this case, the ensemble's R² score is **87.0%**, which is slightly lower than our single best model (Linear Regression). This can happen, especially when the base models are not very diverse or when one model is significantly better than the others on a particular dataset. The performance of the `VotingRegressor` can often be improved by tuning the hyperparameters of its base models (e.g., the `alpha` in `Ridge` or `max_depth` in `DecisionTreeRegressor`).\n"
  },
  {
   "cell_type": "markdown",
   "id": "3abff083",
   "metadata": {},
   "source": [
    "## 4. A Look at the Predictions\n",
    "\n",
    "To better understand how the ensemble works, let's compare the predictions of the individual models to the final prediction of the `VotingRegressor` for the first few test samples.\n"
   ]
  },
  {
   "cell_type": "code",
   "id": "c7498216",
   "metadata": {
    "ExecuteTime": {
     "end_time": "2025-10-01T14:37:45.587347Z",
     "start_time": "2025-10-01T14:37:45.561369Z"
    }
   },
   "source": [
    "# Train individual models to see their separate predictions\n",
    "lin_reg.fit(X_train, y_train)\n",
    "ridge_reg.fit(X_train, y_train)\n",
    "dt_reg.fit(X_train, y_train)\n",
    "\n",
    "# Create a comparison DataFrame\n",
    "df_pred = pd.DataFrame({\n",
    "    'Actual': y_test[:3].values,\n",
    "    'Linear': lin_reg.predict(X_test[:3]),\n",
    "    'Ridge': ridge_reg.predict(X_test[:3]),\n",
    "    'Decision Tree': dt_reg.predict(X_test[:3]),\n",
    "    'Voting Regressor': vr.predict(X_test[:3])\n",
    "})\n",
    "\n",
    "df_pred"
   ],
   "outputs": [
    {
     "data": {
      "text/plain": [
       "   Actual     Linear      Ridge  Decision Tree  Voting Regressor\n",
       "0    68.0  79.159400  79.505063           82.0         80.221488\n",
       "1    80.1  70.964695  71.280219           68.0         70.081638\n",
       "2    69.0  63.514964  63.803088           68.0         65.106017"
      ],
      "text/html": [
       "<div>\n",
       "<style scoped>\n",
       "    .dataframe tbody tr th:only-of-type {\n",
       "        vertical-align: middle;\n",
       "    }\n",
       "\n",
       "    .dataframe tbody tr th {\n",
       "        vertical-align: top;\n",
       "    }\n",
       "\n",
       "    .dataframe thead th {\n",
       "        text-align: right;\n",
       "    }\n",
       "</style>\n",
       "<table border=\"1\" class=\"dataframe\">\n",
       "  <thead>\n",
       "    <tr style=\"text-align: right;\">\n",
       "      <th></th>\n",
       "      <th>Actual</th>\n",
       "      <th>Linear</th>\n",
       "      <th>Ridge</th>\n",
       "      <th>Decision Tree</th>\n",
       "      <th>Voting Regressor</th>\n",
       "    </tr>\n",
       "  </thead>\n",
       "  <tbody>\n",
       "    <tr>\n",
       "      <th>0</th>\n",
       "      <td>68.0</td>\n",
       "      <td>79.159400</td>\n",
       "      <td>79.505063</td>\n",
       "      <td>82.0</td>\n",
       "      <td>80.221488</td>\n",
       "    </tr>\n",
       "    <tr>\n",
       "      <th>1</th>\n",
       "      <td>80.1</td>\n",
       "      <td>70.964695</td>\n",
       "      <td>71.280219</td>\n",
       "      <td>68.0</td>\n",
       "      <td>70.081638</td>\n",
       "    </tr>\n",
       "    <tr>\n",
       "      <th>2</th>\n",
       "      <td>69.0</td>\n",
       "      <td>63.514964</td>\n",
       "      <td>63.803088</td>\n",
       "      <td>68.0</td>\n",
       "      <td>65.106017</td>\n",
       "    </tr>\n",
       "  </tbody>\n",
       "</table>\n",
       "</div>"
      ]
     },
     "execution_count": 13,
     "metadata": {},
     "output_type": "execute_result"
    }
   ],
   "execution_count": 13
  },
  {
   "metadata": {
    "ExecuteTime": {
     "end_time": "2025-10-01T14:33:43.653042Z",
     "start_time": "2025-10-01T14:33:43.649093Z"
    }
   },
   "cell_type": "markdown",
   "source": "As you can see, the prediction from the `VotingRegressor` is the average of the predictions from the three individual models. For the first row: `(79.16 + 79.16 + 82.34) / 3 ≈ 80.22`.\n",
   "id": "bd5ec99e9c5f093b"
  },
  {
   "metadata": {},
   "cell_type": "markdown",
   "source": [
    "## 5. Conclusion\n",
    "\n",
    "The `VotingRegressor` is a straightforward and powerful technique for creating a more robust regression model. By averaging the outputs of several different models, it can often smooth out individual errors and lead to more stable predictions. While it didn't outperform the best single model in this specific instance with default parameters, it remains a valuable tool in the ensemble learning toolkit."
   ],
   "id": "abc0f45acacdfb8d"
  }
 ],
 "metadata": {
  "kernelspec": {
   "display_name": "Python 3 (ipykernel)",
   "language": "python",
   "name": "python3"
  },
  "language_info": {
   "codemirror_mode": {
    "name": "ipython",
    "version": 3
   },
   "file_extension": ".py",
   "mimetype": "text/x-python",
   "name": "python",
   "nbconvert_exporter": "python",
   "pygments_lexer": "ipython3",
   "version": "3.10.11"
  }
 },
 "nbformat": 4,
 "nbformat_minor": 5
}
