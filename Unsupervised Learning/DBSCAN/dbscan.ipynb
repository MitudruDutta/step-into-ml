{
 "cells": [
  {
   "cell_type": "markdown",
   "id": "ac7789e1",
   "metadata": {},
   "source": [
    "# DBSCAN Clustering Analysis\n",
    "\n",
    "## 1. Data Loading and Exploration\n",
    "\n",
    "We start by loading the income dataset and exploring its structure. This dataset contains information about individuals including their names, ages, and income levels - the same data we used for hierarchical clustering.\n"
   ]
  },
  {
   "cell_type": "code",
   "execution_count": 1,
   "id": "73af1bd4",
   "metadata": {
    "ExecuteTime": {
     "end_time": "2025-10-20T12:54:04.102516Z",
     "start_time": "2025-10-20T12:54:04.022335Z"
    },
    "scrolled": true
   },
   "outputs": [
    {
     "data": {
      "text/html": [
       "<div>\n",
       "<style scoped>\n",
       "    .dataframe tbody tr th:only-of-type {\n",
       "        vertical-align: middle;\n",
       "    }\n",
       "\n",
       "    .dataframe tbody tr th {\n",
       "        vertical-align: top;\n",
       "    }\n",
       "\n",
       "    .dataframe thead th {\n",
       "        text-align: right;\n",
       "    }\n",
       "</style>\n",
       "<table border=\"1\" class=\"dataframe\">\n",
       "  <thead>\n",
       "    <tr style=\"text-align: right;\">\n",
       "      <th></th>\n",
       "      <th>name</th>\n",
       "      <th>age</th>\n",
       "      <th>income</th>\n",
       "    </tr>\n",
       "  </thead>\n",
       "  <tbody>\n",
       "    <tr>\n",
       "      <th>0</th>\n",
       "      <td>Rob</td>\n",
       "      <td>29</td>\n",
       "      <td>45</td>\n",
       "    </tr>\n",
       "    <tr>\n",
       "      <th>1</th>\n",
       "      <td>Andrea</td>\n",
       "      <td>50</td>\n",
       "      <td>80</td>\n",
       "    </tr>\n",
       "    <tr>\n",
       "      <th>2</th>\n",
       "      <td>Mohan</td>\n",
       "      <td>35</td>\n",
       "      <td>52</td>\n",
       "    </tr>\n",
       "    <tr>\n",
       "      <th>3</th>\n",
       "      <td>Michael</td>\n",
       "      <td>32</td>\n",
       "      <td>41</td>\n",
       "    </tr>\n",
       "    <tr>\n",
       "      <th>4</th>\n",
       "      <td>Kory</td>\n",
       "      <td>36</td>\n",
       "      <td>87</td>\n",
       "    </tr>\n",
       "    <tr>\n",
       "      <th>5</th>\n",
       "      <td>David</td>\n",
       "      <td>48</td>\n",
       "      <td>68</td>\n",
       "    </tr>\n",
       "    <tr>\n",
       "      <th>6</th>\n",
       "      <td>Ismail</td>\n",
       "      <td>31</td>\n",
       "      <td>80</td>\n",
       "    </tr>\n",
       "    <tr>\n",
       "      <th>7</th>\n",
       "      <td>Sheela</td>\n",
       "      <td>55</td>\n",
       "      <td>60</td>\n",
       "    </tr>\n",
       "  </tbody>\n",
       "</table>\n",
       "</div>"
      ],
      "text/plain": [
       "      name  age  income\n",
       "0      Rob   29      45\n",
       "1   Andrea   50      80\n",
       "2    Mohan   35      52\n",
       "3  Michael   32      41\n",
       "4     Kory   36      87\n",
       "5    David   48      68\n",
       "6   Ismail   31      80\n",
       "7   Sheela   55      60"
      ]
     },
     "execution_count": 1,
     "metadata": {},
     "output_type": "execute_result"
    }
   ],
   "source": [
    "import pandas as pd\n",
    "from matplotlib import pyplot as plt\n",
    "import seaborn as sns\n",
    "import numpy as np\n",
    "\n",
    "df = pd.read_excel(\"income.xlsx\", names=[\"name\",\"age\",\"income\"])\n",
    "df"
   ]
  },
  {
   "cell_type": "markdown",
   "id": "2f8cb537",
   "metadata": {},
   "source": [
    "## 2. Initial Data Visualization\n",
    "\n",
    "We create a scatter plot to visualize the relationship between age and income before applying DBSCAN clustering. This helps us understand the natural distribution of our data points.\n"
   ]
  },
  {
   "cell_type": "code",
   "execution_count": 2,
   "id": "a87335bb",
   "metadata": {
    "ExecuteTime": {
     "end_time": "2025-10-20T12:54:12.178320Z",
     "start_time": "2025-10-20T12:54:12.120083Z"
    }
   },
   "outputs": [
    {
     "data": {
      "image/png": "[encoded data removed]",
      "text/plain": [
       "<Figure size 640x480 with 1 Axes>"
      ]
     },
     "metadata": {},
     "output_type": "display_data"
    }
   ],
   "source": [
    "sns.scatterplot(df, x='age', y='income', s=100)\n",
    "plt.show()"
   ]
  },
  {
   "cell_type": "markdown",
   "id": "310740ec",
   "metadata": {},
   "source": [
    "## 3. DBSCAN Clustering Implementation\n",
    "\n",
    "### Understanding DBSCAN Parameters\n",
    "\n",
    "DBSCAN (Density-Based Spatial Clustering of Applications with Noise) requires two key parameters:\n",
    "\n",
    "- **eps=10**: The maximum distance between two samples for them to be considered neighbors\n",
    "- **min_samples=2**: The minimum number of samples in a neighborhood for a point to be considered a core point\n",
    "\n",
    "DBSCAN works by:\n",
    "1. Finding core points (points with at least `min_samples` neighbors within `eps` distance)\n",
    "2. Forming clusters by connecting core points and their neighbors\n",
    "3. Marking isolated points as noise (label = -1)\n"
   ]
  },
  {
   "cell_type": "code",
   "execution_count": 3,
   "id": "3c0b6014",
   "metadata": {
    "ExecuteTime": {
     "end_time": "2025-10-20T12:54:13.259961Z",
     "start_time": "2025-10-20T12:54:13.208187Z"
    }
   },
   "outputs": [
    {
     "data": {
      "text/plain": [
       "array([ 0, -1,  0,  0,  1, -1,  1, -1])"
      ]
     },
     "execution_count": 3,
     "metadata": {},
     "output_type": "execute_result"
    }
   ],
   "source": [
    "from sklearn.cluster import DBSCAN\n",
    "\n",
    "ds = DBSCAN(eps=10, min_samples=2)\n",
    "ds.fit(df[['age', 'income']])\n",
    "ds.labels_"
   ]
  },
  {
   "cell_type": "markdown",
   "id": "93b9d253",
   "metadata": {},
   "source": [
    "## 4. Adding Cluster Labels to Dataset\n",
    "\n",
    "We add the cluster assignments back to our dataframe. Notice that DBSCAN can identify noise points (outliers) which are labeled as -1. This is a key advantage of DBSCAN over other clustering methods.\n"
   ]
  },
  {
   "cell_type": "code",
   "execution_count": 4,
   "id": "842de810",
   "metadata": {
    "ExecuteTime": {
     "end_time": "2025-10-20T12:54:14.283954Z",
     "start_time": "2025-10-20T12:54:14.280483Z"
    }
   },
   "outputs": [
    {
     "data": {
      "text/html": [
       "<div>\n",
       "<style scoped>\n",
       "    .dataframe tbody tr th:only-of-type {\n",
       "        vertical-align: middle;\n",
       "    }\n",
       "\n",
       "    .dataframe tbody tr th {\n",
       "        vertical-align: top;\n",
       "    }\n",
       "\n",
       "    .dataframe thead th {\n",
       "        text-align: right;\n",
       "    }\n",
       "</style>\n",
       "<table border=\"1\" class=\"dataframe\">\n",
       "  <thead>\n",
       "    <tr style=\"text-align: right;\">\n",
       "      <th></th>\n",
       "      <th>name</th>\n",
       "      <th>age</th>\n",
       "      <th>income</th>\n",
       "      <th>cluster</th>\n",
       "    </tr>\n",
       "  </thead>\n",
       "  <tbody>\n",
       "    <tr>\n",
       "      <th>0</th>\n",
       "      <td>Rob</td>\n",
       "      <td>29</td>\n",
       "      <td>45</td>\n",
       "      <td>0</td>\n",
       "    </tr>\n",
       "    <tr>\n",
       "      <th>1</th>\n",
       "      <td>Andrea</td>\n",
       "      <td>50</td>\n",
       "      <td>80</td>\n",
       "      <td>-1</td>\n",
       "    </tr>\n",
       "    <tr>\n",
       "      <th>2</th>\n",
       "      <td>Mohan</td>\n",
       "      <td>35</td>\n",
       "      <td>52</td>\n",
       "      <td>0</td>\n",
       "    </tr>\n",
       "    <tr>\n",
       "      <th>3</th>\n",
       "      <td>Michael</td>\n",
       "      <td>32</td>\n",
       "      <td>41</td>\n",
       "      <td>0</td>\n",
       "    </tr>\n",
       "    <tr>\n",
       "      <th>4</th>\n",
       "      <td>Kory</td>\n",
       "      <td>36</td>\n",
       "      <td>87</td>\n",
       "      <td>1</td>\n",
       "    </tr>\n",
       "    <tr>\n",
       "      <th>5</th>\n",
       "      <td>David</td>\n",
       "      <td>48</td>\n",
       "      <td>68</td>\n",
       "      <td>-1</td>\n",
       "    </tr>\n",
       "    <tr>\n",
       "      <th>6</th>\n",
       "      <td>Ismail</td>\n",
       "      <td>31</td>\n",
       "      <td>80</td>\n",
       "      <td>1</td>\n",
       "    </tr>\n",
       "    <tr>\n",
       "      <th>7</th>\n",
       "      <td>Sheela</td>\n",
       "      <td>55</td>\n",
       "      <td>60</td>\n",
       "      <td>-1</td>\n",
       "    </tr>\n",
       "  </tbody>\n",
       "</table>\n",
       "</div>"
      ],
      "text/plain": [
       "      name  age  income  cluster\n",
       "0      Rob   29      45        0\n",
       "1   Andrea   50      80       -1\n",
       "2    Mohan   35      52        0\n",
       "3  Michael   32      41        0\n",
       "4     Kory   36      87        1\n",
       "5    David   48      68       -1\n",
       "6   Ismail   31      80        1\n",
       "7   Sheela   55      60       -1"
      ]
     },
     "execution_count": 4,
     "metadata": {},
     "output_type": "execute_result"
    }
   ],
   "source": [
    "df[\"cluster\"] = ds.labels_\n",
    "df"
   ]
  },
  {
   "cell_type": "markdown",
   "id": "b2be768d",
   "metadata": {},
   "source": [
    "## 5. Visualizing DBSCAN Results\n",
    "\n",
    "The colored scatter plot shows how DBSCAN has grouped our data:\n",
    "- Different colors represent different clusters\n",
    "- Points labeled as -1 (noise/outliers) are shown in a distinct color\n",
    "- DBSCAN automatically determines the number of clusters based on data density\n",
    "\n",
    "**Key Advantages of DBSCAN:**\n",
    "- Can find clusters of arbitrary shape\n",
    "- Automatically identifies outliers/noise\n",
    "- Doesn't require pre-specifying the number of clusters\n",
    "- Robust to outliers\n"
   ]
  },
  {
   "cell_type": "code",
   "execution_count": 5,
   "id": "ab2cf0a2",
   "metadata": {
    "ExecuteTime": {
     "end_time": "2025-10-20T12:54:15.906979Z",
     "start_time": "2025-10-20T12:54:15.851321Z"
    },
    "scrolled": false
   },
   "outputs": [
    {
     "data": {
      "image/png": "[encoded data removed]",
      "text/plain": [
       "<Figure size 640x480 with 1 Axes>"
      ]
     },
     "metadata": {},
     "output_type": "display_data"
    }
   ],
   "source": [
    "sns.scatterplot(df, x='age', y='income',  palette='viridis', s=100, hue=\"cluster\")\n",
    "plt.show()"
   ]
  }
 ],
 "metadata": {
  "kernelspec": {
   "display_name": "Python 3 (ipykernel)",
   "language": "python",
   "name": "python3"
  },
  "language_info": {
   "codemirror_mode": {
    "name": "ipython",
    "version": 3
   },
   "file_extension": ".py",
   "mimetype": "text/x-python",
   "name": "python",
   "nbconvert_exporter": "python",
   "pygments_lexer": "ipython3",
   "version": "3.10.11"
  }
 },
 "nbformat": 4,
 "nbformat_minor": 5
}
