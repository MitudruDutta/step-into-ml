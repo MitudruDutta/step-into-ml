{
 "cells": [
  {
   "cell_type": "markdown",
   "id": "103a30f7",
   "metadata": {},
   "source": [
    "# Hierarchical Clustering Analysis\n",
    "\n",
    "## 1. Data Loading and Exploration\n",
    "\n",
    "In this section, we load the income dataset and explore its structure. The dataset contains information about individuals including their names, ages, and income levels.\n"
   ]
  },
  {
   "cell_type": "code",
   "execution_count": 1,
   "id": "initial_id",
   "metadata": {
    "ExecuteTime": {
     "end_time": "2025-10-20T12:15:55.441116Z",
     "start_time": "2025-10-20T12:15:55.364961Z"
    },
    "collapsed": true
   },
   "outputs": [
    {
     "data": {
      "text/html": [
       "<div>\n",
       "<style scoped>\n",
       "    .dataframe tbody tr th:only-of-type {\n",
       "        vertical-align: middle;\n",
       "    }\n",
       "\n",
       "    .dataframe tbody tr th {\n",
       "        vertical-align: top;\n",
       "    }\n",
       "\n",
       "    .dataframe thead th {\n",
       "        text-align: right;\n",
       "    }\n",
       "</style>\n",
       "<table border=\"1\" class=\"dataframe\">\n",
       "  <thead>\n",
       "    <tr style=\"text-align: right;\">\n",
       "      <th></th>\n",
       "      <th>name</th>\n",
       "      <th>age</th>\n",
       "      <th>income</th>\n",
       "    </tr>\n",
       "  </thead>\n",
       "  <tbody>\n",
       "    <tr>\n",
       "      <th>0</th>\n",
       "      <td>Rob</td>\n",
       "      <td>29</td>\n",
       "      <td>45</td>\n",
       "    </tr>\n",
       "    <tr>\n",
       "      <th>1</th>\n",
       "      <td>Andrea</td>\n",
       "      <td>50</td>\n",
       "      <td>80</td>\n",
       "    </tr>\n",
       "    <tr>\n",
       "      <th>2</th>\n",
       "      <td>Mohan</td>\n",
       "      <td>35</td>\n",
       "      <td>52</td>\n",
       "    </tr>\n",
       "    <tr>\n",
       "      <th>3</th>\n",
       "      <td>Michael</td>\n",
       "      <td>32</td>\n",
       "      <td>41</td>\n",
       "    </tr>\n",
       "    <tr>\n",
       "      <th>4</th>\n",
       "      <td>Kory</td>\n",
       "      <td>36</td>\n",
       "      <td>87</td>\n",
       "    </tr>\n",
       "    <tr>\n",
       "      <th>5</th>\n",
       "      <td>David</td>\n",
       "      <td>48</td>\n",
       "      <td>68</td>\n",
       "    </tr>\n",
       "    <tr>\n",
       "      <th>6</th>\n",
       "      <td>Ismail</td>\n",
       "      <td>31</td>\n",
       "      <td>80</td>\n",
       "    </tr>\n",
       "    <tr>\n",
       "      <th>7</th>\n",
       "      <td>Sheela</td>\n",
       "      <td>55</td>\n",
       "      <td>60</td>\n",
       "    </tr>\n",
       "  </tbody>\n",
       "</table>\n",
       "</div>"
      ],
      "text/plain": [
       "      name  age  income\n",
       "0      Rob   29      45\n",
       "1   Andrea   50      80\n",
       "2    Mohan   35      52\n",
       "3  Michael   32      41\n",
       "4     Kory   36      87\n",
       "5    David   48      68\n",
       "6   Ismail   31      80\n",
       "7   Sheela   55      60"
      ]
     },
     "execution_count": 1,
     "metadata": {},
     "output_type": "execute_result"
    }
   ],
   "source": [
    "import pandas as pd\n",
    "from matplotlib import pyplot as plt\n",
    "import seaborn as sns\n",
    "import numpy as np\n",
    "\n",
    "df = pd.read_excel('income.xlsx', names=[\"name\", \"age\", \"income\"])\n",
    "df"
   ]
  },
  {
   "cell_type": "markdown",
   "id": "39059d63",
   "metadata": {},
   "source": [
    "## 2. Initial Data Visualization\n",
    "\n",
    "We create a scatter plot to visualize the relationship between age and income. This helps us understand the data distribution before applying clustering algorithms.\n"
   ]
  },
  {
   "cell_type": "code",
   "execution_count": 5,
   "id": "a3cb20bf2120f729",
   "metadata": {
    "ExecuteTime": {
     "end_time": "2025-10-20T12:16:32.657259Z",
     "start_time": "2025-10-20T12:16:32.598949Z"
    }
   },
   "outputs": [
    {
     "data": {
      "image/png": "[encoded data removed]",
      "text/plain": [
       "<Figure size 640x480 with 1 Axes>"
      ]
     },
     "metadata": {},
     "output_type": "display_data"
    }
   ],
   "source": [
    "sns.scatterplot(df, x='age', y='income', s=100)\n",
    "plt.show()"
   ]
  },
  {
   "cell_type": "markdown",
   "id": "27d623a4",
   "metadata": {},
   "source": [
    "## 3. Hierarchical Clustering Implementation\n",
    "\n",
    "### Using AgglomerativeClustering from Scikit-learn\n",
    "\n",
    "We implement hierarchical clustering using the `AgglomerativeClustering` class:\n",
    "- **n_clusters=3**: We specify that we want 3 clusters\n",
    "- **linkage='ward'**: We use Ward linkage, which minimizes within-cluster variance\n",
    "- **Features**: We use 'age' and 'income' as our clustering features\n",
    "\n",
    "The algorithm assigns each data point to one of the three clusters based on similarity.\n"
   ]
  },
  {
   "cell_type": "code",
   "execution_count": 6,
   "id": "b4876d0ef7a358a5",
   "metadata": {
    "ExecuteTime": {
     "end_time": "2025-10-20T12:17:28.538078Z",
     "start_time": "2025-10-20T12:17:28.484837Z"
    }
   },
   "outputs": [
    {
     "data": {
      "text/plain": [
       "array([1, 0, 1, 1, 2, 0, 2, 0])"
      ]
     },
     "execution_count": 6,
     "metadata": {},
     "output_type": "execute_result"
    }
   ],
   "source": [
    "from sklearn.cluster import AgglomerativeClustering\n",
    "\n",
    "hc = AgglomerativeClustering(n_clusters=3, linkage='ward')\n",
    "hc.fit(df[['age', 'income']])\n",
    "hc.labels_"
   ]
  },
  {
   "cell_type": "markdown",
   "id": "9e104703",
   "metadata": {},
   "source": [
    "## 4. Adding Cluster Labels to Dataset\n",
    "\n",
    "We add the cluster assignments back to our original dataframe to see which cluster each person belongs to. This allows us to analyze the characteristics of each cluster.\n"
   ]
  },
  {
   "cell_type": "code",
   "execution_count": 7,
   "id": "f7ab73a14e7867a8",
   "metadata": {
    "ExecuteTime": {
     "end_time": "2025-10-20T12:17:35.968230Z",
     "start_time": "2025-10-20T12:17:35.963236Z"
    }
   },
   "outputs": [
    {
     "data": {
      "text/html": [
       "<div>\n",
       "<style scoped>\n",
       "    .dataframe tbody tr th:only-of-type {\n",
       "        vertical-align: middle;\n",
       "    }\n",
       "\n",
       "    .dataframe tbody tr th {\n",
       "        vertical-align: top;\n",
       "    }\n",
       "\n",
       "    .dataframe thead th {\n",
       "        text-align: right;\n",
       "    }\n",
       "</style>\n",
       "<table border=\"1\" class=\"dataframe\">\n",
       "  <thead>\n",
       "    <tr style=\"text-align: right;\">\n",
       "      <th></th>\n",
       "      <th>name</th>\n",
       "      <th>age</th>\n",
       "      <th>income</th>\n",
       "      <th>Cluster</th>\n",
       "    </tr>\n",
       "  </thead>\n",
       "  <tbody>\n",
       "    <tr>\n",
       "      <th>0</th>\n",
       "      <td>Rob</td>\n",
       "      <td>29</td>\n",
       "      <td>45</td>\n",
       "      <td>1</td>\n",
       "    </tr>\n",
       "    <tr>\n",
       "      <th>1</th>\n",
       "      <td>Andrea</td>\n",
       "      <td>50</td>\n",
       "      <td>80</td>\n",
       "      <td>0</td>\n",
       "    </tr>\n",
       "    <tr>\n",
       "      <th>2</th>\n",
       "      <td>Mohan</td>\n",
       "      <td>35</td>\n",
       "      <td>52</td>\n",
       "      <td>1</td>\n",
       "    </tr>\n",
       "    <tr>\n",
       "      <th>3</th>\n",
       "      <td>Michael</td>\n",
       "      <td>32</td>\n",
       "      <td>41</td>\n",
       "      <td>1</td>\n",
       "    </tr>\n",
       "    <tr>\n",
       "      <th>4</th>\n",
       "      <td>Kory</td>\n",
       "      <td>36</td>\n",
       "      <td>87</td>\n",
       "      <td>2</td>\n",
       "    </tr>\n",
       "    <tr>\n",
       "      <th>5</th>\n",
       "      <td>David</td>\n",
       "      <td>48</td>\n",
       "      <td>68</td>\n",
       "      <td>0</td>\n",
       "    </tr>\n",
       "    <tr>\n",
       "      <th>6</th>\n",
       "      <td>Ismail</td>\n",
       "      <td>31</td>\n",
       "      <td>80</td>\n",
       "      <td>2</td>\n",
       "    </tr>\n",
       "    <tr>\n",
       "      <th>7</th>\n",
       "      <td>Sheela</td>\n",
       "      <td>55</td>\n",
       "      <td>60</td>\n",
       "      <td>0</td>\n",
       "    </tr>\n",
       "  </tbody>\n",
       "</table>\n",
       "</div>"
      ],
      "text/plain": [
       "      name  age  income  Cluster\n",
       "0      Rob   29      45        1\n",
       "1   Andrea   50      80        0\n",
       "2    Mohan   35      52        1\n",
       "3  Michael   32      41        1\n",
       "4     Kory   36      87        2\n",
       "5    David   48      68        0\n",
       "6   Ismail   31      80        2\n",
       "7   Sheela   55      60        0"
      ]
     },
     "execution_count": 7,
     "metadata": {},
     "output_type": "execute_result"
    }
   ],
   "source": [
    "df['Cluster'] = hc.labels_\n",
    "df"
   ]
  },
  {
   "cell_type": "markdown",
   "id": "9b3398bf",
   "metadata": {},
   "source": [
    "## 5. Visualizing Clustering Results\n",
    "\n",
    "We create a colored scatter plot where each cluster is represented by a different color. This visualization helps us:\n",
    "- Understand how the algorithm grouped similar data points\n",
    "- Validate that the clustering makes intuitive sense\n",
    "- Identify potential patterns in the data\n"
   ]
  },
  {
   "cell_type": "code",
   "execution_count": 9,
   "id": "762dba4c6442a2a",
   "metadata": {
    "ExecuteTime": {
     "end_time": "2025-10-20T12:18:14.662394Z",
     "start_time": "2025-10-20T12:18:14.615593Z"
    }
   },
   "outputs": [
    {
     "data": {
      "image/png": "[encoded data removed]",
      "text/plain": [
       "<Figure size 640x480 with 1 Axes>"
      ]
     },
     "metadata": {},
     "output_type": "display_data"
    }
   ],
   "source": [
    "sns.scatterplot(df, x='age', y='income', hue='Cluster', s=100, palette='Set1')\n",
    "plt.show()"
   ]
  },
  {
   "cell_type": "markdown",
   "id": "3273975e",
   "metadata": {},
   "source": [
    "## 6. Advanced Hierarchical Clustering with SciPy\n",
    "\n",
    "### Creating Linkage Matrix\n",
    "\n",
    "We use SciPy's hierarchical clustering functions for more detailed analysis:\n",
    "- **linkage()**: Creates a linkage matrix showing how clusters are formed\n",
    "- **method='average'**: Uses average linkage (UPGMA method)\n",
    "- The linkage matrix contains information about cluster merging at each step\n"
   ]
  },
  {
   "cell_type": "code",
   "execution_count": 10,
   "id": "2cf7608e33e17af8",
   "metadata": {
    "ExecuteTime": {
     "end_time": "2025-10-20T12:22:53.283414Z",
     "start_time": "2025-10-20T12:22:53.279798Z"
    }
   },
   "outputs": [
    {
     "data": {
      "text/plain": [
       "array([[ 0.        ,  3.        ,  5.        ,  2.        ],\n",
       "       [ 4.        ,  6.        ,  8.60232527,  2.        ],\n",
       "       [ 2.        ,  8.        , 10.31064935,  3.        ],\n",
       "       [ 5.        ,  7.        , 10.63014581,  2.        ],\n",
       "       [ 1.        , 11.        , 16.39052659,  3.        ],\n",
       "       [ 9.        , 12.        , 23.69824661,  5.        ],\n",
       "       [10.        , 13.        , 33.65863823,  8.        ]])"
      ]
     },
     "execution_count": 10,
     "metadata": {},
     "output_type": "execute_result"
    }
   ],
   "source": [
    "from scipy.cluster.hierarchy import dendrogram, linkage, fcluster\n",
    "\n",
    "X = df[['age', 'income']]\n",
    "Z = linkage(X, method='average')\n",
    "Z"
   ]
  },
  {
   "cell_type": "markdown",
   "id": "35bf255f",
   "metadata": {},
   "source": [
    "## 7. Dendrogram - Hierarchical Tree Visualization\n",
    "\n",
    "### Understanding the Dendrogram\n",
    "\n",
    "The dendrogram is a tree-like diagram that shows:\n",
    "- **Vertical axis (Distance)**: Measures dissimilarity between clusters\n",
    "- **Horizontal axis**: Individual data points (labeled with names)\n",
    "- **Tree structure**: Shows the order in which clusters are merged\n",
    "- **Height of branches**: Indicates the distance at which clusters are combined\n",
    "\n",
    "**How to read it:**\n",
    "- Lower branches represent more similar data points\n",
    "- Higher branches show where larger, more dissimilar clusters are merged\n",
    "- You can determine the optimal number of clusters by looking for large jumps in distance\n"
   ]
  },
  {
   "cell_type": "code",
   "execution_count": 13,
   "id": "177e203d7cc3dfd9",
   "metadata": {
    "ExecuteTime": {
     "end_time": "2025-10-20T12:25:27.858508Z",
     "start_time": "2025-10-20T12:25:27.805256Z"
    }
   },
   "outputs": [
    {
     "data": {
      "image/png": "[encoded data removed]",
      "text/plain": [
       "<Figure size 1000x700 with 1 Axes>"
      ]
     },
     "metadata": {},
     "output_type": "display_data"
    }
   ],
   "source": [
    "plt.figure(figsize=(10, 7))\n",
    "plt.title('Hierarchical Clustering Dendrogram')\n",
    "dendrogram(Z, labels=df['name'].values, leaf_rotation=90, leaf_font_size=10)\n",
    "plt.xlabel('Sample Index')\n",
    "plt.ylabel('Distance')\n",
    "plt.grid()\n",
    "plt.show()"
   ]
  },
  {
   "cell_type": "code",
   "execution_count": 28,
   "id": "b7b3451cd3715559",
   "metadata": {
    "ExecuteTime": {
     "end_time": "2025-10-20T12:30:04.577729Z",
     "start_time": "2025-10-20T12:30:04.532079Z"
    }
   },
   "outputs": [
    {
     "data": {
      "image/png": "[encoded data removed]",
      "text/plain": [
       "<Figure size 640x480 with 1 Axes>"
      ]
     },
     "metadata": {},
     "output_type": "display_data"
    }
   ],
   "source": [
    "sns.scatterplot(df, x='age', y='income', hue='Cluster', s=100, palette='Set1')\n",
    "plt.show()"
   ]
  }
 ],
 "metadata": {
  "kernelspec": {
   "display_name": "Python 3",
   "language": "python",
   "name": "python3"
  },
  "language_info": {
   "codemirror_mode": {
    "name": "ipython",
    "version": 2
   },
   "file_extension": ".py",
   "mimetype": "text/x-python",
   "name": "python",
   "nbconvert_exporter": "python",
   "pygments_lexer": "ipython2",
   "version": "2.7.6"
  }
 },
 "nbformat": 4,
 "nbformat_minor": 5
}
